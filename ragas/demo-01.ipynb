{
 "cells": [
  {
   "cell_type": "code",
   "execution_count": 1,
   "metadata": {
    "ExecuteTime": {
     "end_time": "2025-02-26T04:49:16.031188Z",
     "start_time": "2025-02-26T04:49:16.020Z"
    }
   },
   "outputs": [],
   "source": [
    "%load_ext autoreload\n",
    "%autoreload 2"
   ]
  },
  {
   "cell_type": "code",
   "execution_count": 2,
   "metadata": {
    "ExecuteTime": {
     "end_time": "2025-02-26T04:49:16.216822Z",
     "start_time": "2025-02-26T04:49:16.034217Z"
    }
   },
   "outputs": [],
   "source": [
    "import os\n",
    "import pandas as pd"
   ]
  },
  {
   "cell_type": "markdown",
   "metadata": {},
   "source": [
    "## Prepare the fake data to evaluate"
   ]
  },
  {
   "cell_type": "code",
   "execution_count": 3,
   "metadata": {
    "ExecuteTime": {
     "end_time": "2025-02-26T04:49:16.275284Z",
     "start_time": "2025-02-26T04:49:16.264405Z"
    }
   },
   "outputs": [
    {
     "data": {
      "text/html": [
       "<div>\n",
       "<style scoped>\n",
       "    .dataframe tbody tr th:only-of-type {\n",
       "        vertical-align: middle;\n",
       "    }\n",
       "\n",
       "    .dataframe tbody tr th {\n",
       "        vertical-align: top;\n",
       "    }\n",
       "\n",
       "    .dataframe thead th {\n",
       "        text-align: right;\n",
       "    }\n",
       "</style>\n",
       "<table border=\"1\" class=\"dataframe\">\n",
       "  <thead>\n",
       "    <tr style=\"text-align: right;\">\n",
       "      <th></th>\n",
       "      <th>reference</th>\n",
       "      <th>query</th>\n",
       "      <th>response</th>\n",
       "    </tr>\n",
       "  </thead>\n",
       "  <tbody>\n",
       "    <tr>\n",
       "      <th>0</th>\n",
       "      <td>The Eiffel Tower is located in Paris, France. ...</td>\n",
       "      <td>Where is the Eiffel Tower located?</td>\n",
       "      <td>The Eiffel Tower is located in Paris, France.</td>\n",
       "    </tr>\n",
       "    <tr>\n",
       "      <th>1</th>\n",
       "      <td>The Great Wall of China is over 13,000 miles l...</td>\n",
       "      <td>How long is the Great Wall of China?</td>\n",
       "      <td>The Great Wall of China is approximately 13,17...</td>\n",
       "    </tr>\n",
       "    <tr>\n",
       "      <th>2</th>\n",
       "      <td>The Amazon rainforest is the largest tropical ...</td>\n",
       "      <td>What is the largest tropical rainforest?</td>\n",
       "      <td>The Amazon rainforest is the largest tropical ...</td>\n",
       "    </tr>\n",
       "    <tr>\n",
       "      <th>3</th>\n",
       "      <td>Mount Everest is the highest mountain on Earth...</td>\n",
       "      <td>Which is the highest mountain on Earth?</td>\n",
       "      <td>Mount Everest, standing at 29,029 feet (8,848 ...</td>\n",
       "    </tr>\n",
       "    <tr>\n",
       "      <th>4</th>\n",
       "      <td>The Nile is the longest river in the world. It...</td>\n",
       "      <td>What is the longest river in the world?</td>\n",
       "      <td>The Nile River, at 6,650 kilometers (4,132 mil...</td>\n",
       "    </tr>\n",
       "  </tbody>\n",
       "</table>\n",
       "</div>"
      ],
      "text/plain": [
       "                                           reference  \\\n",
       "0  The Eiffel Tower is located in Paris, France. ...   \n",
       "1  The Great Wall of China is over 13,000 miles l...   \n",
       "2  The Amazon rainforest is the largest tropical ...   \n",
       "3  Mount Everest is the highest mountain on Earth...   \n",
       "4  The Nile is the longest river in the world. It...   \n",
       "\n",
       "                                      query  \\\n",
       "0        Where is the Eiffel Tower located?   \n",
       "1      How long is the Great Wall of China?   \n",
       "2  What is the largest tropical rainforest?   \n",
       "3   Which is the highest mountain on Earth?   \n",
       "4   What is the longest river in the world?   \n",
       "\n",
       "                                            response  \n",
       "0      The Eiffel Tower is located in Paris, France.  \n",
       "1  The Great Wall of China is approximately 13,17...  \n",
       "2  The Amazon rainforest is the largest tropical ...  \n",
       "3  Mount Everest, standing at 29,029 feet (8,848 ...  \n",
       "4  The Nile River, at 6,650 kilometers (4,132 mil...  "
      ]
     },
     "execution_count": 3,
     "metadata": {},
     "output_type": "execute_result"
    }
   ],
   "source": [
    "df = pd.DataFrame(\n",
    "    [\n",
    "        {\n",
    "            \"reference\": \"The Eiffel Tower is located in Paris, France. It was constructed in 1889 as the entrance arch to the 1889 World's Fair.\",\n",
    "            \"query\": \"Where is the Eiffel Tower located?\",\n",
    "            \"response\": \"The Eiffel Tower is located in Paris, France.\",\n",
    "        },\n",
    "        {\n",
    "            \"reference\": \"The Great Wall of China is over 13,000 miles long. It was built over many centuries by various Chinese dynasties to protect against nomadic invasions.\",\n",
    "            \"query\": \"How long is the Great Wall of China?\",\n",
    "            \"response\": \"The Great Wall of China is approximately 13,171 miles (21,196 kilometers) long.\",\n",
    "        },\n",
    "        {\n",
    "            \"reference\": \"The Amazon rainforest is the largest tropical rainforest in the world. It covers much of northwestern Brazil and extends into Colombia, Peru and other South American countries.\",\n",
    "            \"query\": \"What is the largest tropical rainforest?\",\n",
    "            \"response\": \"The Amazon rainforest is the largest tropical rainforest in the world. It is home to the largest number of plant and animal species in the world.\",\n",
    "        },\n",
    "        {\n",
    "            \"reference\": \"Mount Everest is the highest mountain on Earth. It is located in the Mahalangur Himal sub-range of the Himalayas, straddling the border between Nepal and Tibet.\",\n",
    "            \"query\": \"Which is the highest mountain on Earth?\",\n",
    "            \"response\": \"Mount Everest, standing at 29,029 feet (8,848 meters), is the highest mountain on Earth.\",\n",
    "        },\n",
    "        {\n",
    "            \"reference\": \"The Nile is the longest river in the world. It flows northward through northeastern Africa for approximately 6,650 km (4,132 miles) from its most distant source in Burundi to the Mediterranean Sea.\",\n",
    "            \"query\": \"What is the longest river in the world?\",\n",
    "            \"response\": \"The Nile River, at 6,650 kilometers (4,132 miles), is the longest river in the world.\",\n",
    "        },\n",
    "        {\n",
    "            \"reference\": \"The Mona Lisa was painted by Leonardo da Vinci. It is considered an archetypal masterpiece of the Italian Renaissance and has been described as 'the best known, the most visited, the most written about, the most sung about, the most parodied work of art in the world'.\",\n",
    "            \"query\": \"Who painted the Mona Lisa?\",\n",
    "            \"response\": \"The Mona Lisa was painted by the Italian Renaissance artist Leonardo da Vinci.\",\n",
    "        },\n",
    "        {\n",
    "            \"reference\": \"The human body has 206 bones. These bones provide structure, protect organs, anchor muscles, and store calcium.\",\n",
    "            \"query\": \"How many bones are in the human body?\",\n",
    "            \"response\": \"The adult human body typically has 256 bones.\",\n",
    "        },\n",
    "        {\n",
    "            \"reference\": \"Jupiter is the largest planet in our solar system. It is a gas giant with a mass more than two and a half times that of all the other planets in the solar system combined.\",\n",
    "            \"query\": \"Which planet is the largest in our solar system?\",\n",
    "            \"response\": \"Jupiter is the largest planet in our solar system.\",\n",
    "        },\n",
    "        {\n",
    "            \"reference\": \"William Shakespeare wrote 'Romeo and Juliet'. It is a tragedy about two young star-crossed lovers whose deaths ultimately reconcile their feuding families.\",\n",
    "            \"query\": \"Who wrote 'Romeo and Juliet'?\",\n",
    "            \"response\": \"The play 'Romeo and Juliet' was written by William Shakespeare.\",\n",
    "        },\n",
    "        {\n",
    "            \"reference\": \"The first moon landing occurred in 1969. On July 20, 1969, American astronauts Neil Armstrong and Edwin 'Buzz' Aldrin became the first humans to land on the moon as part of the Apollo 11 mission.\",\n",
    "            \"query\": \"When did the first moon landing occur?\",\n",
    "            \"response\": \"The first moon landing took place on July 20, 1969.\",\n",
    "        },\n",
    "    ]\n",
    ")\n",
    "df.head()"
   ]
  },
  {
   "cell_type": "markdown",
   "metadata": {},
   "source": [
    "## Configure some environment variables"
   ]
  },
  {
   "cell_type": "code",
   "execution_count": 4,
   "metadata": {
    "ExecuteTime": {
     "end_time": "2025-02-26T04:49:16.302938Z",
     "start_time": "2025-02-26T04:49:16.295714Z"
    }
   },
   "outputs": [],
   "source": [
    "os.environ[\"GOOGLE_APPLICATION_CREDENTIALS\"] = (\n",
    "    # \"/home/stackops/secret/work/vngcloud/ai-platform/vertex-ai-credential.json\"\n",
    "    \"/Users/cuongdm8499/Me/git-cuongpiger/secret/work/vngcloud/ai-platform/vertex-ai-credential.json\"\n",
    ")"
   ]
  },
  {
   "cell_type": "code",
   "execution_count": 5,
   "metadata": {
    "ExecuteTime": {
     "end_time": "2025-02-26T04:49:17.538976Z",
     "start_time": "2025-02-26T04:49:16.319848Z"
    }
   },
   "outputs": [
    {
     "name": "stderr",
     "output_type": "stream",
     "text": [
      "/opt/anaconda3/envs/llm-evaluation/lib/python3.10/site-packages/tqdm/auto.py:21: TqdmWarning: IProgress not found. Please update jupyter and ipywidgets. See https://ipywidgets.readthedocs.io/en/stable/user_install.html\n",
      "  from .autonotebook import tqdm as notebook_tqdm\n"
     ]
    }
   ],
   "source": [
    "import nest_asyncio\n",
    "\n",
    "from phoenix.evals import HallucinationEvaluator, VertexAIModel, QAEvaluator, run_evals"
   ]
  },
  {
   "cell_type": "code",
   "execution_count": 6,
   "metadata": {
    "ExecuteTime": {
     "end_time": "2025-02-26T04:49:17.553650Z",
     "start_time": "2025-02-26T04:49:17.541768Z"
    }
   },
   "outputs": [],
   "source": [
    "nest_asyncio.apply()  # This is needed for concurrency in notebook environments"
   ]
  },
  {
   "cell_type": "code",
   "execution_count": 7,
   "metadata": {
    "ExecuteTime": {
     "end_time": "2025-02-26T04:49:40.561936Z",
     "start_time": "2025-02-26T04:49:39.025907Z"
    }
   },
   "outputs": [],
   "source": [
    "# Set your VertextAI model\n",
    "eval_model = VertexAIModel(project=\"boreal-dock-366706\")"
   ]
  },
  {
   "cell_type": "code",
   "execution_count": 8,
   "metadata": {},
   "outputs": [
    {
     "name": "stderr",
     "output_type": "stream",
     "text": [
      "run_evals |          | 0/20 (0.0%) | ⏳ 00:08<? | ?it/s "
     ]
    },
    {
     "name": "stdout",
     "output_type": "stream",
     "text": [
      "Exception in worker on attempt 1: raised FailedPrecondition('Project `107495639396` is not allowed to use Publisher Model `projects/boreal-dock-366706/locations/us-central1/publishers/google/models/text-bison@002`')\n",
      "Requeuing...\n",
      "Exception in worker on attempt 1: raised FailedPrecondition('Project `107495639396` is not allowed to use Publisher Model `projects/boreal-dock-366706/locations/us-central1/publishers/google/models/text-bison@002`')\n",
      "Requeuing...\n",
      "Exception in worker on attempt 1: raised FailedPrecondition('Project `107495639396` is not allowed to use Publisher Model `projects/boreal-dock-366706/locations/us-central1/publishers/google/models/text-bison@002`')\n",
      "Requeuing...\n",
      "Exception in worker on attempt 1: raised FailedPrecondition('Project `107495639396` is not allowed to use Publisher Model `projects/boreal-dock-366706/locations/us-central1/publishers/google/models/text-bison@002`')\n",
      "Requeuing...\n",
      "Exception in worker on attempt 1: raised FailedPrecondition('Project `107495639396` is not allowed to use Publisher Model `projects/boreal-dock-366706/locations/us-central1/publishers/google/models/text-bison@002`')\n",
      "Requeuing...\n",
      "Exception in worker on attempt 1: raised FailedPrecondition('Project `107495639396` is not allowed to use Publisher Model `projects/boreal-dock-366706/locations/us-central1/publishers/google/models/text-bison@002`')\n",
      "Requeuing...\n",
      "Exception in worker on attempt 1: raised FailedPrecondition('Project `107495639396` is not allowed to use Publisher Model `projects/boreal-dock-366706/locations/us-central1/publishers/google/models/text-bison@002`')\n",
      "Requeuing...\n",
      "Exception in worker on attempt 1: raised FailedPrecondition('Project `107495639396` is not allowed to use Publisher Model `projects/boreal-dock-366706/locations/us-central1/publishers/google/models/text-bison@002`')\n",
      "Requeuing...\n",
      "Exception in worker on attempt 1: raised FailedPrecondition('Project `107495639396` is not allowed to use Publisher Model `projects/boreal-dock-366706/locations/us-central1/publishers/google/models/text-bison@002`')\n",
      "Requeuing...\n",
      "Exception in worker on attempt 1: raised FailedPrecondition('Project `107495639396` is not allowed to use Publisher Model `projects/boreal-dock-366706/locations/us-central1/publishers/google/models/text-bison@002`')\n",
      "Requeuing...\n",
      "Exception in worker on attempt 1: raised FailedPrecondition('Project `107495639396` is not allowed to use Publisher Model `projects/boreal-dock-366706/locations/us-central1/publishers/google/models/text-bison@002`')\n",
      "Requeuing...\n",
      "Exception in worker on attempt 1: raised FailedPrecondition('Project `107495639396` is not allowed to use Publisher Model `projects/boreal-dock-366706/locations/us-central1/publishers/google/models/text-bison@002`')\n",
      "Requeuing...\n",
      "Exception in worker on attempt 1: raised FailedPrecondition('Project `107495639396` is not allowed to use Publisher Model `projects/boreal-dock-366706/locations/us-central1/publishers/google/models/text-bison@002`')\n",
      "Requeuing...\n",
      "Exception in worker on attempt 1: raised FailedPrecondition('Project `107495639396` is not allowed to use Publisher Model `projects/boreal-dock-366706/locations/us-central1/publishers/google/models/text-bison@002`')\n",
      "Requeuing...\n",
      "Exception in worker on attempt 1: raised FailedPrecondition('Project `107495639396` is not allowed to use Publisher Model `projects/boreal-dock-366706/locations/us-central1/publishers/google/models/text-bison@002`')\n",
      "Requeuing...\n",
      "Exception in worker on attempt 1: raised FailedPrecondition('Project `107495639396` is not allowed to use Publisher Model `projects/boreal-dock-366706/locations/us-central1/publishers/google/models/text-bison@002`')\n",
      "Requeuing...\n",
      "Exception in worker on attempt 1: raised FailedPrecondition('Project `107495639396` is not allowed to use Publisher Model `projects/boreal-dock-366706/locations/us-central1/publishers/google/models/text-bison@002`')\n",
      "Requeuing...\n",
      "Exception in worker on attempt 1: raised FailedPrecondition('Project `107495639396` is not allowed to use Publisher Model `projects/boreal-dock-366706/locations/us-central1/publishers/google/models/text-bison@002`')\n",
      "Requeuing...\n",
      "Exception in worker on attempt 1: raised FailedPrecondition('Project `107495639396` is not allowed to use Publisher Model `projects/boreal-dock-366706/locations/us-central1/publishers/google/models/text-bison@002`')\n",
      "Requeuing...\n",
      "Exception in worker on attempt 1: raised FailedPrecondition('Project `107495639396` is not allowed to use Publisher Model `projects/boreal-dock-366706/locations/us-central1/publishers/google/models/text-bison@002`')\n",
      "Requeuing...\n"
     ]
    },
    {
     "name": "stderr",
     "output_type": "stream",
     "text": [
      "run_evals |          | 0/20 (0.0%) | ⏳ 00:14<? | ?it/s "
     ]
    },
    {
     "name": "stdout",
     "output_type": "stream",
     "text": [
      "Exception in worker on attempt 2: raised FailedPrecondition('Project `107495639396` is not allowed to use Publisher Model `projects/boreal-dock-366706/locations/us-central1/publishers/google/models/text-bison@002`')\n",
      "Requeuing...\n",
      "Exception in worker on attempt 2: raised FailedPrecondition('Project `107495639396` is not allowed to use Publisher Model `projects/boreal-dock-366706/locations/us-central1/publishers/google/models/text-bison@002`')\n",
      "Requeuing...\n",
      "Exception in worker on attempt 2: raised FailedPrecondition('Project `107495639396` is not allowed to use Publisher Model `projects/boreal-dock-366706/locations/us-central1/publishers/google/models/text-bison@002`')\n",
      "Requeuing...\n",
      "Exception in worker on attempt 2: raised FailedPrecondition('Project `107495639396` is not allowed to use Publisher Model `projects/boreal-dock-366706/locations/us-central1/publishers/google/models/text-bison@002`')\n",
      "Requeuing...\n",
      "Exception in worker on attempt 2: raised FailedPrecondition('Project `107495639396` is not allowed to use Publisher Model `projects/boreal-dock-366706/locations/us-central1/publishers/google/models/text-bison@002`')\n",
      "Requeuing...\n",
      "Exception in worker on attempt 2: raised FailedPrecondition('Project `107495639396` is not allowed to use Publisher Model `projects/boreal-dock-366706/locations/us-central1/publishers/google/models/text-bison@002`')\n",
      "Requeuing...\n",
      "Exception in worker on attempt 2: raised FailedPrecondition('Project `107495639396` is not allowed to use Publisher Model `projects/boreal-dock-366706/locations/us-central1/publishers/google/models/text-bison@002`')\n",
      "Requeuing...\n",
      "Exception in worker on attempt 2: raised FailedPrecondition('Project `107495639396` is not allowed to use Publisher Model `projects/boreal-dock-366706/locations/us-central1/publishers/google/models/text-bison@002`')\n",
      "Requeuing...\n",
      "Exception in worker on attempt 2: raised FailedPrecondition('Project `107495639396` is not allowed to use Publisher Model `projects/boreal-dock-366706/locations/us-central1/publishers/google/models/text-bison@002`')\n",
      "Requeuing...\n",
      "Exception in worker on attempt 2: raised FailedPrecondition('Project `107495639396` is not allowed to use Publisher Model `projects/boreal-dock-366706/locations/us-central1/publishers/google/models/text-bison@002`')\n",
      "Requeuing...\n",
      "Exception in worker on attempt 2: raised FailedPrecondition('Project `107495639396` is not allowed to use Publisher Model `projects/boreal-dock-366706/locations/us-central1/publishers/google/models/text-bison@002`')\n",
      "Requeuing...\n",
      "Exception in worker on attempt 2: raised FailedPrecondition('Project `107495639396` is not allowed to use Publisher Model `projects/boreal-dock-366706/locations/us-central1/publishers/google/models/text-bison@002`')\n",
      "Requeuing...\n",
      "Exception in worker on attempt 2: raised FailedPrecondition('Project `107495639396` is not allowed to use Publisher Model `projects/boreal-dock-366706/locations/us-central1/publishers/google/models/text-bison@002`')\n",
      "Requeuing...\n",
      "Exception in worker on attempt 2: raised FailedPrecondition('Project `107495639396` is not allowed to use Publisher Model `projects/boreal-dock-366706/locations/us-central1/publishers/google/models/text-bison@002`')\n",
      "Requeuing...\n",
      "Exception in worker on attempt 2: raised FailedPrecondition('Project `107495639396` is not allowed to use Publisher Model `projects/boreal-dock-366706/locations/us-central1/publishers/google/models/text-bison@002`')\n",
      "Requeuing...\n",
      "Exception in worker on attempt 2: raised FailedPrecondition('Project `107495639396` is not allowed to use Publisher Model `projects/boreal-dock-366706/locations/us-central1/publishers/google/models/text-bison@002`')\n",
      "Requeuing...\n",
      "Exception in worker on attempt 2: raised FailedPrecondition('Project `107495639396` is not allowed to use Publisher Model `projects/boreal-dock-366706/locations/us-central1/publishers/google/models/text-bison@002`')\n",
      "Requeuing...\n",
      "Exception in worker on attempt 2: raised FailedPrecondition('Project `107495639396` is not allowed to use Publisher Model `projects/boreal-dock-366706/locations/us-central1/publishers/google/models/text-bison@002`')\n",
      "Requeuing...\n",
      "Exception in worker on attempt 2: raised FailedPrecondition('Project `107495639396` is not allowed to use Publisher Model `projects/boreal-dock-366706/locations/us-central1/publishers/google/models/text-bison@002`')\n",
      "Requeuing...\n",
      "Exception in worker on attempt 2: raised FailedPrecondition('Project `107495639396` is not allowed to use Publisher Model `projects/boreal-dock-366706/locations/us-central1/publishers/google/models/text-bison@002`')\n",
      "Requeuing...\n"
     ]
    },
    {
     "name": "stderr",
     "output_type": "stream",
     "text": [
      "run_evals |          | 0/20 (0.0%) | ⏳ 00:22<? | ?it/s "
     ]
    },
    {
     "name": "stdout",
     "output_type": "stream",
     "text": [
      "Exception in worker on attempt 3: raised FailedPrecondition('Project `107495639396` is not allowed to use Publisher Model `projects/boreal-dock-366706/locations/us-central1/publishers/google/models/text-bison@002`')\n",
      "Requeuing...\n",
      "Exception in worker on attempt 3: raised FailedPrecondition('Project `107495639396` is not allowed to use Publisher Model `projects/boreal-dock-366706/locations/us-central1/publishers/google/models/text-bison@002`')\n",
      "Requeuing...\n",
      "Exception in worker on attempt 3: raised FailedPrecondition('Project `107495639396` is not allowed to use Publisher Model `projects/boreal-dock-366706/locations/us-central1/publishers/google/models/text-bison@002`')\n",
      "Requeuing...\n",
      "Exception in worker on attempt 3: raised FailedPrecondition('Project `107495639396` is not allowed to use Publisher Model `projects/boreal-dock-366706/locations/us-central1/publishers/google/models/text-bison@002`')\n",
      "Requeuing...\n",
      "Exception in worker on attempt 3: raised FailedPrecondition('Project `107495639396` is not allowed to use Publisher Model `projects/boreal-dock-366706/locations/us-central1/publishers/google/models/text-bison@002`')\n",
      "Requeuing...\n",
      "Exception in worker on attempt 3: raised FailedPrecondition('Project `107495639396` is not allowed to use Publisher Model `projects/boreal-dock-366706/locations/us-central1/publishers/google/models/text-bison@002`')\n",
      "Requeuing...\n",
      "Exception in worker on attempt 3: raised FailedPrecondition('Project `107495639396` is not allowed to use Publisher Model `projects/boreal-dock-366706/locations/us-central1/publishers/google/models/text-bison@002`')\n",
      "Requeuing...\n",
      "Exception in worker on attempt 3: raised FailedPrecondition('Project `107495639396` is not allowed to use Publisher Model `projects/boreal-dock-366706/locations/us-central1/publishers/google/models/text-bison@002`')\n",
      "Requeuing...\n",
      "Exception in worker on attempt 3: raised FailedPrecondition('Project `107495639396` is not allowed to use Publisher Model `projects/boreal-dock-366706/locations/us-central1/publishers/google/models/text-bison@002`')\n",
      "Requeuing...\n",
      "Exception in worker on attempt 3: raised FailedPrecondition('Project `107495639396` is not allowed to use Publisher Model `projects/boreal-dock-366706/locations/us-central1/publishers/google/models/text-bison@002`')\n",
      "Requeuing...\n",
      "Exception in worker on attempt 3: raised FailedPrecondition('Project `107495639396` is not allowed to use Publisher Model `projects/boreal-dock-366706/locations/us-central1/publishers/google/models/text-bison@002`')\n",
      "Requeuing...\n",
      "Exception in worker on attempt 3: raised FailedPrecondition('Project `107495639396` is not allowed to use Publisher Model `projects/boreal-dock-366706/locations/us-central1/publishers/google/models/text-bison@002`')\n",
      "Requeuing...\n",
      "Exception in worker on attempt 3: raised FailedPrecondition('Project `107495639396` is not allowed to use Publisher Model `projects/boreal-dock-366706/locations/us-central1/publishers/google/models/text-bison@002`')\n",
      "Requeuing...\n",
      "Exception in worker on attempt 3: raised FailedPrecondition('Project `107495639396` is not allowed to use Publisher Model `projects/boreal-dock-366706/locations/us-central1/publishers/google/models/text-bison@002`')\n",
      "Requeuing...\n",
      "Exception in worker on attempt 3: raised FailedPrecondition('Project `107495639396` is not allowed to use Publisher Model `projects/boreal-dock-366706/locations/us-central1/publishers/google/models/text-bison@002`')\n",
      "Requeuing...\n",
      "Exception in worker on attempt 3: raised FailedPrecondition('Project `107495639396` is not allowed to use Publisher Model `projects/boreal-dock-366706/locations/us-central1/publishers/google/models/text-bison@002`')\n",
      "Requeuing...\n",
      "Exception in worker on attempt 3: raised FailedPrecondition('Project `107495639396` is not allowed to use Publisher Model `projects/boreal-dock-366706/locations/us-central1/publishers/google/models/text-bison@002`')\n",
      "Requeuing...\n",
      "Exception in worker on attempt 3: raised FailedPrecondition('Project `107495639396` is not allowed to use Publisher Model `projects/boreal-dock-366706/locations/us-central1/publishers/google/models/text-bison@002`')\n",
      "Requeuing...\n",
      "Exception in worker on attempt 3: raised FailedPrecondition('Project `107495639396` is not allowed to use Publisher Model `projects/boreal-dock-366706/locations/us-central1/publishers/google/models/text-bison@002`')\n",
      "Requeuing...\n",
      "Exception in worker on attempt 3: raised FailedPrecondition('Project `107495639396` is not allowed to use Publisher Model `projects/boreal-dock-366706/locations/us-central1/publishers/google/models/text-bison@002`')\n",
      "Requeuing...\n"
     ]
    },
    {
     "name": "stderr",
     "output_type": "stream",
     "text": [
      "run_evals |          | 0/20 (0.0%) | ⏳ 00:23<? | ?it/s "
     ]
    },
    {
     "name": "stdout",
     "output_type": "stream",
     "text": [
      "Process was interrupted. The return value will be incomplete...\n"
     ]
    },
    {
     "name": "stderr",
     "output_type": "stream",
     "text": [
      "run_evals |          | 0/20 (0.0%) | ⏳ 00:27<? | ?it/s "
     ]
    },
    {
     "name": "stdout",
     "output_type": "stream",
     "text": [
      "Exception in worker on attempt 4: raised FailedPrecondition('Project `107495639396` is not allowed to use Publisher Model `projects/boreal-dock-366706/locations/us-central1/publishers/google/models/text-bison@002`')\n",
      "Requeuing...\n",
      "Exception in worker on attempt 4: raised FailedPrecondition('Project `107495639396` is not allowed to use Publisher Model `projects/boreal-dock-366706/locations/us-central1/publishers/google/models/text-bison@002`')\n",
      "Requeuing...\n",
      "Exception in worker on attempt 4: raised FailedPrecondition('Project `107495639396` is not allowed to use Publisher Model `projects/boreal-dock-366706/locations/us-central1/publishers/google/models/text-bison@002`')\n",
      "Requeuing...\n",
      "Exception in worker on attempt 4: raised FailedPrecondition('Project `107495639396` is not allowed to use Publisher Model `projects/boreal-dock-366706/locations/us-central1/publishers/google/models/text-bison@002`')\n",
      "Requeuing...\n",
      "Exception in worker on attempt 4: raised FailedPrecondition('Project `107495639396` is not allowed to use Publisher Model `projects/boreal-dock-366706/locations/us-central1/publishers/google/models/text-bison@002`')\n",
      "Requeuing...\n",
      "Exception in worker on attempt 4: raised FailedPrecondition('Project `107495639396` is not allowed to use Publisher Model `projects/boreal-dock-366706/locations/us-central1/publishers/google/models/text-bison@002`')\n",
      "Requeuing...\n",
      "Exception in worker on attempt 4: raised FailedPrecondition('Project `107495639396` is not allowed to use Publisher Model `projects/boreal-dock-366706/locations/us-central1/publishers/google/models/text-bison@002`')\n",
      "Requeuing...\n",
      "Exception in worker on attempt 4: raised FailedPrecondition('Project `107495639396` is not allowed to use Publisher Model `projects/boreal-dock-366706/locations/us-central1/publishers/google/models/text-bison@002`')\n",
      "Requeuing...\n",
      "Exception in worker on attempt 4: raised FailedPrecondition('Project `107495639396` is not allowed to use Publisher Model `projects/boreal-dock-366706/locations/us-central1/publishers/google/models/text-bison@002`')\n",
      "Requeuing...\n",
      "Exception in worker on attempt 4: raised FailedPrecondition('Project `107495639396` is not allowed to use Publisher Model `projects/boreal-dock-366706/locations/us-central1/publishers/google/models/text-bison@002`')\n",
      "Requeuing...\n",
      "Exception in worker on attempt 4: raised FailedPrecondition('Project `107495639396` is not allowed to use Publisher Model `projects/boreal-dock-366706/locations/us-central1/publishers/google/models/text-bison@002`')\n",
      "Requeuing...\n",
      "Exception in worker on attempt 4: raised FailedPrecondition('Project `107495639396` is not allowed to use Publisher Model `projects/boreal-dock-366706/locations/us-central1/publishers/google/models/text-bison@002`')\n",
      "Requeuing...\n",
      "Exception in worker on attempt 4: raised FailedPrecondition('Project `107495639396` is not allowed to use Publisher Model `projects/boreal-dock-366706/locations/us-central1/publishers/google/models/text-bison@002`')\n",
      "Requeuing...\n",
      "Exception in worker on attempt 4: raised FailedPrecondition('Project `107495639396` is not allowed to use Publisher Model `projects/boreal-dock-366706/locations/us-central1/publishers/google/models/text-bison@002`')\n",
      "Requeuing...\n",
      "Exception in worker on attempt 4: raised FailedPrecondition('Project `107495639396` is not allowed to use Publisher Model `projects/boreal-dock-366706/locations/us-central1/publishers/google/models/text-bison@002`')\n",
      "Requeuing...\n",
      "Exception in worker on attempt 4: raised FailedPrecondition('Project `107495639396` is not allowed to use Publisher Model `projects/boreal-dock-366706/locations/us-central1/publishers/google/models/text-bison@002`')\n",
      "Requeuing...\n",
      "Exception in worker on attempt 4: raised FailedPrecondition('Project `107495639396` is not allowed to use Publisher Model `projects/boreal-dock-366706/locations/us-central1/publishers/google/models/text-bison@002`')\n",
      "Requeuing...\n",
      "Exception in worker on attempt 4: raised FailedPrecondition('Project `107495639396` is not allowed to use Publisher Model `projects/boreal-dock-366706/locations/us-central1/publishers/google/models/text-bison@002`')\n",
      "Requeuing...\n",
      "Exception in worker on attempt 4: raised FailedPrecondition('Project `107495639396` is not allowed to use Publisher Model `projects/boreal-dock-366706/locations/us-central1/publishers/google/models/text-bison@002`')\n",
      "Requeuing...\n",
      "Exception in worker on attempt 4: raised FailedPrecondition('Project `107495639396` is not allowed to use Publisher Model `projects/boreal-dock-366706/locations/us-central1/publishers/google/models/text-bison@002`')\n",
      "Requeuing...\n"
     ]
    }
   ],
   "source": [
    "# Define your evaluators\n",
    "hallucination_evaluator = HallucinationEvaluator(eval_model)\n",
    "qa_evaluator = QAEvaluator(eval_model)\n",
    "\n",
    "# We have to make some minor changes to our dataframe to use the column names expected by our evaluators\n",
    "# for `hallucination_evaluator` the input df needs to have columns 'output', 'input', 'context'\n",
    "# for `qa_evaluator` the input df needs to have columns 'output', 'input', 'reference'\n",
    "df[\"context\"] = df[\"reference\"]\n",
    "df.rename(columns={\"query\": \"input\", \"response\": \"output\"}, inplace=True)\n",
    "assert all(\n",
    "    column in df.columns for column in [\"output\", \"input\", \"context\", \"reference\"]\n",
    ")\n",
    "\n",
    "# Run the evaluators, each evaluator will return a dataframe with evaluation results\n",
    "# We upload the evaluation results to Phoenix in the next step\n",
    "hallucination_eval_df, qa_eval_df = run_evals(\n",
    "    dataframe=df,\n",
    "    evaluators=[hallucination_evaluator, qa_evaluator],\n",
    "    provide_explanation=True,\n",
    ")"
   ]
  },
  {
   "cell_type": "code",
   "execution_count": null,
   "metadata": {},
   "outputs": [],
   "source": []
  },
  {
   "cell_type": "code",
   "execution_count": 1,
   "metadata": {},
   "outputs": [
    {
     "name": "stderr",
     "output_type": "stream",
     "text": [
      "/opt/anaconda3/envs/llm-evaluation/lib/python3.10/site-packages/tqdm/auto.py:21: TqdmWarning: IProgress not found. Please update jupyter and ipywidgets. See https://ipywidgets.readthedocs.io/en/stable/user_install.html\n",
      "  from .autonotebook import tqdm as notebook_tqdm\n"
     ]
    }
   ],
   "source": [
    "from ragas import evaluate"
   ]
  },
  {
   "cell_type": "code",
   "execution_count": null,
   "metadata": {},
   "outputs": [],
   "source": [
    "evaluate"
   ]
  },
  {
   "metadata": {
    "ExecuteTime": {
     "end_time": "2025-02-26T06:30:26.290164Z",
     "start_time": "2025-02-26T06:30:26.287453Z"
    }
   },
   "cell_type": "code",
   "source": [
    "import os\n",
    "\n",
    "from langchain_google_vertexai import VertexAI, VertexAIEmbeddings\n"
   ],
   "outputs": [],
   "execution_count": 14
  },
  {
   "metadata": {
    "ExecuteTime": {
     "end_time": "2025-02-26T06:23:53.512505Z",
     "start_time": "2025-02-26T06:23:53.510683Z"
    }
   },
   "cell_type": "code",
   "source": [
    "os.environ[\"GOOGLE_APPLICATION_CREDENTIALS\"] = (\n",
    "    # \"/home/stackops/secret/work/vngcloud/ai-platform/vertex-ai-credential.json\"\n",
    "    \"/Users/cuongdm8499/Me/git-cuongpiger/secret/work/vngcloud/ai-platform/vertex-ai-credential.json\" # MacOS m4 pro\n",
    ")"
   ],
   "outputs": [],
   "execution_count": 4
  },
  {
   "metadata": {
    "ExecuteTime": {
     "end_time": "2025-02-26T06:24:06.658216Z",
     "start_time": "2025-02-26T06:24:06.599159Z"
    }
   },
   "cell_type": "code",
   "source": [
    "model = VertexAI(model_name=\"gemini-pro\")\n",
    "\n"
   ],
   "outputs": [],
   "execution_count": 5
  },
  {
   "metadata": {
    "ExecuteTime": {
     "end_time": "2025-02-26T06:25:46.661569Z",
     "start_time": "2025-02-26T06:25:46.659174Z"
    }
   },
   "cell_type": "code",
   "source": [
    "from ragas import evaluate\n",
    "from ragas.metrics import (\n",
    "    faithfulness,\n",
    "    answer_relevancy,\n",
    "    context_recall,\n",
    "    context_precision,\n",
    ")\n"
   ],
   "outputs": [],
   "execution_count": 7
  },
  {
   "metadata": {
    "ExecuteTime": {
     "end_time": "2025-02-26T06:28:06.867788Z",
     "start_time": "2025-02-26T06:27:55.357129Z"
    }
   },
   "cell_type": "code",
   "source": [
    "from datasets import Dataset\n",
    "\n",
    "questions = [\"What did the president say about Justice Breyer?\",\n",
    "             \"What did the president say about Intel's CEO?\",\n",
    "             \"What did the president say about gun violence?\",\n",
    "            ]\n",
    "ground_truths = [[\"The president said that Justice Breyer has dedicated his life to serve the country and thanked him for his service.\"],\n",
    "                [\"The president said that Pat Gelsinger is ready to increase Intel's investment to $100 billion.\"],\n",
    "                [\"The president asked Congress to pass proven measures to reduce gun violence.\"]]\n",
    "answers = []\n",
    "contexts = []\n",
    "\n",
    "# Inference\n",
    "for query in questions:\n",
    "  answers.append(model.invoke(query))\n",
    "  contexts.append([])\n",
    "\n",
    "# To dict\n",
    "data = {\n",
    "    \"question\": questions,\n",
    "    \"answer\": answers,\n",
    "    \"contexts\": contexts,\n",
    "    \"ground_truths\": ground_truths\n",
    "}\n",
    "\n",
    "# Convert dict to dataset\n",
    "dataset = Dataset.from_dict(data)\n"
   ],
   "outputs": [],
   "execution_count": 11
  },
  {
   "metadata": {
    "ExecuteTime": {
     "end_time": "2025-02-26T06:30:53.276051Z",
     "start_time": "2025-02-26T06:30:37.939073Z"
    }
   },
   "cell_type": "code",
   "source": [
    "result = evaluate(\n",
    "    llm=model,\n",
    "    dataset = dataset,\n",
    "    embeddings=VertexAIEmbeddings(model=\"text-embedding-004\"),\n",
    "    metrics=[\n",
    "        faithfulness,\n",
    "        answer_relevancy,\n",
    "    ],\n",
    ")\n",
    "\n",
    "df = result.to_pandas()"
   ],
   "outputs": [
    {
     "name": "stderr",
     "output_type": "stream",
     "text": [
      "Evaluating: 100%|██████████| 6/6 [00:12<00:00,  2.06s/it]\n"
     ]
    }
   ],
   "execution_count": 15
  },
  {
   "metadata": {
    "ExecuteTime": {
     "end_time": "2025-02-26T06:30:58.108626Z",
     "start_time": "2025-02-26T06:30:58.103194Z"
    }
   },
   "cell_type": "code",
   "source": "df",
   "outputs": [
    {
     "data": {
      "text/plain": [
       "                                         user_input retrieved_contexts  \\\n",
       "0  What did the president say about Justice Breyer?                 []   \n",
       "1     What did the president say about Intel's CEO?                 []   \n",
       "2    What did the president say about gun violence?                 []   \n",
       "\n",
       "                                            response  faithfulness  \\\n",
       "0  On January 26, 2022, President Biden announced...           1.0   \n",
       "1  I'm sorry, but I'm not able to answer that que...           1.0   \n",
       "2  I cannot answer that question because it refer...           0.8   \n",
       "\n",
       "   answer_relevancy  \n",
       "0            0.7326  \n",
       "1            0.0000  \n",
       "2            0.0000  "
      ],
      "text/html": [
       "<div>\n",
       "<style scoped>\n",
       "    .dataframe tbody tr th:only-of-type {\n",
       "        vertical-align: middle;\n",
       "    }\n",
       "\n",
       "    .dataframe tbody tr th {\n",
       "        vertical-align: top;\n",
       "    }\n",
       "\n",
       "    .dataframe thead th {\n",
       "        text-align: right;\n",
       "    }\n",
       "</style>\n",
       "<table border=\"1\" class=\"dataframe\">\n",
       "  <thead>\n",
       "    <tr style=\"text-align: right;\">\n",
       "      <th></th>\n",
       "      <th>user_input</th>\n",
       "      <th>retrieved_contexts</th>\n",
       "      <th>response</th>\n",
       "      <th>faithfulness</th>\n",
       "      <th>answer_relevancy</th>\n",
       "    </tr>\n",
       "  </thead>\n",
       "  <tbody>\n",
       "    <tr>\n",
       "      <th>0</th>\n",
       "      <td>What did the president say about Justice Breyer?</td>\n",
       "      <td>[]</td>\n",
       "      <td>On January 26, 2022, President Biden announced...</td>\n",
       "      <td>1.0</td>\n",
       "      <td>0.7326</td>\n",
       "    </tr>\n",
       "    <tr>\n",
       "      <th>1</th>\n",
       "      <td>What did the president say about Intel's CEO?</td>\n",
       "      <td>[]</td>\n",
       "      <td>I'm sorry, but I'm not able to answer that que...</td>\n",
       "      <td>1.0</td>\n",
       "      <td>0.0000</td>\n",
       "    </tr>\n",
       "    <tr>\n",
       "      <th>2</th>\n",
       "      <td>What did the president say about gun violence?</td>\n",
       "      <td>[]</td>\n",
       "      <td>I cannot answer that question because it refer...</td>\n",
       "      <td>0.8</td>\n",
       "      <td>0.0000</td>\n",
       "    </tr>\n",
       "  </tbody>\n",
       "</table>\n",
       "</div>"
      ]
     },
     "execution_count": 16,
     "metadata": {},
     "output_type": "execute_result"
    }
   ],
   "execution_count": 16
  },
  {
   "metadata": {},
   "cell_type": "code",
   "outputs": [],
   "execution_count": null,
   "source": ""
  }
 ],
 "metadata": {
  "kernelspec": {
   "display_name": "llm-evaluation",
   "language": "python",
   "name": "python3"
  },
  "language_info": {
   "codemirror_mode": {
    "name": "ipython",
    "version": 3
   },
   "file_extension": ".py",
   "mimetype": "text/x-python",
   "name": "python",
   "nbconvert_exporter": "python",
   "pygments_lexer": "ipython3",
   "version": "3.10.16"
  }
 },
 "nbformat": 4,
 "nbformat_minor": 2
}

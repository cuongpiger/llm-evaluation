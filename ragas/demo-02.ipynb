{
 "cells": [
  {
   "cell_type": "markdown",
   "id": "307818a9ac117404",
   "metadata": {},
   "source": [
    "# Using RAGAS to evaluate your RAG system\n",
    "- **RAGAS** is a strong Python module used to evaluate the RAG systems. One of the most popular techniques in RAG evaluation is **model-based evaluation**. This method uses a powerful/commercial LLM model to measure the similarity between the RAG’s generated responses and the expected results.\n",
    "- I use **Google VertexAI** and their `gemini-1.5-flash` LLM model to evaluate my RAG system in this lab.\n",
    "- The main components in this system include:\n",
    "  - LLM model: `DeepSeek R1 Distill LLama3 70B`\n",
    "  - Embedding model: `sentence-transformers/paraphrase-multilingual-mpnet-base-v2`\n",
    "  - Evaluation LLM model: `gemini-1.5-flash`"
   ]
  },
  {
   "cell_type": "code",
   "id": "374c155ab362f2bf",
   "metadata": {
    "ExecuteTime": {
     "end_time": "2025-03-03T06:09:42.494740Z",
     "start_time": "2025-03-03T06:09:42.486631Z"
    }
   },
   "source": [
    "%load_ext autoreload\n",
    "%autoreload 2"
   ],
   "outputs": [],
   "execution_count": 1
  },
  {
   "cell_type": "code",
   "id": "e2cfb03070f597c9",
   "metadata": {
    "ExecuteTime": {
     "end_time": "2025-03-03T06:09:44.186793Z",
     "start_time": "2025-03-03T06:09:44.178452Z"
    }
   },
   "source": [
    "import sys\n",
    "import os"
   ],
   "outputs": [],
   "execution_count": 3
  },
  {
   "cell_type": "code",
   "id": "16f5c2704d3bca76",
   "metadata": {
    "ExecuteTime": {
     "end_time": "2025-03-03T06:09:44.768933Z",
     "start_time": "2025-03-03T06:09:44.759596Z"
    }
   },
   "source": [
    "sys.path"
   ],
   "outputs": [
    {
     "data": {
      "text/plain": [
       "['/Users/cuongdm8499/Me/git-cuongpiger/llm-evaluation',\n",
       " '/Users/cuongdm8499/Applications/PyCharm Professional Edition.app/Contents/plugins/python-ce/helpers/pydev',\n",
       " '/Users/cuongdm8499/Applications/PyCharm Professional Edition.app/Contents/plugins/python/helpers-pro/jupyter_debug',\n",
       " '/opt/anaconda3/envs/llm-evaluation/lib/python310.zip',\n",
       " '/opt/anaconda3/envs/llm-evaluation/lib/python3.10',\n",
       " '/opt/anaconda3/envs/llm-evaluation/lib/python3.10/lib-dynload',\n",
       " '',\n",
       " '/opt/anaconda3/envs/llm-evaluation/lib/python3.10/site-packages',\n",
       " '/opt/anaconda3/envs/llm-evaluation/lib/python3.10/site-packages/setuptools/_vendor']"
      ]
     },
     "execution_count": 4,
     "metadata": {},
     "output_type": "execute_result"
    }
   ],
   "execution_count": 4
  },
  {
   "cell_type": "markdown",
   "id": "96cd51adf63feef7",
   "metadata": {},
   "source": [
    "## Prepare the documents"
   ]
  },
  {
   "cell_type": "code",
   "id": "73acf93d2271d375",
   "metadata": {
    "ExecuteTime": {
     "end_time": "2025-03-03T06:09:49.525616Z",
     "start_time": "2025-03-03T06:09:48.602265Z"
    }
   },
   "source": [
    "from langchain_community.document_loaders import PyPDFLoader\n",
    "from collections import defaultdict\n",
    "from langchain.schema import Document"
   ],
   "outputs": [],
   "execution_count": 5
  },
  {
   "cell_type": "code",
   "id": "b1298b2dc4bd7ccf",
   "metadata": {
    "ExecuteTime": {
     "end_time": "2025-03-03T06:09:51.603876Z",
     "start_time": "2025-03-03T06:09:51.593092Z"
    }
   },
   "source": [
    "directory_path = \"./../data/vks/pdf/vi\"  # Change this to your directory\n",
    "md_files = []\n",
    "\n",
    "for root, _, files in os.walk(directory_path):\n",
    "    for file in files:\n",
    "        if file.endswith(\".pdf\"):\n",
    "            md_files.append(os.path.join(root, file))\n",
    "\n",
    "print(md_files)"
   ],
   "outputs": [
    {
     "name": "stdout",
     "output_type": "stream",
     "text": [
      "['./../data/vks/pdf/vi/03-mo-hinh-hoat-dong.pdf', './../data/vks/pdf/vi/02-nlb.pdf', './../data/vks/pdf/vi/04-thong-bao-cap-nhat-release-note.pdf', './../data/vks/pdf/vi/01-vks-la-gi.pdf']\n"
     ]
    }
   ],
   "execution_count": 6
  },
  {
   "cell_type": "code",
   "id": "bcd75f26016228a4",
   "metadata": {
    "ExecuteTime": {
     "end_time": "2025-03-03T06:09:54.408495Z",
     "start_time": "2025-03-03T06:09:53.695694Z"
    }
   },
   "source": [
    "docs = []\n",
    "\n",
    "for file in md_files:\n",
    "    loader = PyPDFLoader(file)\n",
    "\n",
    "    data = loader.load()\n",
    "    docs.extend(data)\n",
    "\n",
    "docs"
   ],
   "outputs": [
    {
     "data": {
      "text/plain": [
       "[Document(metadata={'producer': 'Skia/PDF m133', 'creator': 'Mozilla/5.0 (Macintosh; Intel Mac OS X 10_15_7) AppleWebKit/537.36 (KHTML, like Gecko) Chrome/133.0.0.0 Safari/537.36', 'creationdate': '2025-02-18T07:22:18+00:00', 'title': '02-mo-hinh-hoat-dong', 'moddate': '2025-02-18T07:22:18+00:00', 'source': './../data/vks/pdf/vi/03-mo-hinh-hoat-dong.pdf', 'total_pages': 2, 'page': 0, 'page_label': '1'}, page_content='3. Mô hình hoạt động của VKS\\nVNGCloud Kubernetes Service (VKS) hỗ trợ 2 loại cluster chính là Public Cluster và Private\\nCluster. Đối với node group, VKS hỗ trợ 2 loại node group chính là Public Node Group và\\nPrivate Node Group. Từ đó, khách hàng có thể kết hợp giữa các loại cluster và node group để\\ntạo ra các mô hình hoạt động phù hợp với yêu cầu của ứng dụng, cụ thể:\\nPublic Cluster với Public Node Group: Các node trong nodegroup có địa chỉ IP Public\\nriêng, kết đến nối ControlPlane thông qua IP Public của Kubernetes API Server. Điều này\\ndẫn rủi ro bảo mật cao hơn. Tuy nhiên bạn hoàn toàn có thể hạn chế truy cập đến\\nControlPlane thông qua tính năng Whitelist IP. Một điều lưu ý là bạn cần đảm bảo không\\nhạn chế truy cập từ các IP của các node trong nodegroup.\\nPublic Cluster với Private Node Group: Các node trong nodegroup không có địa chỉ IP\\nPublic riêng, không thể kết nối trực tiếp đến ControlPlane. Để các node trong nodegroup\\ncó thể kết nối đến ControlPlane, bạn cần sử dụng một NAT Gateway (NATGW). NATGW\\nhoạt động như một trạm chuyển tiếp, cho phép các node kết nối với ControlPlane mà\\nkhông cần IP Public. VNGCloud khuyến nghị sử dụng Pfsense hoặc Palo Alto như một\\nNATGW cho Cluster của bạn.\\nPrivate Cluster với Public Node Group: Các node trong nodegroup có địa chỉ IP Public\\nriêng, kết đến nối ControlPlane thông qua IP Private của Kubernetes API Server. Điều này\\ngiúp giảm rủi ro bảo mật.\\nPrivate Cluster với Private Node Group: Các node trong nodegroup không có địa chỉ IP\\nPublic riêng, mọi kết nối đến Kubernetes API server đều thông qua IP Private. Điều này\\ngiúp tăng cường bảo mật cho cụm Kubernetes của bạn.\\n3.1. So sánh public cluster và private cluster\\nDưới đây là bảng so sánh giữa việc tạo và sử dụng Public Cluster và Private Cluster trên hệ\\nthống VKS:\\nKết nối:\\nPublic cluster: Sử dụng địa chỉ Public IP để giao tiếp giữa nodes và control plane,\\ngiữa client và control plane, giữa nodes và các dịch vụ khác trong VNG Cloud.\\nPrivate cluster: Sử dụng địa chỉ Private IP để giao tiếp giữa nodes và control plane,\\ngiữa client và control plane, giữa nodes và các dịch vụ khác trong VNG Cloud.\\nBảo mật:\\nPublic cluster: Bảo mật trung bình do các kết nối sử dụng Public IP.\\nPrivate cluster: Bảo mật cao hơn với tất cả kết nối đều private và giới hạn truy cập.\\nQuản lý truy cập:'),\n",
       " Document(metadata={'producer': 'Skia/PDF m133', 'creator': 'Mozilla/5.0 (Macintosh; Intel Mac OS X 10_15_7) AppleWebKit/537.36 (KHTML, like Gecko) Chrome/133.0.0.0 Safari/537.36', 'creationdate': '2025-02-18T07:22:18+00:00', 'title': '02-mo-hinh-hoat-dong', 'moddate': '2025-02-18T07:22:18+00:00', 'source': './../data/vks/pdf/vi/03-mo-hinh-hoat-dong.pdf', 'total_pages': 2, 'page': 1, 'page_label': '2'}, page_content='Public cluster: Khó kiểm soát hơn, có thể quản lý truy cập thông qua tính năng\\nWhitelist.\\nPrivate cluster: Kiểm soát truy cập chặt chẽ, mọi kết nối đều nằm trong mạng private\\ncủa VNG Cloud, từ đó giảm thiểu nguy cơ từ các cuộc tấn công mạng từ bên ngoài.\\nKhả năng mở rộng (AutoScaling):\\nPublic cluster: Dễ dàng mở rộng thông qua tính năng Auto Scaling.\\nPrivate cluster: Dễ dàng mở rộng thông qua tính năng Auto Scaling.\\nKhả năng tự hồi phục (AutoHealing):\\nPublic cluster: Tự động phát hiện lỗi và khởi động lại node (Auto Healing)\\nPrivate cluster: Tự động phát hiện lỗi và khởi động lại node (Auto Healing)\\nKhả năng truy cập từ bên ngoài:\\nPublic cluster: Dễ dàng truy cập từ bất kỳ đâu với\\nPrivate cluster: Truy cập từ bên ngoài phải qua các giải pháp bảo mật khác.\\nCấu hình và triển khai:\\nPublic cluster: Đơn giản hơn do không yêu cầu thiết lập mạng nội bộ.\\nPrivate cluster: Phức tạp hơn, yêu cầu cấu hình mạng private và bảo mật.\\nChi phí:\\nPublic cluster: Thường thấp hơn do không cần thiết lập cơ sở hạ tầng bảo mật phức\\ntạp.\\nPrivate cluster: Chi phí cao hơn do yêu cầu thêm các thành phần bảo mật và quản lý.\\nCụ thể, khi sử dụng private cluster, bạn cần chi trả chi phí cho 4 private service\\nendpoint được tạo tự động để kết nối tới các dịch vụ trên VNGCloud.\\nTính linh hoạt:\\nPublic cluster: Cao, dễ dàng thay đổi và truy cập các dịch vụ.\\nPrivate cluster: Linh hoạt hơn trong các ứng dụng yêu cầu bảo mật, nhưng ít linh hoạt\\nhơn cho các ứng dụng yêu cầu truy cập từ bên ngoài.\\nKết luận:\\nPublic Cluster: Phù hợp cho các ứng dụng không yêu cầu bảo mật cao và cần sự linh\\nhoạt, truy cập từ nhiều địa điểm. Dễ dàng triển khai và quản lý nhưng có rủi ro bảo mật\\ncao hơn.\\nPrivate Cluster: Phù hợp cho các ứng dụng yêu cầu bảo mật cao, tuân thủ nghiêm ngặt\\ncác quy định về bảo mật và quyền riêng tư. Mang lại kết nối ổn định và bảo mật, nhưng\\nyêu cầu cấu hình và quản lý phức tạp hơn, cũng như chi phí cao hơn.'),\n",
       " Document(metadata={'producer': 'Skia/PDF m133', 'creator': 'Mozilla/5.0 (Macintosh; Intel Mac OS X 10_15_7) AppleWebKit/537.36 (KHTML, like Gecko) Chrome/133.0.0.0 Safari/537.36', 'creationdate': '2025-02-18T04:33:27+00:00', 'title': 'me', 'moddate': '2025-02-18T04:33:27+00:00', 'source': './../data/vks/pdf/vi/02-nlb.pdf', 'total_pages': 8, 'page': 0, 'page_label': '1'}, page_content='2. Tích hợp Network Load Balancer (NLB) trên VKS\\n2.1. Network Load Balancer (NLB) là gì?\\nNetwork Load Balancer (tên viết tắt là NLB) là một bộ cân bằng tải được cung cấp bởi VNGCloud giúp phân phối lưu lượng truy cập\\nmạng đến nhiều máy chủ back-end (backend servers) trong một nhóm máy tính (instance group). NLB hoạt động ở layer 4 của mô hình\\nOSI, giúp cân bằng tải dựa trên địa chỉ IP và cổng TCP/UDP. Để biết thêm thông tin chi tiết về NLB, vui lòng tham khảo tại\\nhttps://docs.vngcloud.vn/vng-cloud-document/vn/vks/network/lam-viec-voi-network-load-balancing-nlb\\n2.2. Mô hình triển khai\\n(Đường dẫn đến hình ảnh: https://docs.vngcloud.vn/~gitbook/image?url=https%3A%2F%2F3672463924-\\nﬁles.gitbook.io%2F%7E%2Fﬁles%2Fv0%2Fb%2Fgitbook-x-\\nprod.appspot.com%2Fo%2Fspaces%252FB0NrrrdJdpYOYzRkbWp5%252Fuploads%252FVYBtJjEoUNgDi1f5J9vL%252Fimage.png%3Falt%3\\nDmedia%26token%3D554a2d62-320e-48d1-a884-3c7cce589071&width=768&dpr=2&quality=100&sign=4336a109&sv=2)\\nVNGCloud LoadBalancer Controller: là một bộ điều khiển (hay còn gọi là controller) chạy trên các cụm Kubernetes được triển khai trên\\nVNGCloud. Controller này chịu trách nhiệm:\\nQuản lý các Network Load Balancer (NLB) cho các Service của Kubernetes có thuộc tính \\xa0serviceType\\xa0 là \\xa0LoadBalancer\\xa0.\\nĐiều phối lưu lượng mạng đến các \\xa0pod\\xa0 trên worker node của bạn.\\n2.3. Cài đặt VNGCloud LoadBalancer Controller để sử dụng NLB\\nĐể sử dụng NLB trên VKS, bạn cần cài đặt plugin VNGCloud LoadBalancer Controller. Plugin này đảm nhận vai trò quản lý và cấu hình NLB\\ncho các tài nguyên \\xa0Service\\xa0 có thuộc tính \\xa0serviceType\\xa0 là \\xa0LoadBalancer\\xa0. Mặc định, một cụm Kubernetes trên VKS đã được cài đặt sẵn\\nplugin VNGCloud LoadBalancer Controller này. Việc cài đặt sẵn này giúp bạn có thể sử dụng NLB mà không cần phải thực hiện thêm bất kỳ'),\n",
       " Document(metadata={'producer': 'Skia/PDF m133', 'creator': 'Mozilla/5.0 (Macintosh; Intel Mac OS X 10_15_7) AppleWebKit/537.36 (KHTML, like Gecko) Chrome/133.0.0.0 Safari/537.36', 'creationdate': '2025-02-18T04:33:27+00:00', 'title': 'me', 'moddate': '2025-02-18T04:33:27+00:00', 'source': './../data/vks/pdf/vi/02-nlb.pdf', 'total_pages': 8, 'page': 1, 'page_label': '2'}, page_content='thao tác cấu hình nào khác và đảm bảo luôn được cập nhật phiên bản mới nhất. Tuy nhiên người dùng hoàn toàn có thể bật/tắt plugin này\\nthông qua thiết lập Enable vLB Native Integration Driver trên VKS Console.\\nNgoài ra, người dùng hoàn toàn có thể tự cài đặt plugin VNGCloud LoadBalancer Controller bằng cách thực hiện các bước sau:\\nBước 1: Tạo một Kubernetes cluster trên VKS, hoặc sử dụng một cluster đã có. Tải ﬁle \\xa0kubeconfig\\xa0 của cluster về thiết bị của bạn.\\nNgoài ra, bạn nên kiểm tra ﬁle \\xa0kubeconfig\\xa0 này đã có thể kết nối đến cluster thành công hay chưa thông qua \\xa0kubectl\\xa0 CLI.\\nBước 2: Khởi tạo hoặc sử dụng một IAM Service Account đã có trên IAM Console và thiết lập hai policy \\xa0vLBFullAccess\\xa0 và\\n\\xa0vServerFullAccess\\xa0 cho Service Account này. Bạn có thể tham khảo cách tạo Service Account tại https://hcm-\\n3.console.vngcloud.vn/iam/service-accounts. Sau đó, bạn cần lưu lại Client ID và Client Secret của Service Account này.\\nBước 3: Bạn cần cài đặt Helm 3.0 trên thiết bị của bạn, bạn có thể tham khảo cách cài đặt Helm tại https://helm.sh/docs/intro/install.\\nSau khi \\xa0helm\\xa0 CLI đã được cài đặt thành công, bạn đã có thể dùng \\xa0helm\\xa0 CLI để cài đặt plugin, lưu ý rằng bạn cần thay thế các giá trị\\nClient ID và Client Secret của Service Account vào lệnh dưới đây:\\nhelm install vngcloud-load-balancer-controller oci://vcr.vngcloud.vn/81-vks-public/vks-helm-charts/vngcloud-load-balance\\nBước 4: Sau khi Helm hoàn tất việc cài đặt VNGCloud LoadBalancer Controller, bạn có thể kiểm tra xem plugin đã hoạt động hay chưa\\nbằng lệnh:\\nkubectl -n kube-system get pod -l app.kubernetes.io/name=vngcloud-load-balancer-controller\\nDưới đây là ví dụ kết quả trả về khi plugin đã hoạt động:\\nNAME                                                              READY   STATUS    RESTARTS   AGE\\nvngcloud-load-balancer-controller-1736217866-manager-77599vrxpz   1 /1     Running   0           4h24m\\n2.4. Sử dụng Network Load Balancer (NLB) trên VKS\\nSau khi đã cài đặt plugin VNGCloud LoadBalancer Controller thành công, bạn đã có thể sử dụng NLB thông quà tài nguyên \\xa0Service\\xa0 trên\\nKubernetes. Dưới đây là một vài tình huống sử dụng NLB trên VKS:\\nVí dụ 1: Công khai một dịch vụ Nginx trên cổng 80 với NLB đến Internet:'),\n",
       " Document(metadata={'producer': 'Skia/PDF m133', 'creator': 'Mozilla/5.0 (Macintosh; Intel Mac OS X 10_15_7) AppleWebKit/537.36 (KHTML, like Gecko) Chrome/133.0.0.0 Safari/537.36', 'creationdate': '2025-02-18T04:33:27+00:00', 'title': 'me', 'moddate': '2025-02-18T04:33:27+00:00', 'source': './../data/vks/pdf/vi/02-nlb.pdf', 'total_pages': 8, 'page': 2, 'page_label': '3'}, page_content='apiVersion: apps/v1\\nkind: Deployment\\nmetadata:\\n  name: nginx-app\\nspec:\\n  selector:\\n    matchLabels:\\n      app: nginx\\n  replicas: 1 \\n  template:\\n    metadata:\\n      labels:\\n        app: nginx\\n    spec:\\n      containers:\\n      - name: nginx\\n        image: nginx:1.19.1\\n        ports:\\n        - containerPort: 8 0 \\n---\\napiVersion: v1\\nkind: Service\\nmetadata:\\n  name: nginx-service\\nspec:\\n  selector:\\n    app: nginx\\n  type: LoadBalancer \\n  ports:\\n    - protocol: TCP\\n      port: 8 0 \\n      targetPort: 8 0 \\nVí dụ 2: Triển khai dịch vụ Apache HTTP và chỉ cho phép truy cập nội bộ qua port 8080:'),\n",
       " Document(metadata={'producer': 'Skia/PDF m133', 'creator': 'Mozilla/5.0 (Macintosh; Intel Mac OS X 10_15_7) AppleWebKit/537.36 (KHTML, like Gecko) Chrome/133.0.0.0 Safari/537.36', 'creationdate': '2025-02-18T04:33:27+00:00', 'title': 'me', 'moddate': '2025-02-18T04:33:27+00:00', 'source': './../data/vks/pdf/vi/02-nlb.pdf', 'total_pages': 8, 'page': 3, 'page_label': '4'}, page_content='apiVersion: apps/v1\\nkind: Deployment\\nmetadata:\\n  name: internal-http-apache2-deployment\\nspec:\\n  replicas: 2 \\n  selector:\\n    matchLabels:\\n      app: apache2\\n  template:\\n    metadata:\\n      labels:\\n        app: apache2\\n    spec:\\n      containers:\\n        - name: apache2\\n          image: httpd\\n          ports:\\n            - containerPort: 8 0 \\n---\\napiVersion: v1\\nkind: Service\\nmetadata:\\n  name: internal-http-apache2-service\\n  annotations:\\n    vks.vngcloud.vn/scheme: \"internal\"              # Thiệt lập annotation để tạo NLB nội bộ\\nspec:\\n  selector:\\n    app: apache2\\n  type: LoadBalancer\\n  ports:\\n    - name: http\\n      protocol: TCP\\n      port: 8 0 8 0 \\n      targetPort: 8 0 \\nVí dụ 3: Triển khai một dịch vụ sử dụng protocol UDP:'),\n",
       " Document(metadata={'producer': 'Skia/PDF m133', 'creator': 'Mozilla/5.0 (Macintosh; Intel Mac OS X 10_15_7) AppleWebKit/537.36 (KHTML, like Gecko) Chrome/133.0.0.0 Safari/537.36', 'creationdate': '2025-02-18T04:33:27+00:00', 'title': 'me', 'moddate': '2025-02-18T04:33:27+00:00', 'source': './../data/vks/pdf/vi/02-nlb.pdf', 'total_pages': 8, 'page': 4, 'page_label': '5'}, page_content='apiVersion: apps/v1\\nkind: Deployment\\nmetadata:\\n  name: udp-server-deployment\\nspec:\\n  selector:\\n    matchLabels:\\n      name: udp-server\\n  replicas: 5 \\n  template:\\n    metadata:\\n      labels:\\n        name: udp-server\\n    spec:\\n      containers:\\n      - name: udp-server\\n        image: vcr.vngcloud.vn/udp-server\\n        imagePullPolicy: Always\\n        ports:\\n        - containerPort: 1 0 0 0 1 \\n          protocol: UDP\\n---\\napiVersion: v1\\nkind: Service\\nmetadata:\\n  name: udp-server-service\\n  annotations:\\n    vks.vngcloud.vn/pool-algorithm: \"source-ip\"   # Thiết lập annotation để chọn thuật toán cân bằng tải\\n  labels:\\n    app: udp-server\\nspec:\\n  type: LoadBalancer\\n  sessionAffinity: ClientIP\\n  ports:\\n  - port: 1 0 0 0 1 \\n    protocol: UDP\\n  selector:\\n    name: udp-server\\nVí dụ 4: Sử dụng lại một NLB đã có trên hệ thống vLB. Để sử dụng lại một NLB đã có, bạn cần nhập thông tin Load Balancer ID vào\\nannotation \\xa0vks.vngcloud.vn/load-balancer-id\\xa0 của Service:'),\n",
       " Document(metadata={'producer': 'Skia/PDF m133', 'creator': 'Mozilla/5.0 (Macintosh; Intel Mac OS X 10_15_7) AppleWebKit/537.36 (KHTML, like Gecko) Chrome/133.0.0.0 Safari/537.36', 'creationdate': '2025-02-18T04:33:27+00:00', 'title': 'me', 'moddate': '2025-02-18T04:33:27+00:00', 'source': './../data/vks/pdf/vi/02-nlb.pdf', 'total_pages': 8, 'page': 5, 'page_label': '6'}, page_content='apiVersion: apps/v1\\nkind: Deployment\\nmetadata:\\n  name: external-http-nginx-deployment\\nspec:\\n  replicas: 2 \\n  selector:\\n    matchLabels:\\n      app: nginx\\n  template:\\n    metadata:\\n      labels:\\n        app: nginx\\n    spec:\\n      containers:\\n      - name: nginx\\n        image: nginx\\n        ports:\\n        - containerPort: 8 0 \\n---\\nkind: Service\\napiVersion: v1\\nmetadata:\\n  name: external-http-nginx-service\\n  annotations:\\n    vks.vngcloud.vn/load-balancer-id: \"__PUT_YOUR_LOAD_BALANCER_ID__\"\\nspec:\\n  selector:\\n    app: nginx\\n  type: LoadBalancer\\n  ports:\\n  - name: http\\n    port: 8 0 \\n    targetPort: 8 0 \\nNgoài ra, bạn cũng có thể tìm hiểu thêm về các annotation khác mà bạn có thể sử dụng để tùy chỉnh NLB phù hợp với nhu cầu của bạn tại\\nđường dẫn https://docs.vngcloud.vn/vng-cloud-document/vn/vks/network/lam-viec-voi-network-load-balancing-nlb/cau-hinh-cho-mot-\\nnetwork-load-balancer.\\n2.5. Cấu hình cho một Network Load Balancer\\nBạn có thể tùy chỉnh hoặc cấu hình NLB phù hợp với nhu cầu của bạn thông qua các annotation dưới đây:\\n\\xa0vks.vngcloud.vn/load-balancer-id\\xa0:\\nBắt buộc phải có trong spec của tài nguyên \\xa0Service\\xa0: Không bắt buộc\\nÝ nghĩa: Dùng để sử dụng lại một NLB sẵn có trên hệ thống vLB. Nếu annotation này không được thiết lập, một NLB mới sẽ được\\ntạo tự động.\\n\\xa0vks.vngcloud.vn/load-balancer-name\\xa0:\\nBắt buộc phải có trong spec của tài nguyên \\xa0Service\\xa0: Không bắt buộc\\nÝ nghĩa: Giá trị của annotation này sẽ dùng làm tên cho NLB của bạn. Nếu annotation này không được thiết lập, VNGCloud\\nLoadBalancer Controller sẽ tự động tạo một tên cho NLB của bạn. Annotation này sẽ không có tác dụng nếu một trong các\\nannotation sau được thiết lập: \\xa0vks.vngcloud.vn/load-balancer-id\\xa0.\\n\\xa0vks.vngcloud.vn/package-id\\xa0:\\nBắt buộc phải có trong spec của tài nguyên \\xa0Service\\xa0: Không bắt buộc\\nÝ nghĩa: Dùng để thiết lập package của NLB. Nếu không được thiết lập, mặc định sẽ sử dụng cấu hình NLB Small. Ngoài ra, bạn\\ncũng có thể dùng annotation này để cấu hình lại package của NLB hiện tại.\\n\\xa0vks.vngcloud.vn/tags\\xa0:\\nBắt buộc phải có trong spec của tài nguyên \\xa0Service\\xa0: Không bắt buộc\\nÝ nghĩa: Tiến hành gắn thẻ cho NLB của bạn. Thẻ này bao gồm các cặp key-value nhằm giúp bạn dễ dàng quản lí các NLB trên\\nVNGCloud Portal.\\n\\xa0vks.vngcloud.vn/scheme\\xa0:'),\n",
       " Document(metadata={'producer': 'Skia/PDF m133', 'creator': 'Mozilla/5.0 (Macintosh; Intel Mac OS X 10_15_7) AppleWebKit/537.36 (KHTML, like Gecko) Chrome/133.0.0.0 Safari/537.36', 'creationdate': '2025-02-18T04:33:27+00:00', 'title': 'me', 'moddate': '2025-02-18T04:33:27+00:00', 'source': './../data/vks/pdf/vi/02-nlb.pdf', 'total_pages': 8, 'page': 6, 'page_label': '7'}, page_content='Bắt buộc phải có trong spec của tài nguyên \\xa0Service\\xa0: Không bắt buộc\\nÝ nghĩa: Bao gồm 2 giá trị là \\xa0internet-facing\\xa0 và \\xa0internal\\xa0. Nếu giá trị của annotation này là \\xa0internet-facing\\xa0, NLB sẽ được cấu\\nhình để truy cập từ Internet. Nếu giá trị của annotation này là \\xa0internal\\xa0, NLB sẽ được cấu hình để truy cập từ mạng nội bộ.\\n\\xa0vks.vngcloud.vn/security-groups\\xa0:\\nBắt buộc phải có trong spec của tài nguyên \\xa0Service\\xa0: Không bắt buộc\\nÝ nghĩa: Mặc định, VNGCloud LoadBalancer Controller sẽ tự động tạo một Security Group mới cho NLB của bạn. Tuy nhiên, nếu\\nbạn muốn sử dụng một Security Group đã có, bạn có thể sử dụng annotation này để thiết lập Security Group cho NLB của bạn. Ví\\ndụ: \\xa0vks.vngcloud.vn/security-groups: secg-303d9c91-f4b2-400d-8e81-12039167da0c\\xa0. Ngoài ra, bạn cũng có thể cấu hình nhiều\\nSecurity Group cho NLB của bạn bằng cách sử dụng dấu phẩy \\xa0,\\xa0 để ngăn cách giữa các Security Group. Ví dụ:\\n\\xa0vks.vngcloud.vn/security-groups: secg-303d9c91-f4b2-400d-8e81-12039167da0c,secg-303d9c91-f4b2-400d-8e81-12039167da0d\\xa0\\n.\\n\\xa0vks.vngcloud.vn/inbound-cidrs\\xa0:\\nBắt buộc phải có trong spec của tài nguyên \\xa0Service\\xa0: Không bắt buộc\\nÝ nghĩa: Mặc định, NLB sẽ được cấu hình để truy cập từ mọi địa chỉ IP. Tuy nhiên, nếu bạn muốn cấu hình NLB để chỉ cho phép truy\\ncập từ một số địa chỉ IP cụ thể, bạn có thể sử dụng annotation này. Ví dụ: \\xa0vks.vngcloud.vn/inbound-cidrs: 183.23.23.13\\xa0. Ngoài\\nra, bạn cũng có thể cấu hình nhiều địa chỉ IP cho NLB của bạn bằng cách sử dụng dấu phẩy \\xa0,\\xa0 để ngăn cách giữa các địa chỉ IP. Ví\\ndụ: \\xa0vks.vngcloud.vn/inbound-cidrs: 183.23.23.13,183.23.23.23\\xa0.\\n\\xa0vks.vngcloud.vn/healthy-threshold-count\\xa0:\\nBắt buộc phải có trong spec của tài nguyên \\xa0Service\\xa0: Không bắt buộc\\nÝ nghĩa: Là ngưỡng số lần liên tiếp mà một máy chủ back-end phải trả về trạng thái \\xa0healthy\\xa0 để được coi là HEALTHY. Mặc định,\\ngiá trị của annotation này là \\xa03\\xa0.\\n\\xa0vks.vngcloud.vn/unhealthy-threshold-count\\xa0:\\nBắt buộc phải có trong spec của tài nguyên \\xa0Service\\xa0: Không bắt buộc\\nÝ nghĩa: Là ngưỡng số lần liên tiếp mà một máy chủ back-end phải trả về trạng thái \\xa0unhealthy\\xa0 để được coi là UNHEALTHY. Mặc\\nđịnh, giá trị của annotation này là \\xa03\\xa0.\\n\\xa0vks.vngcloud.vn/healthcheck-interval-seconds\\xa0:\\nBắt buộc phải có trong spec của tài nguyên \\xa0Service\\xa0: Không bắt buộc\\nÝ nghĩa: Là khoảng thời gian giữa các lần kiểm tra sức khỏe của máy chủ back-end. Mặc định, giá trị của annotation này là \\xa030\\xa0 giây.\\n\\xa0vks.vngcloud.vn/healthcheck-timeout-seconds\\xa0:\\nBắt buộc phải có trong spec của tài nguyên \\xa0Service\\xa0: Không bắt buộc\\nÝ nghĩa: Là thời gian tối đa mà một máy chủ back-end phải trả về trạng thái \\xa0healthy\\xa0 hoặc \\xa0unhealthy\\xa0. Mặc định, giá trị của\\nannotation này là \\xa05\\xa0 giây.\\n\\xa0vks.vngcloud.vn/healthcheck-protocol\\xa0:\\nBắt buộc phải có trong spec của tài nguyên \\xa0Service\\xa0: Không bắt buộc\\nÝ nghĩa: Là giao thức sử dụng để kiểm tra sức khỏe của máy chủ back-end. Mặc định, giá trị của annotation này là \\xa0TCP\\xa0. Ngoài ra,\\nmột vài giá trị khác mà bạn có thể sử dụng là \\xa0PING-UDP\\xa0, \\xa0HTTP\\xa0, \\xa0HTTPS\\xa0.\\n\\xa0vks.vngcloud.vn/healthcheck-http-method\\xa0:\\nBắt buộc phải có trong spec của tài nguyên \\xa0Service\\xa0: Không bắt buộc\\nÝ nghĩa: Là phương thức HTTP sử dụng để kiểm tra sức khỏe của máy chủ back-end. Mặc định, giá trị của annotation này là \\xa0GET\\xa0.\\nNgoài ra, một vài giá trị khác mà bạn có thể sử dụng là \\xa0PUT\\xa0, \\xa0POST\\xa0. Lưu ý rằng annotation này chỉ có tác dụng khi\\n\\xa0vks.vngcloud.vn/healthcheck-protocol\\xa0 được thiết lập là \\xa0HTTP\\xa0 hoặc \\xa0HTTPS\\xa0.\\n\\xa0vks.vngcloud.vn/healthcheck-path\\xa0:\\nBắt buộc phải có trong spec của tài nguyên \\xa0Service\\xa0: Không bắt buộc\\nÝ nghĩa: Là đường dẫn sử dụng để kiểm tra sức khỏe của máy chủ back-end. Mặc định, giá trị của annotation này là \\xa0/\\xa0. Lưu ý rằng\\nannotation này chỉ có tác dụng khi \\xa0vks.vngcloud.vn/healthcheck-protocol\\xa0 được thiết lập là \\xa0HTTP\\xa0 hoặc \\xa0HTTPS\\xa0.\\n\\xa0vks.vngcloud.vn/healthcheck-http-version\\xa0:\\nBắt buộc phải có trong spec của tài nguyên \\xa0Service\\xa0: Không bắt buộc\\nÝ nghĩa: Là phiên bản HTTP sử dụng để kiểm tra sức khỏe của máy chủ back-end. Mặc định, giá trị của annotation này là \\xa01.0\\xa0.\\nNgoài ra bạn cũng có thể sử dụng giá trị \\xa01.1\\xa0 khi cần thiết. Lưu ý rằng annotation này chỉ có tác dụng khi\\n\\xa0vks.vngcloud.vn/healthcheck-protocol\\xa0 được thiết lập là \\xa0HTTP\\xa0 hoặc \\xa0HTTPS\\xa0.\\n\\xa0vks.vngcloud.vn/healthcheck-http-domain-name\\xa0:\\nBắt buộc phải có trong spec của tài nguyên \\xa0Service\\xa0: Không bắt buộc\\nÝ nghĩa: Là tên miền sử dụng để kiểm tra sức khỏe của máy chủ back-end. Mặc định, giá trị của annotation này là RỖNG. Lưu ý rằng\\nannotation này chỉ có tác dụng khi \\xa0vks.vngcloud.vn/healthcheck-protocol\\xa0 được thiết lập là \\xa0HTTP\\xa0 hoặc \\xa0HTTPS\\xa0.\\n\\xa0vks.vngcloud.vn/healthcheck-port\\xa0:\\nBắt buộc phải có trong spec của tài nguyên \\xa0Service\\xa0: Không bắt buộc\\nÝ nghĩa: Là cổng sử dụng để kiểm tra sức khỏe của máy chủ back-end. Mặc định, giá trị của annotation này sẽ lấy theo trường \\xa0port\\xa0\\ncủa tài nguyên \\xa0Service\\xa0 cần dùng NLB này. Lưu ý rằng annotation này chỉ có tác dụng khi'),\n",
       " Document(metadata={'producer': 'Skia/PDF m133', 'creator': 'Mozilla/5.0 (Macintosh; Intel Mac OS X 10_15_7) AppleWebKit/537.36 (KHTML, like Gecko) Chrome/133.0.0.0 Safari/537.36', 'creationdate': '2025-02-18T04:33:27+00:00', 'title': 'me', 'moddate': '2025-02-18T04:33:27+00:00', 'source': './../data/vks/pdf/vi/02-nlb.pdf', 'total_pages': 8, 'page': 7, 'page_label': '8'}, page_content='vks.vngcloud.vn/healthcheck-protocol\\xa0 được thiết lập là \\xa0HTTP\\xa0 hoặc \\xa0HTTPS\\xa0.\\n\\xa0vks.vngcloud.vn/success-codes\\xa0:\\nBắt buộc phải có trong spec của tài nguyên \\xa0Service\\xa0: Không bắt buộc\\nÝ nghĩa: Là mã trạng thái HTTP sẽ được coi là thành công khi kiểm tra sức khỏe của máy chủ back-end. Mặc định, giá trị của\\nannotation này là \\xa0200\\xa0. Lưu ý rằng annotation này chỉ có tác dụng khi \\xa0vks.vngcloud.vn/healthcheck-protocol\\xa0 được thiết lập là\\n\\xa0HTTP\\xa0 hoặc \\xa0HTTPS\\xa0.\\n\\xa0vks.vngcloud.vn/idle-timeout-client\\xa0:\\nBắt buộc phải có trong spec của tài nguyên \\xa0Service\\xa0: Không bắt buộc\\nÝ nghĩa: Là thời gian tối đa mà một kết nối từ client có thể không hoạt động trước khi bị đóng. Mặc định, giá trị của annotation này là\\n\\xa050\\xa0 giây.\\n\\xa0vks.vngcloud.vn/idle-timeout-member\\xa0:\\nBắt buộc phải có trong spec của tài nguyên \\xa0Service\\xa0: Không bắt buộc\\nÝ nghĩa: Là thời gian tối đa mà một kết nối từ máy chủ back-end có thể không hoạt động trước khi bị đóng. Mặc định, giá trị của\\nannotation này là \\xa050\\xa0 giây.\\n\\xa0vks.vngcloud.vn/idle-timeout-connection\\xa0:\\nBắt buộc phải có trong spec của tài nguyên \\xa0Service\\xa0: Không bắt buộc\\nÝ nghĩa: Là thời gian tối đa mà một kết nối giữa NLB và máy chủ back-end có thể không hoạt động trước khi bị đóng. Mặc định, giá\\ntrị của annotation này là \\xa05\\xa0 giây.\\n\\xa0vks.vngcloud.vn/pool-algorithm\\xa0:\\nBắt buộc phải có trong spec của tài nguyên \\xa0Service\\xa0: Không bắt buộc\\nÝ nghĩa: Là thuật toán cân bằng tải sẽ được sử dụng cho NLB. Mặc định, giá trị của annotation này là \\xa0ROUND_ROBIN\\xa0. Ngoài ra, một\\nvài giá trị khác mà bạn có thể sử dụng là \\xa0SOURCE_IP\\xa0, \\xa0LEAST_CONNECTIONS\\xa0.\\n\\xa0vks.vngcloud.vn/target-node-labels\\xa0:\\nBắt buộc phải có trong spec của tài nguyên \\xa0Service\\xa0: Không bắt buộc\\nÝ nghĩa: Mặc định VNGCloud LoadBalancer Controller sẽ chọn toàn bộ các node trong cluster để thêm vào pool của NLB. Tuy\\nnhiên, nếu bạn muốn chỉ chọn một số node cụ thể, bạn có thể sử dụng annotation này. Ví dụ:\\n\\xa0vks.vngcloud.vn/target-node-labels: node-role.kubernetes.io/worker=true\\xa0. Lưu ý rằng bạn cũng có thể cấu hình nhiều node\\ncho NLB của bạn bằng cách sử dụng dấu phẩy \\xa0,\\xa0 để ngăn cách giữa các node. Ví dụ:\\n\\xa0vks.vngcloud.vn/target-node-labels: node-role.kubernetes.io/worker=true,node-role.kubernetes.io/worker=false\\xa0.\\n\\xa0vks.vngcloud.vn/enable-proxy-protocol\\xa0:\\nBắt buộc phải có trong spec của tài nguyên \\xa0Service\\xa0: Không bắt buộc\\nÝ nghĩa: Mặc định, giá trị của annotation này là RỖNG. Bạn cần chỉ định danh sách các Service Port Name (trong tài nguyên\\n\\xa0Service\\xa0, bạn có thể chỉ định nhiều Service Port, mỗi Service Port này bạn cần cấu hình thuộc tính \\xa0name\\xa0 cho chúng để sử dụng tính\\nnăng này) mà Proxy Protocol sẽ được kích hoạt. Ví dụ:\\n\\xa0vks.vngcloud.vn/enable-proxy-protocol: service_port_name_1,service_port_name_2\\xa0. Hoặc nếu bạn muốn kích hoạt Proxy\\nProtocol cho tất cả các Service Port, bạn có thể sử dụng giá trị \\xa0*\\xa0. Ví dụ: \\xa0vks.vngcloud.vn/enable-proxy-protocol: \"*\"\\xa0.\\n2.6. Những hạn chế của NLB trên VKS\\nMột NLB có thể được sử dụng chung cho nhiều cluster nhưng phải đảm bảo các cluster này có chung một VPC.\\nMột NLB sẽ bị giới hạn về số lượng pools, listeners, members. Chi tiết tại https://docs.vngcloud.vn/pages/viewpage.action?\\npageId=59802094.\\n2.7. Tài liệu tham khảo\\nBạn có thể tham khảo tại liệu trên website của VNGCloud tại https://docs.vngcloud.vn/vng-cloud-document/vn/vks/network/lam-viec-voi-\\nnetwork-load-balancing-nlb.'),\n",
       " Document(metadata={'producer': 'Skia/PDF m133', 'creator': 'Mozilla/5.0 (Macintosh; Intel Mac OS X 10_15_7) AppleWebKit/537.36 (KHTML, like Gecko) Chrome/133.0.0.0 Safari/537.36', 'creationdate': '2025-02-18T08:06:19+00:00', 'title': '04-thong-bao-cap-nhat-release-note', 'moddate': '2025-02-18T08:06:19+00:00', 'source': './../data/vks/pdf/vi/04-thong-bao-cap-nhat-release-note.pdf', 'total_pages': 3, 'page': 0, 'page_label': '1'}, page_content='4. Thông báo cập nhật (release notes)\\nNgày 05 tháng 12 năm 2024\\nVKS (VNGCloud Kubernetes Service) vừa ra mắt bản cập nhật mới nhất, mang đến nhiều tính\\nnăng mới cho người dùng. Dưới đây là những điểm nổi bật của bản cập nhật:\\nTính năng mới:\\nForce-Upgrade, Auto-Upgrade: Tự động nâng cấp phiên bản Kubernetes cho cluster/\\nnode group theo lịch trình hoặc khi phiên bản hiện tại sắp hết hạn.\\nNgày 23 tháng 10 năm 2024\\nVKS (VNGCloud Kubernetes Service) vừa ra mắt bản cập nhật mới nhất, mang đến nhiều cải\\ntiến cho người dùng. Dưới đây là những điểm nổi bật của bản cập nhật:\\nCải tiến:\\nHỗ trợ POC/ Stop POC cho Cluster: Người dùng giờ đây có thể thực hiện POC/ Stop POC\\ncho các tài nguyên trên VKS như Server, Volume, Load Balancer, Endpoint. Tính năng này\\nmang đến sự linh hoạt cao cho người dùng khi muốn trải nghiệm với VKS. Chi tiết tham\\nkhảo thêm tại đây.\\nNâng cấp Plugin VNGCloud BlockStorage CSI Driver: Các lỗi đã được phát hiện trong các\\nphiên bản trước đã được khắc phục, giúp hệ thống hoạt động mượt mà và tin cậy hơn.\\nTự do lựa chọn/ chỉnh sửa cấu hình có/ không sử dụng plugin VNGCloud LoadBalancer\\nController, Plugin VNGCloud Ingress Controller trên cụm VKS hiện có: Khả năng tùy chỉnh\\ncấu hình plugin cho phép người dùng tối ưu hóa cụm VKS theo nhu cầu cụ thể của mình.\\nĐiều này giúp tăng tính linh hoạt và đáp ứng các yêu cầu đặc biệt của từng ứng dụng.\\nNgoài ra, trong bản cập nhật này, chúng tôi cũng đã khắc phục một số lỗi nhỏ để mang\\nđến trải nghiệm người dùng tốt hơn.\\nNgày 03 tháng 10 năm 2024\\nVKS (VNGCloud Kubernetes Service) vừa ra mắt bản cập nhật mới nhất, mang đến nhiều tính\\nnăng và cải tiến cho người dùng. Dưới đây là những điểm nổi bật của bản cập nhật:\\nTriển khai Region mới:\\nBên cạnh Region HCM03, VKS hiện đã hỗ trợ thêm Region HAN01. Việc bổ sung này giúp\\nkhách hàng có thêm lựa chọn trong việc triển khai ứng dụng, đặc biệt hữu ích cho các\\ndoanh nghiệp có yêu cầu về vị trí đặt dữ liệu.\\nTính năng mới:\\nNetwork Type: Cilium Overlay, Cilium VPC Native Routing: Ngoài Calico Overlay, bản phát\\nhành lần này chúng tôi đã bổ sung hai loại mạng mới: Cilium Overlay và Cilium VPC Native\\nRouting. Cilium Overlay cho phép bạn xây dựng mạng overlay linh hoạt, trong khi Cilium'),\n",
       " Document(metadata={'producer': 'Skia/PDF m133', 'creator': 'Mozilla/5.0 (Macintosh; Intel Mac OS X 10_15_7) AppleWebKit/537.36 (KHTML, like Gecko) Chrome/133.0.0.0 Safari/537.36', 'creationdate': '2025-02-18T08:06:19+00:00', 'title': '04-thong-bao-cap-nhat-release-note', 'moddate': '2025-02-18T08:06:19+00:00', 'source': './../data/vks/pdf/vi/04-thong-bao-cap-nhat-release-note.pdf', 'total_pages': 3, 'page': 1, 'page_label': '2'}, page_content='VPC Native Routing tích hợp chặt chẽ với VPC của VNG Cloud, giúp tối ưu hiệu suất và\\nbảo mật cho ứng dụng của bạn. Chi tiết tham khảo thêm tại đây.\\nCải tiến:\\nMultiple Subnet cho Cluster trên VKS: VKS giờ đây hỗ trợ sử dụng nhiều subnet cho một\\ncluster. Điều này cho phép bạn cấu hình từng node group trong cluster nằm ở các subnet\\nkhác nhau trong cùng một VPC, tối ưu hóa việc phân bổ tài nguyên và quản lý mạng.\\nChỉnh sửa Labels/Taints trên cụm VKS hiện có: Với khả năng chỉnh sửa trực tiếp\\nLabels/Taints trên cụm VKS đã triển khai, bạn có thể điều khiển việc lên lịch Pod, áp dụng\\ncác chính sách khác nhau cho các Node Group, và tùy chỉnh quy tắc lựa chọn node cho\\ncác ứng dụng. Điều này giúp quản lý và phân loại tài nguyên hiệu quả hơn.\\nEnable/Disable lựa chọn sử dụng Private Service Endpoint: Trước đây, khi tạo private\\ncluster trên VKS, việc tạo private service endpoint là bắt buộc. Giờ đây, bạn có thể dễ\\ndàng bật/tắt tính năng này, cho phép các dịch vụ trong cụm VKS giao tiếp qua địa chỉ IP\\nnội bộ, tăng cường bảo mật và giảm thiểu rủi ro tấn công từ bên ngoài.\\nEnable/Disable lựa chọn mã hóa Volume: Tính năng mã hóa Volume cho phép bạn bảo vệ\\ndữ liệu nhạy cảm được lưu trữ trong các Persistent Volume của cụm VKS. Việc này đảm\\nbảo an toàn dữ liệu và tuân thủ các quy định về bảo vệ thông tin. Giờ đây, bạn có thể\\nbật/tắt tính năng mã hóa cho từng Volume theo nhu cầu.\\nNgày 28 tháng 8 năm 2024\\nVKS (VNGCloud Kubernetes Service) giới thiệu bản cập nhật mới nhất cho VKS đã có sẵn,\\nmang đến nhiều tính năng mới cho người dùng. Dưới đây là chi tiết về bản cập nhật:\\nTính năng mới:\\nPrivate Cluster: Trước đây, các public cluster trên VKS đang sử dụng địa chỉ Public IP để\\ngiao tiếp giữa nodes và control plane. Để nâng cao bảo mật cho cluster của bạn, chúng tôi\\nđã cho ra mắt mô hình private cluster. Tính năng Private Cluster giúp cho cụm K8S của bạn\\nđược bảo mật nhất có thể, mọi kết nối hoàn toàn là private từ kết nối giữa nodes tới\\ncontrol plane, kết nối từ client tới control plane, hay kết nối từ nodes tới các sản phẩm\\ndịch vụ khác trong VNG Cloud như: vStorage, vCR, vMonitor, VNGCloud APIs,...Private\\nCluster là lựa chọn lý tưởng cho các dịch vụ yêu cầu kiểm soát truy cập chặt chẽ, đảm\\nbảo tuân thủ các quy định về bảo mật và quyền riêng tư dữ liệu.\\nNgày 26 tháng 8 năm 2024\\nVKS (VNGCloud Kubernetes Service) giới thiệu bản cập nhật mới nhất cho VKS đã có sẵn,\\nmang đến nhiều cải tiến mới cho người dùng. Dưới đây là chi tiết về bản cập nhật:\\nCải tiến:\\nKubernetes Version: VKS đã bổ sung các image mới nhằm tối ưu hóa size, feature,\\nnetwork,...so với các image cũ. Việc xây dựng các image này cũng nhằm phục vụ cho cả\\nhai loại cluster là Public và Private mà VKS sắp ra mắt. Cụ thể, trong bản phát hành này,\\nchúng tôi đã bổ sung thêm các image sau:'),\n",
       " Document(metadata={'producer': 'Skia/PDF m133', 'creator': 'Mozilla/5.0 (Macintosh; Intel Mac OS X 10_15_7) AppleWebKit/537.36 (KHTML, like Gecko) Chrome/133.0.0.0 Safari/537.36', 'creationdate': '2025-02-18T08:06:19+00:00', 'title': '04-thong-bao-cap-nhat-release-note', 'moddate': '2025-02-18T08:06:19+00:00', 'source': './../data/vks/pdf/vi/04-thong-bao-cap-nhat-release-note.pdf', 'total_pages': 3, 'page': 2, 'page_label': '3'}, page_content='Ubuntu-22.kube_v1.27.12-vks.1724605200\\nUbuntu-22.kube_v1.28.8-vks.1724605200\\nUbuntu-22.kube_v1.29.1-vks.1724605200\\nLưu ý: Để khởi tạo một Private Cluster, bạn cần chọn sử dụng một trong 3 image mới này.\\nĐối với Public Cluster, bạn có thể chọn sử dụng bất kỳ image cũ hoặc mới tùy theo nhu\\ncầu của bạn.'),\n",
       " Document(metadata={'producer': 'Skia/PDF m133', 'creator': 'Mozilla/5.0 (Macintosh; Intel Mac OS X 10_15_7) AppleWebKit/537.36 (KHTML, like Gecko) Chrome/133.0.0.0 Safari/537.36', 'creationdate': '2025-02-14T04:02:19+00:00', 'title': '01-vks-la-gi', 'moddate': '2025-02-14T04:02:19+00:00', 'source': './../data/vks/pdf/vi/01-vks-la-gi.pdf', 'total_pages': 3, 'page': 0, 'page_label': '1'}, page_content='1. Giới thiệu về VNGCloud Kubernetes\\nService - VKS\\n1.1. VNGCloud Kubernetes Service (VKS) là gì?\\nVNGCloud Kubernetes Service (hay còn gọi là VKS) là một dịch vụ quản lý Kubernetes được cung\\ncấp bởi VNGCloud. VKS giúp bạn triển khai và quản lý các ứng dụng dựa trên container một cách\\ndễ dàng và hiệu quả. VKS giúp bạn tập trung vào việc phát triển ứng dụng mà không cần quan tâm\\nđến việc quản lý Control Plane của Kubernetes.\\nVKS (VNGCloud Kubernetes Service) là một dịch vụ được quản lý trên VNGCloud giúp bạn đơn\\ngiản hóa quá trình triển khai và quản lý các ứng dụng dựa trên container. Kubernetes là một nền\\ntảng mã nguồn mở được phát triển bởi Google, được sử dụng rộng rãi để quản lý và triển khai các\\nứng dụng container trên môi trường phân tán.'),\n",
       " Document(metadata={'producer': 'Skia/PDF m133', 'creator': 'Mozilla/5.0 (Macintosh; Intel Mac OS X 10_15_7) AppleWebKit/537.36 (KHTML, like Gecko) Chrome/133.0.0.0 Safari/537.36', 'creationdate': '2025-02-14T04:02:19+00:00', 'title': '01-vks-la-gi', 'moddate': '2025-02-14T04:02:19+00:00', 'source': './../data/vks/pdf/vi/01-vks-la-gi.pdf', 'total_pages': 3, 'page': 1, 'page_label': '2'}, page_content='1.2. Những điểm nổi bật của VKS\\nNhững điểm nổi bật của dịch vụ VKS có thể kể đến gồm:\\nQuản lý Control Plane hoàn toàn tự động (Fully Managed control plane): VKS sẽ giải phóng\\nbạn khỏi gánh nặng quản lý Control Plane của Kubernetes, giúp bạn tập trung vào việc phát\\ntriển ứng dụng.\\nHỗ trợ các phiên bản Kubernetes mới nhất: VKS luôn cập nhật những phiên bản Kubernetes\\nmới nhất (minor version từ 1.27, 1.28, 1.29) để đảm bảo bạn luôn tận dụng được những tính\\nnăng tiên tiến nhất.\\nKubernetes Networking: VKS tích hợp Calico CNI, mang lại tính hiệu quả và bảo mật cao.\\nUpgrade seamlessly: VKS hỗ trợ nâng cấp giữa các phiên bản Kubernetes một cách dễ dàng\\nvà nhanh chóng, giúp bạn luôn cập nhật những cải tiến mới nhất.\\nScaling & Healing Automatically: VKS tự động mở rộng Node group khi cần thiết và tự động\\nsửa lỗi khi node gặp vấn đề, giúp bạn tiết kiệm thời gian và công sức quản lý.'),\n",
       " Document(metadata={'producer': 'Skia/PDF m133', 'creator': 'Mozilla/5.0 (Macintosh; Intel Mac OS X 10_15_7) AppleWebKit/537.36 (KHTML, like Gecko) Chrome/133.0.0.0 Safari/537.36', 'creationdate': '2025-02-14T04:02:19+00:00', 'title': '01-vks-la-gi', 'moddate': '2025-02-14T04:02:19+00:00', 'source': './../data/vks/pdf/vi/01-vks-la-gi.pdf', 'total_pages': 3, 'page': 2, 'page_label': '3'}, page_content='Giảm chi phí và nâng cao độ tin cậy: VKS triển khai Control Plane của Kubernetes ở chế độ\\nsẵn sàng cao và hoàn toàn miễn phí, giúp bạn tiết kiệm chi phí và nâng cao độ tin cậy cho hệ\\nthống.\\nTích hợp Blockstore Native (Container Storage Interface - CSI): VKS cho phép bạn quản lý\\nBlockstore thông qua YAML của Kubernetes, cung cấp lưu trữ bền vững cho container và hỗ\\ntrợ các tính năng quan trọng như thay đổi kích thước, thay đổi IOPS và snapshot volume.\\nTích hợp Load Balancer (Network Load Balancer, Application Load Balancer) thông qua\\ncác driver được tích hợp sẵn như VNGCloud Controller Mananger, VNGCloud Ingress\\nController: VKS cung cấp khả năng quản lý NLB/ALB thông qua YAML của Kubernetes, giúp\\nbạn dễ dàng expose Service trong Kubernetes ra bên ngoài.\\nNâng cao bảo mật: VKS cho phép bạn tạo Private Node Group với chỉ Private IP và kiểm soát\\nquyền truy cập vào cluster thông qua tính năng Whitelist IP, đảm bảo an toàn cho hệ thống của\\nbạn.\\nNgoài ra, VKS còn có các ưu điểm sau:\\nDễ sử dụng: VKS cung cấp giao diện đơn giản và dễ sử dụng.\\nChi phí hợp lý: VKS cung cấp mức giá cạnh tranh cho các dịch vụ của mình.\\n1.3. VKS cung cấp dịch vụ trên các khu vực (region)\\nnào?\\nHiện tại, trên VKS, chúng tôi đang cung cấp cho bạn 2 cơ sở hạ tầng riêng biệt được đặt tại Hà Nội\\nvà Hồ Chí Minh. Bạn có thể lựa chọn sử dụng VKS trên mỗi region tùy thuộc vào vị trí và nhu cầu\\nthực tế của bạn. Đối với 2 farm HCM03, HAN01, các thông số cụ thể cho mỗi region được chúng\\ntôi cung cấp như sau:\\nKhu vực Hồ Chí Minh (HCM03): https://vks.console.vngcloud.vn\\nKhu vực Hà Nội (HAN01): https://vks-han-1.console.vngcloud.vn\\n1.4. Tài liệu tham khảo:\\nBạn có thể tìm hiểu thêm về VKS tại đường dẫn https://docs.vngcloud.vn/vng-cloud-\\ndocument/vn/vks/vks-la-gi')]"
      ]
     },
     "execution_count": 7,
     "metadata": {},
     "output_type": "execute_result"
    }
   ],
   "execution_count": 7
  },
  {
   "cell_type": "code",
   "id": "db32ee4691396266",
   "metadata": {
    "ExecuteTime": {
     "end_time": "2025-03-03T06:09:55.570886Z",
     "start_time": "2025-03-03T06:09:55.559804Z"
    }
   },
   "source": [
    "# Group documents by source\n",
    "merged_docs = defaultdict(str)\n",
    "for doc in docs:\n",
    "    merged_docs[doc.metadata[\"source\"]] += (\n",
    "            doc.page_content + \"\\n\"\n",
    "    )  # Concatenating with newline"
   ],
   "outputs": [],
   "execution_count": 8
  },
  {
   "cell_type": "code",
   "id": "660c9dd7cf907302",
   "metadata": {
    "ExecuteTime": {
     "end_time": "2025-03-03T06:09:57.002147Z",
     "start_time": "2025-03-03T06:09:56.991629Z"
    }
   },
   "source": [
    "new_docs = []\n",
    "\n",
    "for source, doc in merged_docs.items():\n",
    "    new_doc = Document(page_content=doc, metadata={\"source\": source})\n",
    "\n",
    "    new_docs.append(new_doc)"
   ],
   "outputs": [],
   "execution_count": 9
  },
  {
   "cell_type": "code",
   "id": "ab744c7399ca15d3",
   "metadata": {
    "ExecuteTime": {
     "end_time": "2025-03-03T06:09:58.143092Z",
     "start_time": "2025-03-03T06:09:58.131938Z"
    }
   },
   "source": [
    "new_docs"
   ],
   "outputs": [
    {
     "data": {
      "text/plain": [
       "[Document(metadata={'source': './../data/vks/pdf/vi/03-mo-hinh-hoat-dong.pdf'}, page_content='3. Mô hình hoạt động của VKS\\nVNGCloud Kubernetes Service (VKS) hỗ trợ 2 loại cluster chính là Public Cluster và Private\\nCluster. Đối với node group, VKS hỗ trợ 2 loại node group chính là Public Node Group và\\nPrivate Node Group. Từ đó, khách hàng có thể kết hợp giữa các loại cluster và node group để\\ntạo ra các mô hình hoạt động phù hợp với yêu cầu của ứng dụng, cụ thể:\\nPublic Cluster với Public Node Group: Các node trong nodegroup có địa chỉ IP Public\\nriêng, kết đến nối ControlPlane thông qua IP Public của Kubernetes API Server. Điều này\\ndẫn rủi ro bảo mật cao hơn. Tuy nhiên bạn hoàn toàn có thể hạn chế truy cập đến\\nControlPlane thông qua tính năng Whitelist IP. Một điều lưu ý là bạn cần đảm bảo không\\nhạn chế truy cập từ các IP của các node trong nodegroup.\\nPublic Cluster với Private Node Group: Các node trong nodegroup không có địa chỉ IP\\nPublic riêng, không thể kết nối trực tiếp đến ControlPlane. Để các node trong nodegroup\\ncó thể kết nối đến ControlPlane, bạn cần sử dụng một NAT Gateway (NATGW). NATGW\\nhoạt động như một trạm chuyển tiếp, cho phép các node kết nối với ControlPlane mà\\nkhông cần IP Public. VNGCloud khuyến nghị sử dụng Pfsense hoặc Palo Alto như một\\nNATGW cho Cluster của bạn.\\nPrivate Cluster với Public Node Group: Các node trong nodegroup có địa chỉ IP Public\\nriêng, kết đến nối ControlPlane thông qua IP Private của Kubernetes API Server. Điều này\\ngiúp giảm rủi ro bảo mật.\\nPrivate Cluster với Private Node Group: Các node trong nodegroup không có địa chỉ IP\\nPublic riêng, mọi kết nối đến Kubernetes API server đều thông qua IP Private. Điều này\\ngiúp tăng cường bảo mật cho cụm Kubernetes của bạn.\\n3.1. So sánh public cluster và private cluster\\nDưới đây là bảng so sánh giữa việc tạo và sử dụng Public Cluster và Private Cluster trên hệ\\nthống VKS:\\nKết nối:\\nPublic cluster: Sử dụng địa chỉ Public IP để giao tiếp giữa nodes và control plane,\\ngiữa client và control plane, giữa nodes và các dịch vụ khác trong VNG Cloud.\\nPrivate cluster: Sử dụng địa chỉ Private IP để giao tiếp giữa nodes và control plane,\\ngiữa client và control plane, giữa nodes và các dịch vụ khác trong VNG Cloud.\\nBảo mật:\\nPublic cluster: Bảo mật trung bình do các kết nối sử dụng Public IP.\\nPrivate cluster: Bảo mật cao hơn với tất cả kết nối đều private và giới hạn truy cập.\\nQuản lý truy cập:\\nPublic cluster: Khó kiểm soát hơn, có thể quản lý truy cập thông qua tính năng\\nWhitelist.\\nPrivate cluster: Kiểm soát truy cập chặt chẽ, mọi kết nối đều nằm trong mạng private\\ncủa VNG Cloud, từ đó giảm thiểu nguy cơ từ các cuộc tấn công mạng từ bên ngoài.\\nKhả năng mở rộng (AutoScaling):\\nPublic cluster: Dễ dàng mở rộng thông qua tính năng Auto Scaling.\\nPrivate cluster: Dễ dàng mở rộng thông qua tính năng Auto Scaling.\\nKhả năng tự hồi phục (AutoHealing):\\nPublic cluster: Tự động phát hiện lỗi và khởi động lại node (Auto Healing)\\nPrivate cluster: Tự động phát hiện lỗi và khởi động lại node (Auto Healing)\\nKhả năng truy cập từ bên ngoài:\\nPublic cluster: Dễ dàng truy cập từ bất kỳ đâu với\\nPrivate cluster: Truy cập từ bên ngoài phải qua các giải pháp bảo mật khác.\\nCấu hình và triển khai:\\nPublic cluster: Đơn giản hơn do không yêu cầu thiết lập mạng nội bộ.\\nPrivate cluster: Phức tạp hơn, yêu cầu cấu hình mạng private và bảo mật.\\nChi phí:\\nPublic cluster: Thường thấp hơn do không cần thiết lập cơ sở hạ tầng bảo mật phức\\ntạp.\\nPrivate cluster: Chi phí cao hơn do yêu cầu thêm các thành phần bảo mật và quản lý.\\nCụ thể, khi sử dụng private cluster, bạn cần chi trả chi phí cho 4 private service\\nendpoint được tạo tự động để kết nối tới các dịch vụ trên VNGCloud.\\nTính linh hoạt:\\nPublic cluster: Cao, dễ dàng thay đổi và truy cập các dịch vụ.\\nPrivate cluster: Linh hoạt hơn trong các ứng dụng yêu cầu bảo mật, nhưng ít linh hoạt\\nhơn cho các ứng dụng yêu cầu truy cập từ bên ngoài.\\nKết luận:\\nPublic Cluster: Phù hợp cho các ứng dụng không yêu cầu bảo mật cao và cần sự linh\\nhoạt, truy cập từ nhiều địa điểm. Dễ dàng triển khai và quản lý nhưng có rủi ro bảo mật\\ncao hơn.\\nPrivate Cluster: Phù hợp cho các ứng dụng yêu cầu bảo mật cao, tuân thủ nghiêm ngặt\\ncác quy định về bảo mật và quyền riêng tư. Mang lại kết nối ổn định và bảo mật, nhưng\\nyêu cầu cấu hình và quản lý phức tạp hơn, cũng như chi phí cao hơn.\\n'),\n",
       " Document(metadata={'source': './../data/vks/pdf/vi/02-nlb.pdf'}, page_content='2. Tích hợp Network Load Balancer (NLB) trên VKS\\n2.1. Network Load Balancer (NLB) là gì?\\nNetwork Load Balancer (tên viết tắt là NLB) là một bộ cân bằng tải được cung cấp bởi VNGCloud giúp phân phối lưu lượng truy cập\\nmạng đến nhiều máy chủ back-end (backend servers) trong một nhóm máy tính (instance group). NLB hoạt động ở layer 4 của mô hình\\nOSI, giúp cân bằng tải dựa trên địa chỉ IP và cổng TCP/UDP. Để biết thêm thông tin chi tiết về NLB, vui lòng tham khảo tại\\nhttps://docs.vngcloud.vn/vng-cloud-document/vn/vks/network/lam-viec-voi-network-load-balancing-nlb\\n2.2. Mô hình triển khai\\n(Đường dẫn đến hình ảnh: https://docs.vngcloud.vn/~gitbook/image?url=https%3A%2F%2F3672463924-\\nﬁles.gitbook.io%2F%7E%2Fﬁles%2Fv0%2Fb%2Fgitbook-x-\\nprod.appspot.com%2Fo%2Fspaces%252FB0NrrrdJdpYOYzRkbWp5%252Fuploads%252FVYBtJjEoUNgDi1f5J9vL%252Fimage.png%3Falt%3\\nDmedia%26token%3D554a2d62-320e-48d1-a884-3c7cce589071&width=768&dpr=2&quality=100&sign=4336a109&sv=2)\\nVNGCloud LoadBalancer Controller: là một bộ điều khiển (hay còn gọi là controller) chạy trên các cụm Kubernetes được triển khai trên\\nVNGCloud. Controller này chịu trách nhiệm:\\nQuản lý các Network Load Balancer (NLB) cho các Service của Kubernetes có thuộc tính \\xa0serviceType\\xa0 là \\xa0LoadBalancer\\xa0.\\nĐiều phối lưu lượng mạng đến các \\xa0pod\\xa0 trên worker node của bạn.\\n2.3. Cài đặt VNGCloud LoadBalancer Controller để sử dụng NLB\\nĐể sử dụng NLB trên VKS, bạn cần cài đặt plugin VNGCloud LoadBalancer Controller. Plugin này đảm nhận vai trò quản lý và cấu hình NLB\\ncho các tài nguyên \\xa0Service\\xa0 có thuộc tính \\xa0serviceType\\xa0 là \\xa0LoadBalancer\\xa0. Mặc định, một cụm Kubernetes trên VKS đã được cài đặt sẵn\\nplugin VNGCloud LoadBalancer Controller này. Việc cài đặt sẵn này giúp bạn có thể sử dụng NLB mà không cần phải thực hiện thêm bất kỳ\\nthao tác cấu hình nào khác và đảm bảo luôn được cập nhật phiên bản mới nhất. Tuy nhiên người dùng hoàn toàn có thể bật/tắt plugin này\\nthông qua thiết lập Enable vLB Native Integration Driver trên VKS Console.\\nNgoài ra, người dùng hoàn toàn có thể tự cài đặt plugin VNGCloud LoadBalancer Controller bằng cách thực hiện các bước sau:\\nBước 1: Tạo một Kubernetes cluster trên VKS, hoặc sử dụng một cluster đã có. Tải ﬁle \\xa0kubeconfig\\xa0 của cluster về thiết bị của bạn.\\nNgoài ra, bạn nên kiểm tra ﬁle \\xa0kubeconfig\\xa0 này đã có thể kết nối đến cluster thành công hay chưa thông qua \\xa0kubectl\\xa0 CLI.\\nBước 2: Khởi tạo hoặc sử dụng một IAM Service Account đã có trên IAM Console và thiết lập hai policy \\xa0vLBFullAccess\\xa0 và\\n\\xa0vServerFullAccess\\xa0 cho Service Account này. Bạn có thể tham khảo cách tạo Service Account tại https://hcm-\\n3.console.vngcloud.vn/iam/service-accounts. Sau đó, bạn cần lưu lại Client ID và Client Secret của Service Account này.\\nBước 3: Bạn cần cài đặt Helm 3.0 trên thiết bị của bạn, bạn có thể tham khảo cách cài đặt Helm tại https://helm.sh/docs/intro/install.\\nSau khi \\xa0helm\\xa0 CLI đã được cài đặt thành công, bạn đã có thể dùng \\xa0helm\\xa0 CLI để cài đặt plugin, lưu ý rằng bạn cần thay thế các giá trị\\nClient ID và Client Secret của Service Account vào lệnh dưới đây:\\nhelm install vngcloud-load-balancer-controller oci://vcr.vngcloud.vn/81-vks-public/vks-helm-charts/vngcloud-load-balance\\nBước 4: Sau khi Helm hoàn tất việc cài đặt VNGCloud LoadBalancer Controller, bạn có thể kiểm tra xem plugin đã hoạt động hay chưa\\nbằng lệnh:\\nkubectl -n kube-system get pod -l app.kubernetes.io/name=vngcloud-load-balancer-controller\\nDưới đây là ví dụ kết quả trả về khi plugin đã hoạt động:\\nNAME                                                              READY   STATUS    RESTARTS   AGE\\nvngcloud-load-balancer-controller-1736217866-manager-77599vrxpz   1 /1     Running   0           4h24m\\n2.4. Sử dụng Network Load Balancer (NLB) trên VKS\\nSau khi đã cài đặt plugin VNGCloud LoadBalancer Controller thành công, bạn đã có thể sử dụng NLB thông quà tài nguyên \\xa0Service\\xa0 trên\\nKubernetes. Dưới đây là một vài tình huống sử dụng NLB trên VKS:\\nVí dụ 1: Công khai một dịch vụ Nginx trên cổng 80 với NLB đến Internet:\\napiVersion: apps/v1\\nkind: Deployment\\nmetadata:\\n  name: nginx-app\\nspec:\\n  selector:\\n    matchLabels:\\n      app: nginx\\n  replicas: 1 \\n  template:\\n    metadata:\\n      labels:\\n        app: nginx\\n    spec:\\n      containers:\\n      - name: nginx\\n        image: nginx:1.19.1\\n        ports:\\n        - containerPort: 8 0 \\n---\\napiVersion: v1\\nkind: Service\\nmetadata:\\n  name: nginx-service\\nspec:\\n  selector:\\n    app: nginx\\n  type: LoadBalancer \\n  ports:\\n    - protocol: TCP\\n      port: 8 0 \\n      targetPort: 8 0 \\nVí dụ 2: Triển khai dịch vụ Apache HTTP và chỉ cho phép truy cập nội bộ qua port 8080:\\napiVersion: apps/v1\\nkind: Deployment\\nmetadata:\\n  name: internal-http-apache2-deployment\\nspec:\\n  replicas: 2 \\n  selector:\\n    matchLabels:\\n      app: apache2\\n  template:\\n    metadata:\\n      labels:\\n        app: apache2\\n    spec:\\n      containers:\\n        - name: apache2\\n          image: httpd\\n          ports:\\n            - containerPort: 8 0 \\n---\\napiVersion: v1\\nkind: Service\\nmetadata:\\n  name: internal-http-apache2-service\\n  annotations:\\n    vks.vngcloud.vn/scheme: \"internal\"              # Thiệt lập annotation để tạo NLB nội bộ\\nspec:\\n  selector:\\n    app: apache2\\n  type: LoadBalancer\\n  ports:\\n    - name: http\\n      protocol: TCP\\n      port: 8 0 8 0 \\n      targetPort: 8 0 \\nVí dụ 3: Triển khai một dịch vụ sử dụng protocol UDP:\\napiVersion: apps/v1\\nkind: Deployment\\nmetadata:\\n  name: udp-server-deployment\\nspec:\\n  selector:\\n    matchLabels:\\n      name: udp-server\\n  replicas: 5 \\n  template:\\n    metadata:\\n      labels:\\n        name: udp-server\\n    spec:\\n      containers:\\n      - name: udp-server\\n        image: vcr.vngcloud.vn/udp-server\\n        imagePullPolicy: Always\\n        ports:\\n        - containerPort: 1 0 0 0 1 \\n          protocol: UDP\\n---\\napiVersion: v1\\nkind: Service\\nmetadata:\\n  name: udp-server-service\\n  annotations:\\n    vks.vngcloud.vn/pool-algorithm: \"source-ip\"   # Thiết lập annotation để chọn thuật toán cân bằng tải\\n  labels:\\n    app: udp-server\\nspec:\\n  type: LoadBalancer\\n  sessionAffinity: ClientIP\\n  ports:\\n  - port: 1 0 0 0 1 \\n    protocol: UDP\\n  selector:\\n    name: udp-server\\nVí dụ 4: Sử dụng lại một NLB đã có trên hệ thống vLB. Để sử dụng lại một NLB đã có, bạn cần nhập thông tin Load Balancer ID vào\\nannotation \\xa0vks.vngcloud.vn/load-balancer-id\\xa0 của Service:\\napiVersion: apps/v1\\nkind: Deployment\\nmetadata:\\n  name: external-http-nginx-deployment\\nspec:\\n  replicas: 2 \\n  selector:\\n    matchLabels:\\n      app: nginx\\n  template:\\n    metadata:\\n      labels:\\n        app: nginx\\n    spec:\\n      containers:\\n      - name: nginx\\n        image: nginx\\n        ports:\\n        - containerPort: 8 0 \\n---\\nkind: Service\\napiVersion: v1\\nmetadata:\\n  name: external-http-nginx-service\\n  annotations:\\n    vks.vngcloud.vn/load-balancer-id: \"__PUT_YOUR_LOAD_BALANCER_ID__\"\\nspec:\\n  selector:\\n    app: nginx\\n  type: LoadBalancer\\n  ports:\\n  - name: http\\n    port: 8 0 \\n    targetPort: 8 0 \\nNgoài ra, bạn cũng có thể tìm hiểu thêm về các annotation khác mà bạn có thể sử dụng để tùy chỉnh NLB phù hợp với nhu cầu của bạn tại\\nđường dẫn https://docs.vngcloud.vn/vng-cloud-document/vn/vks/network/lam-viec-voi-network-load-balancing-nlb/cau-hinh-cho-mot-\\nnetwork-load-balancer.\\n2.5. Cấu hình cho một Network Load Balancer\\nBạn có thể tùy chỉnh hoặc cấu hình NLB phù hợp với nhu cầu của bạn thông qua các annotation dưới đây:\\n\\xa0vks.vngcloud.vn/load-balancer-id\\xa0:\\nBắt buộc phải có trong spec của tài nguyên \\xa0Service\\xa0: Không bắt buộc\\nÝ nghĩa: Dùng để sử dụng lại một NLB sẵn có trên hệ thống vLB. Nếu annotation này không được thiết lập, một NLB mới sẽ được\\ntạo tự động.\\n\\xa0vks.vngcloud.vn/load-balancer-name\\xa0:\\nBắt buộc phải có trong spec của tài nguyên \\xa0Service\\xa0: Không bắt buộc\\nÝ nghĩa: Giá trị của annotation này sẽ dùng làm tên cho NLB của bạn. Nếu annotation này không được thiết lập, VNGCloud\\nLoadBalancer Controller sẽ tự động tạo một tên cho NLB của bạn. Annotation này sẽ không có tác dụng nếu một trong các\\nannotation sau được thiết lập: \\xa0vks.vngcloud.vn/load-balancer-id\\xa0.\\n\\xa0vks.vngcloud.vn/package-id\\xa0:\\nBắt buộc phải có trong spec của tài nguyên \\xa0Service\\xa0: Không bắt buộc\\nÝ nghĩa: Dùng để thiết lập package của NLB. Nếu không được thiết lập, mặc định sẽ sử dụng cấu hình NLB Small. Ngoài ra, bạn\\ncũng có thể dùng annotation này để cấu hình lại package của NLB hiện tại.\\n\\xa0vks.vngcloud.vn/tags\\xa0:\\nBắt buộc phải có trong spec của tài nguyên \\xa0Service\\xa0: Không bắt buộc\\nÝ nghĩa: Tiến hành gắn thẻ cho NLB của bạn. Thẻ này bao gồm các cặp key-value nhằm giúp bạn dễ dàng quản lí các NLB trên\\nVNGCloud Portal.\\n\\xa0vks.vngcloud.vn/scheme\\xa0:\\nBắt buộc phải có trong spec của tài nguyên \\xa0Service\\xa0: Không bắt buộc\\nÝ nghĩa: Bao gồm 2 giá trị là \\xa0internet-facing\\xa0 và \\xa0internal\\xa0. Nếu giá trị của annotation này là \\xa0internet-facing\\xa0, NLB sẽ được cấu\\nhình để truy cập từ Internet. Nếu giá trị của annotation này là \\xa0internal\\xa0, NLB sẽ được cấu hình để truy cập từ mạng nội bộ.\\n\\xa0vks.vngcloud.vn/security-groups\\xa0:\\nBắt buộc phải có trong spec của tài nguyên \\xa0Service\\xa0: Không bắt buộc\\nÝ nghĩa: Mặc định, VNGCloud LoadBalancer Controller sẽ tự động tạo một Security Group mới cho NLB của bạn. Tuy nhiên, nếu\\nbạn muốn sử dụng một Security Group đã có, bạn có thể sử dụng annotation này để thiết lập Security Group cho NLB của bạn. Ví\\ndụ: \\xa0vks.vngcloud.vn/security-groups: secg-303d9c91-f4b2-400d-8e81-12039167da0c\\xa0. Ngoài ra, bạn cũng có thể cấu hình nhiều\\nSecurity Group cho NLB của bạn bằng cách sử dụng dấu phẩy \\xa0,\\xa0 để ngăn cách giữa các Security Group. Ví dụ:\\n\\xa0vks.vngcloud.vn/security-groups: secg-303d9c91-f4b2-400d-8e81-12039167da0c,secg-303d9c91-f4b2-400d-8e81-12039167da0d\\xa0\\n.\\n\\xa0vks.vngcloud.vn/inbound-cidrs\\xa0:\\nBắt buộc phải có trong spec của tài nguyên \\xa0Service\\xa0: Không bắt buộc\\nÝ nghĩa: Mặc định, NLB sẽ được cấu hình để truy cập từ mọi địa chỉ IP. Tuy nhiên, nếu bạn muốn cấu hình NLB để chỉ cho phép truy\\ncập từ một số địa chỉ IP cụ thể, bạn có thể sử dụng annotation này. Ví dụ: \\xa0vks.vngcloud.vn/inbound-cidrs: 183.23.23.13\\xa0. Ngoài\\nra, bạn cũng có thể cấu hình nhiều địa chỉ IP cho NLB của bạn bằng cách sử dụng dấu phẩy \\xa0,\\xa0 để ngăn cách giữa các địa chỉ IP. Ví\\ndụ: \\xa0vks.vngcloud.vn/inbound-cidrs: 183.23.23.13,183.23.23.23\\xa0.\\n\\xa0vks.vngcloud.vn/healthy-threshold-count\\xa0:\\nBắt buộc phải có trong spec của tài nguyên \\xa0Service\\xa0: Không bắt buộc\\nÝ nghĩa: Là ngưỡng số lần liên tiếp mà một máy chủ back-end phải trả về trạng thái \\xa0healthy\\xa0 để được coi là HEALTHY. Mặc định,\\ngiá trị của annotation này là \\xa03\\xa0.\\n\\xa0vks.vngcloud.vn/unhealthy-threshold-count\\xa0:\\nBắt buộc phải có trong spec của tài nguyên \\xa0Service\\xa0: Không bắt buộc\\nÝ nghĩa: Là ngưỡng số lần liên tiếp mà một máy chủ back-end phải trả về trạng thái \\xa0unhealthy\\xa0 để được coi là UNHEALTHY. Mặc\\nđịnh, giá trị của annotation này là \\xa03\\xa0.\\n\\xa0vks.vngcloud.vn/healthcheck-interval-seconds\\xa0:\\nBắt buộc phải có trong spec của tài nguyên \\xa0Service\\xa0: Không bắt buộc\\nÝ nghĩa: Là khoảng thời gian giữa các lần kiểm tra sức khỏe của máy chủ back-end. Mặc định, giá trị của annotation này là \\xa030\\xa0 giây.\\n\\xa0vks.vngcloud.vn/healthcheck-timeout-seconds\\xa0:\\nBắt buộc phải có trong spec của tài nguyên \\xa0Service\\xa0: Không bắt buộc\\nÝ nghĩa: Là thời gian tối đa mà một máy chủ back-end phải trả về trạng thái \\xa0healthy\\xa0 hoặc \\xa0unhealthy\\xa0. Mặc định, giá trị của\\nannotation này là \\xa05\\xa0 giây.\\n\\xa0vks.vngcloud.vn/healthcheck-protocol\\xa0:\\nBắt buộc phải có trong spec của tài nguyên \\xa0Service\\xa0: Không bắt buộc\\nÝ nghĩa: Là giao thức sử dụng để kiểm tra sức khỏe của máy chủ back-end. Mặc định, giá trị của annotation này là \\xa0TCP\\xa0. Ngoài ra,\\nmột vài giá trị khác mà bạn có thể sử dụng là \\xa0PING-UDP\\xa0, \\xa0HTTP\\xa0, \\xa0HTTPS\\xa0.\\n\\xa0vks.vngcloud.vn/healthcheck-http-method\\xa0:\\nBắt buộc phải có trong spec của tài nguyên \\xa0Service\\xa0: Không bắt buộc\\nÝ nghĩa: Là phương thức HTTP sử dụng để kiểm tra sức khỏe của máy chủ back-end. Mặc định, giá trị của annotation này là \\xa0GET\\xa0.\\nNgoài ra, một vài giá trị khác mà bạn có thể sử dụng là \\xa0PUT\\xa0, \\xa0POST\\xa0. Lưu ý rằng annotation này chỉ có tác dụng khi\\n\\xa0vks.vngcloud.vn/healthcheck-protocol\\xa0 được thiết lập là \\xa0HTTP\\xa0 hoặc \\xa0HTTPS\\xa0.\\n\\xa0vks.vngcloud.vn/healthcheck-path\\xa0:\\nBắt buộc phải có trong spec của tài nguyên \\xa0Service\\xa0: Không bắt buộc\\nÝ nghĩa: Là đường dẫn sử dụng để kiểm tra sức khỏe của máy chủ back-end. Mặc định, giá trị của annotation này là \\xa0/\\xa0. Lưu ý rằng\\nannotation này chỉ có tác dụng khi \\xa0vks.vngcloud.vn/healthcheck-protocol\\xa0 được thiết lập là \\xa0HTTP\\xa0 hoặc \\xa0HTTPS\\xa0.\\n\\xa0vks.vngcloud.vn/healthcheck-http-version\\xa0:\\nBắt buộc phải có trong spec của tài nguyên \\xa0Service\\xa0: Không bắt buộc\\nÝ nghĩa: Là phiên bản HTTP sử dụng để kiểm tra sức khỏe của máy chủ back-end. Mặc định, giá trị của annotation này là \\xa01.0\\xa0.\\nNgoài ra bạn cũng có thể sử dụng giá trị \\xa01.1\\xa0 khi cần thiết. Lưu ý rằng annotation này chỉ có tác dụng khi\\n\\xa0vks.vngcloud.vn/healthcheck-protocol\\xa0 được thiết lập là \\xa0HTTP\\xa0 hoặc \\xa0HTTPS\\xa0.\\n\\xa0vks.vngcloud.vn/healthcheck-http-domain-name\\xa0:\\nBắt buộc phải có trong spec của tài nguyên \\xa0Service\\xa0: Không bắt buộc\\nÝ nghĩa: Là tên miền sử dụng để kiểm tra sức khỏe của máy chủ back-end. Mặc định, giá trị của annotation này là RỖNG. Lưu ý rằng\\nannotation này chỉ có tác dụng khi \\xa0vks.vngcloud.vn/healthcheck-protocol\\xa0 được thiết lập là \\xa0HTTP\\xa0 hoặc \\xa0HTTPS\\xa0.\\n\\xa0vks.vngcloud.vn/healthcheck-port\\xa0:\\nBắt buộc phải có trong spec của tài nguyên \\xa0Service\\xa0: Không bắt buộc\\nÝ nghĩa: Là cổng sử dụng để kiểm tra sức khỏe của máy chủ back-end. Mặc định, giá trị của annotation này sẽ lấy theo trường \\xa0port\\xa0\\ncủa tài nguyên \\xa0Service\\xa0 cần dùng NLB này. Lưu ý rằng annotation này chỉ có tác dụng khi\\nvks.vngcloud.vn/healthcheck-protocol\\xa0 được thiết lập là \\xa0HTTP\\xa0 hoặc \\xa0HTTPS\\xa0.\\n\\xa0vks.vngcloud.vn/success-codes\\xa0:\\nBắt buộc phải có trong spec của tài nguyên \\xa0Service\\xa0: Không bắt buộc\\nÝ nghĩa: Là mã trạng thái HTTP sẽ được coi là thành công khi kiểm tra sức khỏe của máy chủ back-end. Mặc định, giá trị của\\nannotation này là \\xa0200\\xa0. Lưu ý rằng annotation này chỉ có tác dụng khi \\xa0vks.vngcloud.vn/healthcheck-protocol\\xa0 được thiết lập là\\n\\xa0HTTP\\xa0 hoặc \\xa0HTTPS\\xa0.\\n\\xa0vks.vngcloud.vn/idle-timeout-client\\xa0:\\nBắt buộc phải có trong spec của tài nguyên \\xa0Service\\xa0: Không bắt buộc\\nÝ nghĩa: Là thời gian tối đa mà một kết nối từ client có thể không hoạt động trước khi bị đóng. Mặc định, giá trị của annotation này là\\n\\xa050\\xa0 giây.\\n\\xa0vks.vngcloud.vn/idle-timeout-member\\xa0:\\nBắt buộc phải có trong spec của tài nguyên \\xa0Service\\xa0: Không bắt buộc\\nÝ nghĩa: Là thời gian tối đa mà một kết nối từ máy chủ back-end có thể không hoạt động trước khi bị đóng. Mặc định, giá trị của\\nannotation này là \\xa050\\xa0 giây.\\n\\xa0vks.vngcloud.vn/idle-timeout-connection\\xa0:\\nBắt buộc phải có trong spec của tài nguyên \\xa0Service\\xa0: Không bắt buộc\\nÝ nghĩa: Là thời gian tối đa mà một kết nối giữa NLB và máy chủ back-end có thể không hoạt động trước khi bị đóng. Mặc định, giá\\ntrị của annotation này là \\xa05\\xa0 giây.\\n\\xa0vks.vngcloud.vn/pool-algorithm\\xa0:\\nBắt buộc phải có trong spec của tài nguyên \\xa0Service\\xa0: Không bắt buộc\\nÝ nghĩa: Là thuật toán cân bằng tải sẽ được sử dụng cho NLB. Mặc định, giá trị của annotation này là \\xa0ROUND_ROBIN\\xa0. Ngoài ra, một\\nvài giá trị khác mà bạn có thể sử dụng là \\xa0SOURCE_IP\\xa0, \\xa0LEAST_CONNECTIONS\\xa0.\\n\\xa0vks.vngcloud.vn/target-node-labels\\xa0:\\nBắt buộc phải có trong spec của tài nguyên \\xa0Service\\xa0: Không bắt buộc\\nÝ nghĩa: Mặc định VNGCloud LoadBalancer Controller sẽ chọn toàn bộ các node trong cluster để thêm vào pool của NLB. Tuy\\nnhiên, nếu bạn muốn chỉ chọn một số node cụ thể, bạn có thể sử dụng annotation này. Ví dụ:\\n\\xa0vks.vngcloud.vn/target-node-labels: node-role.kubernetes.io/worker=true\\xa0. Lưu ý rằng bạn cũng có thể cấu hình nhiều node\\ncho NLB của bạn bằng cách sử dụng dấu phẩy \\xa0,\\xa0 để ngăn cách giữa các node. Ví dụ:\\n\\xa0vks.vngcloud.vn/target-node-labels: node-role.kubernetes.io/worker=true,node-role.kubernetes.io/worker=false\\xa0.\\n\\xa0vks.vngcloud.vn/enable-proxy-protocol\\xa0:\\nBắt buộc phải có trong spec của tài nguyên \\xa0Service\\xa0: Không bắt buộc\\nÝ nghĩa: Mặc định, giá trị của annotation này là RỖNG. Bạn cần chỉ định danh sách các Service Port Name (trong tài nguyên\\n\\xa0Service\\xa0, bạn có thể chỉ định nhiều Service Port, mỗi Service Port này bạn cần cấu hình thuộc tính \\xa0name\\xa0 cho chúng để sử dụng tính\\nnăng này) mà Proxy Protocol sẽ được kích hoạt. Ví dụ:\\n\\xa0vks.vngcloud.vn/enable-proxy-protocol: service_port_name_1,service_port_name_2\\xa0. Hoặc nếu bạn muốn kích hoạt Proxy\\nProtocol cho tất cả các Service Port, bạn có thể sử dụng giá trị \\xa0*\\xa0. Ví dụ: \\xa0vks.vngcloud.vn/enable-proxy-protocol: \"*\"\\xa0.\\n2.6. Những hạn chế của NLB trên VKS\\nMột NLB có thể được sử dụng chung cho nhiều cluster nhưng phải đảm bảo các cluster này có chung một VPC.\\nMột NLB sẽ bị giới hạn về số lượng pools, listeners, members. Chi tiết tại https://docs.vngcloud.vn/pages/viewpage.action?\\npageId=59802094.\\n2.7. Tài liệu tham khảo\\nBạn có thể tham khảo tại liệu trên website của VNGCloud tại https://docs.vngcloud.vn/vng-cloud-document/vn/vks/network/lam-viec-voi-\\nnetwork-load-balancing-nlb.\\n'),\n",
       " Document(metadata={'source': './../data/vks/pdf/vi/04-thong-bao-cap-nhat-release-note.pdf'}, page_content='4. Thông báo cập nhật (release notes)\\nNgày 05 tháng 12 năm 2024\\nVKS (VNGCloud Kubernetes Service) vừa ra mắt bản cập nhật mới nhất, mang đến nhiều tính\\nnăng mới cho người dùng. Dưới đây là những điểm nổi bật của bản cập nhật:\\nTính năng mới:\\nForce-Upgrade, Auto-Upgrade: Tự động nâng cấp phiên bản Kubernetes cho cluster/\\nnode group theo lịch trình hoặc khi phiên bản hiện tại sắp hết hạn.\\nNgày 23 tháng 10 năm 2024\\nVKS (VNGCloud Kubernetes Service) vừa ra mắt bản cập nhật mới nhất, mang đến nhiều cải\\ntiến cho người dùng. Dưới đây là những điểm nổi bật của bản cập nhật:\\nCải tiến:\\nHỗ trợ POC/ Stop POC cho Cluster: Người dùng giờ đây có thể thực hiện POC/ Stop POC\\ncho các tài nguyên trên VKS như Server, Volume, Load Balancer, Endpoint. Tính năng này\\nmang đến sự linh hoạt cao cho người dùng khi muốn trải nghiệm với VKS. Chi tiết tham\\nkhảo thêm tại đây.\\nNâng cấp Plugin VNGCloud BlockStorage CSI Driver: Các lỗi đã được phát hiện trong các\\nphiên bản trước đã được khắc phục, giúp hệ thống hoạt động mượt mà và tin cậy hơn.\\nTự do lựa chọn/ chỉnh sửa cấu hình có/ không sử dụng plugin VNGCloud LoadBalancer\\nController, Plugin VNGCloud Ingress Controller trên cụm VKS hiện có: Khả năng tùy chỉnh\\ncấu hình plugin cho phép người dùng tối ưu hóa cụm VKS theo nhu cầu cụ thể của mình.\\nĐiều này giúp tăng tính linh hoạt và đáp ứng các yêu cầu đặc biệt của từng ứng dụng.\\nNgoài ra, trong bản cập nhật này, chúng tôi cũng đã khắc phục một số lỗi nhỏ để mang\\nđến trải nghiệm người dùng tốt hơn.\\nNgày 03 tháng 10 năm 2024\\nVKS (VNGCloud Kubernetes Service) vừa ra mắt bản cập nhật mới nhất, mang đến nhiều tính\\nnăng và cải tiến cho người dùng. Dưới đây là những điểm nổi bật của bản cập nhật:\\nTriển khai Region mới:\\nBên cạnh Region HCM03, VKS hiện đã hỗ trợ thêm Region HAN01. Việc bổ sung này giúp\\nkhách hàng có thêm lựa chọn trong việc triển khai ứng dụng, đặc biệt hữu ích cho các\\ndoanh nghiệp có yêu cầu về vị trí đặt dữ liệu.\\nTính năng mới:\\nNetwork Type: Cilium Overlay, Cilium VPC Native Routing: Ngoài Calico Overlay, bản phát\\nhành lần này chúng tôi đã bổ sung hai loại mạng mới: Cilium Overlay và Cilium VPC Native\\nRouting. Cilium Overlay cho phép bạn xây dựng mạng overlay linh hoạt, trong khi Cilium\\nVPC Native Routing tích hợp chặt chẽ với VPC của VNG Cloud, giúp tối ưu hiệu suất và\\nbảo mật cho ứng dụng của bạn. Chi tiết tham khảo thêm tại đây.\\nCải tiến:\\nMultiple Subnet cho Cluster trên VKS: VKS giờ đây hỗ trợ sử dụng nhiều subnet cho một\\ncluster. Điều này cho phép bạn cấu hình từng node group trong cluster nằm ở các subnet\\nkhác nhau trong cùng một VPC, tối ưu hóa việc phân bổ tài nguyên và quản lý mạng.\\nChỉnh sửa Labels/Taints trên cụm VKS hiện có: Với khả năng chỉnh sửa trực tiếp\\nLabels/Taints trên cụm VKS đã triển khai, bạn có thể điều khiển việc lên lịch Pod, áp dụng\\ncác chính sách khác nhau cho các Node Group, và tùy chỉnh quy tắc lựa chọn node cho\\ncác ứng dụng. Điều này giúp quản lý và phân loại tài nguyên hiệu quả hơn.\\nEnable/Disable lựa chọn sử dụng Private Service Endpoint: Trước đây, khi tạo private\\ncluster trên VKS, việc tạo private service endpoint là bắt buộc. Giờ đây, bạn có thể dễ\\ndàng bật/tắt tính năng này, cho phép các dịch vụ trong cụm VKS giao tiếp qua địa chỉ IP\\nnội bộ, tăng cường bảo mật và giảm thiểu rủi ro tấn công từ bên ngoài.\\nEnable/Disable lựa chọn mã hóa Volume: Tính năng mã hóa Volume cho phép bạn bảo vệ\\ndữ liệu nhạy cảm được lưu trữ trong các Persistent Volume của cụm VKS. Việc này đảm\\nbảo an toàn dữ liệu và tuân thủ các quy định về bảo vệ thông tin. Giờ đây, bạn có thể\\nbật/tắt tính năng mã hóa cho từng Volume theo nhu cầu.\\nNgày 28 tháng 8 năm 2024\\nVKS (VNGCloud Kubernetes Service) giới thiệu bản cập nhật mới nhất cho VKS đã có sẵn,\\nmang đến nhiều tính năng mới cho người dùng. Dưới đây là chi tiết về bản cập nhật:\\nTính năng mới:\\nPrivate Cluster: Trước đây, các public cluster trên VKS đang sử dụng địa chỉ Public IP để\\ngiao tiếp giữa nodes và control plane. Để nâng cao bảo mật cho cluster của bạn, chúng tôi\\nđã cho ra mắt mô hình private cluster. Tính năng Private Cluster giúp cho cụm K8S của bạn\\nđược bảo mật nhất có thể, mọi kết nối hoàn toàn là private từ kết nối giữa nodes tới\\ncontrol plane, kết nối từ client tới control plane, hay kết nối từ nodes tới các sản phẩm\\ndịch vụ khác trong VNG Cloud như: vStorage, vCR, vMonitor, VNGCloud APIs,...Private\\nCluster là lựa chọn lý tưởng cho các dịch vụ yêu cầu kiểm soát truy cập chặt chẽ, đảm\\nbảo tuân thủ các quy định về bảo mật và quyền riêng tư dữ liệu.\\nNgày 26 tháng 8 năm 2024\\nVKS (VNGCloud Kubernetes Service) giới thiệu bản cập nhật mới nhất cho VKS đã có sẵn,\\nmang đến nhiều cải tiến mới cho người dùng. Dưới đây là chi tiết về bản cập nhật:\\nCải tiến:\\nKubernetes Version: VKS đã bổ sung các image mới nhằm tối ưu hóa size, feature,\\nnetwork,...so với các image cũ. Việc xây dựng các image này cũng nhằm phục vụ cho cả\\nhai loại cluster là Public và Private mà VKS sắp ra mắt. Cụ thể, trong bản phát hành này,\\nchúng tôi đã bổ sung thêm các image sau:\\nUbuntu-22.kube_v1.27.12-vks.1724605200\\nUbuntu-22.kube_v1.28.8-vks.1724605200\\nUbuntu-22.kube_v1.29.1-vks.1724605200\\nLưu ý: Để khởi tạo một Private Cluster, bạn cần chọn sử dụng một trong 3 image mới này.\\nĐối với Public Cluster, bạn có thể chọn sử dụng bất kỳ image cũ hoặc mới tùy theo nhu\\ncầu của bạn.\\n'),\n",
       " Document(metadata={'source': './../data/vks/pdf/vi/01-vks-la-gi.pdf'}, page_content='1. Giới thiệu về VNGCloud Kubernetes\\nService - VKS\\n1.1. VNGCloud Kubernetes Service (VKS) là gì?\\nVNGCloud Kubernetes Service (hay còn gọi là VKS) là một dịch vụ quản lý Kubernetes được cung\\ncấp bởi VNGCloud. VKS giúp bạn triển khai và quản lý các ứng dụng dựa trên container một cách\\ndễ dàng và hiệu quả. VKS giúp bạn tập trung vào việc phát triển ứng dụng mà không cần quan tâm\\nđến việc quản lý Control Plane của Kubernetes.\\nVKS (VNGCloud Kubernetes Service) là một dịch vụ được quản lý trên VNGCloud giúp bạn đơn\\ngiản hóa quá trình triển khai và quản lý các ứng dụng dựa trên container. Kubernetes là một nền\\ntảng mã nguồn mở được phát triển bởi Google, được sử dụng rộng rãi để quản lý và triển khai các\\nứng dụng container trên môi trường phân tán.\\n1.2. Những điểm nổi bật của VKS\\nNhững điểm nổi bật của dịch vụ VKS có thể kể đến gồm:\\nQuản lý Control Plane hoàn toàn tự động (Fully Managed control plane): VKS sẽ giải phóng\\nbạn khỏi gánh nặng quản lý Control Plane của Kubernetes, giúp bạn tập trung vào việc phát\\ntriển ứng dụng.\\nHỗ trợ các phiên bản Kubernetes mới nhất: VKS luôn cập nhật những phiên bản Kubernetes\\nmới nhất (minor version từ 1.27, 1.28, 1.29) để đảm bảo bạn luôn tận dụng được những tính\\nnăng tiên tiến nhất.\\nKubernetes Networking: VKS tích hợp Calico CNI, mang lại tính hiệu quả và bảo mật cao.\\nUpgrade seamlessly: VKS hỗ trợ nâng cấp giữa các phiên bản Kubernetes một cách dễ dàng\\nvà nhanh chóng, giúp bạn luôn cập nhật những cải tiến mới nhất.\\nScaling & Healing Automatically: VKS tự động mở rộng Node group khi cần thiết và tự động\\nsửa lỗi khi node gặp vấn đề, giúp bạn tiết kiệm thời gian và công sức quản lý.\\nGiảm chi phí và nâng cao độ tin cậy: VKS triển khai Control Plane của Kubernetes ở chế độ\\nsẵn sàng cao và hoàn toàn miễn phí, giúp bạn tiết kiệm chi phí và nâng cao độ tin cậy cho hệ\\nthống.\\nTích hợp Blockstore Native (Container Storage Interface - CSI): VKS cho phép bạn quản lý\\nBlockstore thông qua YAML của Kubernetes, cung cấp lưu trữ bền vững cho container và hỗ\\ntrợ các tính năng quan trọng như thay đổi kích thước, thay đổi IOPS và snapshot volume.\\nTích hợp Load Balancer (Network Load Balancer, Application Load Balancer) thông qua\\ncác driver được tích hợp sẵn như VNGCloud Controller Mananger, VNGCloud Ingress\\nController: VKS cung cấp khả năng quản lý NLB/ALB thông qua YAML của Kubernetes, giúp\\nbạn dễ dàng expose Service trong Kubernetes ra bên ngoài.\\nNâng cao bảo mật: VKS cho phép bạn tạo Private Node Group với chỉ Private IP và kiểm soát\\nquyền truy cập vào cluster thông qua tính năng Whitelist IP, đảm bảo an toàn cho hệ thống của\\nbạn.\\nNgoài ra, VKS còn có các ưu điểm sau:\\nDễ sử dụng: VKS cung cấp giao diện đơn giản và dễ sử dụng.\\nChi phí hợp lý: VKS cung cấp mức giá cạnh tranh cho các dịch vụ của mình.\\n1.3. VKS cung cấp dịch vụ trên các khu vực (region)\\nnào?\\nHiện tại, trên VKS, chúng tôi đang cung cấp cho bạn 2 cơ sở hạ tầng riêng biệt được đặt tại Hà Nội\\nvà Hồ Chí Minh. Bạn có thể lựa chọn sử dụng VKS trên mỗi region tùy thuộc vào vị trí và nhu cầu\\nthực tế của bạn. Đối với 2 farm HCM03, HAN01, các thông số cụ thể cho mỗi region được chúng\\ntôi cung cấp như sau:\\nKhu vực Hồ Chí Minh (HCM03): https://vks.console.vngcloud.vn\\nKhu vực Hà Nội (HAN01): https://vks-han-1.console.vngcloud.vn\\n1.4. Tài liệu tham khảo:\\nBạn có thể tìm hiểu thêm về VKS tại đường dẫn https://docs.vngcloud.vn/vng-cloud-\\ndocument/vn/vks/vks-la-gi\\n')]"
      ]
     },
     "execution_count": 10,
     "metadata": {},
     "output_type": "execute_result"
    }
   ],
   "execution_count": 10
  },
  {
   "cell_type": "code",
   "id": "fe3103e576b3ee94",
   "metadata": {
    "ExecuteTime": {
     "end_time": "2025-03-03T06:09:59.186100Z",
     "start_time": "2025-03-03T06:09:59.175401Z"
    }
   },
   "source": [
    "len(new_docs)"
   ],
   "outputs": [
    {
     "data": {
      "text/plain": [
       "4"
      ]
     },
     "execution_count": 11,
     "metadata": {},
     "output_type": "execute_result"
    }
   ],
   "execution_count": 11
  },
  {
   "cell_type": "markdown",
   "id": "8824d46f4afcd5c6",
   "metadata": {},
   "source": [
    "## Chunking and save into vector-store database"
   ]
  },
  {
   "cell_type": "code",
   "id": "84d4840891395bb8",
   "metadata": {
    "ExecuteTime": {
     "end_time": "2025-03-03T06:10:04.204739Z",
     "start_time": "2025-03-03T06:10:04.167214Z"
    }
   },
   "source": [
    "from langchain_huggingface.embeddings import HuggingFaceEmbeddings\n",
    "from langchain_text_splitters import RecursiveCharacterTextSplitter\n",
    "from langchain_core.vectorstores import InMemoryVectorStore"
   ],
   "outputs": [],
   "execution_count": 12
  },
  {
   "cell_type": "code",
   "id": "58108268b7a24b4d",
   "metadata": {
    "ExecuteTime": {
     "end_time": "2025-03-03T06:10:17.861187Z",
     "start_time": "2025-03-03T06:10:05.388183Z"
    }
   },
   "source": [
    "embeddings_model = HuggingFaceEmbeddings(\n",
    "    model_name=\"sentence-transformers/paraphrase-multilingual-mpnet-base-v2\",\n",
    ")\n",
    "vector_store = InMemoryVectorStore(embeddings_model)"
   ],
   "outputs": [
    {
     "name": "stderr",
     "output_type": "stream",
     "text": [
      "/opt/anaconda3/envs/llm-evaluation/lib/python3.10/site-packages/tqdm/auto.py:21: TqdmWarning: IProgress not found. Please update jupyter and ipywidgets. See https://ipywidgets.readthedocs.io/en/stable/user_install.html\n",
      "  from .autonotebook import tqdm as notebook_tqdm\n"
     ]
    }
   ],
   "execution_count": 13
  },
  {
   "cell_type": "code",
   "id": "2efd2571acff958d",
   "metadata": {
    "ExecuteTime": {
     "end_time": "2025-03-03T06:10:34.304255Z",
     "start_time": "2025-03-03T06:10:34.277416Z"
    }
   },
   "source": [
    "chunk_size = 7000\n",
    "chunk_overlap = 6800\n",
    "text_splitter = RecursiveCharacterTextSplitter(\n",
    "    chunk_size=chunk_size, chunk_overlap=chunk_overlap\n",
    ")"
   ],
   "outputs": [],
   "execution_count": 14
  },
  {
   "cell_type": "code",
   "id": "8b674fedec1e1cc",
   "metadata": {
    "ExecuteTime": {
     "end_time": "2025-03-03T06:10:35.845576Z",
     "start_time": "2025-03-03T06:10:35.819720Z"
    }
   },
   "source": [
    "splits = text_splitter.split_documents(new_docs)"
   ],
   "outputs": [],
   "execution_count": 15
  },
  {
   "cell_type": "code",
   "id": "991cb849a377ddb5",
   "metadata": {
    "ExecuteTime": {
     "end_time": "2025-03-03T06:10:36.534709Z",
     "start_time": "2025-03-03T06:10:36.010826Z"
    }
   },
   "source": [
    "vector_store.add_documents(splits)  # save documents into vectorstore"
   ],
   "outputs": [
    {
     "data": {
      "text/plain": [
       "['7f580c0d-657a-4b75-b4f2-2a257f20f5c4',\n",
       " '49cc6920-a5d7-4767-ab4c-d2eacd3acbfd',\n",
       " 'e9ac6cdd-babe-4745-ab9d-31ba11bfb1ca',\n",
       " '78f7f007-e21e-4b2a-9b1f-c91c3aae1831',\n",
       " '602af056-88a4-45ef-9b6d-f8e125f9a090',\n",
       " '043e44de-e014-4d1a-b016-774d14129dfb',\n",
       " 'c6970d07-77b3-4906-abc8-e7008ae901d9',\n",
       " '9e0942b0-566a-4763-a130-c94f5b931331',\n",
       " '1ebf6623-c68a-458b-a9dd-7618cad176c3',\n",
       " '0f4d84b9-2c54-4371-885f-1a1104220f88',\n",
       " '52f3720d-d852-4d0d-badd-b7c85a3e54c3',\n",
       " 'c073a93a-6ba0-46d5-af80-e2449f9c0b57',\n",
       " '32daed41-1304-4af0-a0eb-c5818c8390d6',\n",
       " '40df092c-7ff5-426d-8ac7-429ed37aec57',\n",
       " '884cb838-ab0d-4c1d-8756-d7ab5758407a',\n",
       " '394af565-3803-4e26-8065-899844888570',\n",
       " 'd621200e-ffff-46c4-a886-c590541eb10c',\n",
       " '963d97a8-f20b-486a-8572-60269c6738ab',\n",
       " 'd7828e37-b7c5-40a6-95fa-b88f9c4e8450',\n",
       " '8d7aa25c-d5cc-4c7a-ad3c-cec75858d5a5',\n",
       " '1df4eea3-6699-4b72-a22a-752df8698928',\n",
       " 'ac39dd1c-0378-4894-8ced-9710beaddcce',\n",
       " 'be15eac9-3761-4e51-977f-5d37c14a37a5',\n",
       " '1ae8a225-8bf4-475c-b396-ce25fa567d5d',\n",
       " 'a3e72ef9-b4a1-472d-9fd8-adb6a320d29c',\n",
       " '1c542359-e0ff-4b4b-9acd-d3e69684233c',\n",
       " '301e1673-0b12-490b-89f1-96903bbd0902',\n",
       " 'e1506810-040a-4af2-ba39-0a1049ccd0ad',\n",
       " '1387efba-acfd-4085-9663-ed6bd1c7dcda',\n",
       " 'c2802dc6-7bfc-4793-bd09-d5fe9cd4c7d5',\n",
       " '840c3f40-7b9e-4a47-96d2-c507a3613825',\n",
       " 'e25b7fe1-393f-4734-a6d2-81bd21c88bab',\n",
       " '62a56ad8-8972-448c-8821-1a89f2fb2f26',\n",
       " '9ae3ee1e-476e-4911-bee9-3719e485da96',\n",
       " '7e36565d-fcd0-41ed-82e8-6ad1e130b6ac',\n",
       " '0372ae49-f3e4-4f7b-8844-fe6f6948ed29',\n",
       " 'e3d3c184-e63a-4960-bc2c-b071e23fc7d2',\n",
       " '6088e76b-0ea1-4e93-9f41-585b5a32a47f',\n",
       " '4cce9176-5346-4f30-bf95-f1be1563d60b',\n",
       " '2496b3b9-97d0-413d-b383-cada121e65c0',\n",
       " 'b0bef38a-d938-4e61-a553-13fec366c50d',\n",
       " '0704f848-a129-4274-8851-6043ac1af7b2',\n",
       " 'f076aac0-5c4a-4a81-bf2a-64b0d4908a1b',\n",
       " 'feb2c1e1-f6a1-4f78-9b11-0dfceff7fc33',\n",
       " 'e5fa52f5-e9b6-47ad-916e-27c9a0ec0dfa',\n",
       " 'dcde6180-84e5-44fe-9014-62a9b2095359',\n",
       " '2bdc4e81-0c03-42b6-aada-87463f85cd6d',\n",
       " '52634ad3-156b-4918-98b9-ac246d66e6c2',\n",
       " '8a910f73-c69c-48cb-919b-121b1acda32d',\n",
       " '8e252d81-cc8f-4ef7-b265-7915b965bcc7',\n",
       " '6f11b77c-6ff2-449a-a24c-958158f2e975',\n",
       " 'e1dbaa1d-02cd-4366-b225-c0ce7752354a',\n",
       " 'eff7866a-39ed-45e4-adc8-f91430c1d3d8',\n",
       " 'f853eb3e-f7c3-4079-a07e-cb9f29a206f7',\n",
       " '4b1c597d-d75b-4c96-8fd0-74c22caf1b6f',\n",
       " '752a43b3-68ca-41f6-9bfb-102eea56d437',\n",
       " 'b5f391ac-191d-4bcc-9991-a04d24a06b92']"
      ]
     },
     "execution_count": 16,
     "metadata": {},
     "output_type": "execute_result"
    }
   ],
   "execution_count": 16
  },
  {
   "cell_type": "code",
   "id": "52c7f0d3250d589a",
   "metadata": {
    "ExecuteTime": {
     "end_time": "2025-03-03T06:10:38.287502Z",
     "start_time": "2025-03-03T06:10:38.262808Z"
    }
   },
   "source": [
    "retriever = vector_store.as_retriever()"
   ],
   "outputs": [],
   "execution_count": 17
  },
  {
   "cell_type": "code",
   "id": "4267d9aad9924efa",
   "metadata": {
    "ExecuteTime": {
     "end_time": "2025-03-03T06:10:39.830753Z",
     "start_time": "2025-03-03T06:10:39.649946Z"
    }
   },
   "source": [
    "query = \"VKS là gì?\"\n",
    "for i, doc in enumerate(retriever.invoke(query)):\n",
    "    print(f\"Document {i}:\\n{doc}\", end=\"\\n\\n\")"
   ],
   "outputs": [
    {
     "name": "stdout",
     "output_type": "stream",
     "text": [
      "Document 0:\n",
      "page_content='1. Giới thiệu về VNGCloud Kubernetes\n",
      "Service - VKS\n",
      "1.1. VNGCloud Kubernetes Service (VKS) là gì?\n",
      "VNGCloud Kubernetes Service (hay còn gọi là VKS) là một dịch vụ quản lý Kubernetes được cung\n",
      "cấp bởi VNGCloud. VKS giúp bạn triển khai và quản lý các ứng dụng dựa trên container một cách\n",
      "dễ dàng và hiệu quả. VKS giúp bạn tập trung vào việc phát triển ứng dụng mà không cần quan tâm\n",
      "đến việc quản lý Control Plane của Kubernetes.\n",
      "VKS (VNGCloud Kubernetes Service) là một dịch vụ được quản lý trên VNGCloud giúp bạn đơn\n",
      "giản hóa quá trình triển khai và quản lý các ứng dụng dựa trên container. Kubernetes là một nền\n",
      "tảng mã nguồn mở được phát triển bởi Google, được sử dụng rộng rãi để quản lý và triển khai các\n",
      "ứng dụng container trên môi trường phân tán.\n",
      "1.2. Những điểm nổi bật của VKS\n",
      "Những điểm nổi bật của dịch vụ VKS có thể kể đến gồm:\n",
      "Quản lý Control Plane hoàn toàn tự động (Fully Managed control plane): VKS sẽ giải phóng\n",
      "bạn khỏi gánh nặng quản lý Control Plane của Kubernetes, giúp bạn tập trung vào việc phát\n",
      "triển ứng dụng.\n",
      "Hỗ trợ các phiên bản Kubernetes mới nhất: VKS luôn cập nhật những phiên bản Kubernetes\n",
      "mới nhất (minor version từ 1.27, 1.28, 1.29) để đảm bảo bạn luôn tận dụng được những tính\n",
      "năng tiên tiến nhất.\n",
      "Kubernetes Networking: VKS tích hợp Calico CNI, mang lại tính hiệu quả và bảo mật cao.\n",
      "Upgrade seamlessly: VKS hỗ trợ nâng cấp giữa các phiên bản Kubernetes một cách dễ dàng\n",
      "và nhanh chóng, giúp bạn luôn cập nhật những cải tiến mới nhất.\n",
      "Scaling & Healing Automatically: VKS tự động mở rộng Node group khi cần thiết và tự động\n",
      "sửa lỗi khi node gặp vấn đề, giúp bạn tiết kiệm thời gian và công sức quản lý.\n",
      "Giảm chi phí và nâng cao độ tin cậy: VKS triển khai Control Plane của Kubernetes ở chế độ\n",
      "sẵn sàng cao và hoàn toàn miễn phí, giúp bạn tiết kiệm chi phí và nâng cao độ tin cậy cho hệ\n",
      "thống.\n",
      "Tích hợp Blockstore Native (Container Storage Interface - CSI): VKS cho phép bạn quản lý\n",
      "Blockstore thông qua YAML của Kubernetes, cung cấp lưu trữ bền vững cho container và hỗ\n",
      "trợ các tính năng quan trọng như thay đổi kích thước, thay đổi IOPS và snapshot volume.\n",
      "Tích hợp Load Balancer (Network Load Balancer, Application Load Balancer) thông qua\n",
      "các driver được tích hợp sẵn như VNGCloud Controller Mananger, VNGCloud Ingress\n",
      "Controller: VKS cung cấp khả năng quản lý NLB/ALB thông qua YAML của Kubernetes, giúp\n",
      "bạn dễ dàng expose Service trong Kubernetes ra bên ngoài.\n",
      "Nâng cao bảo mật: VKS cho phép bạn tạo Private Node Group với chỉ Private IP và kiểm soát\n",
      "quyền truy cập vào cluster thông qua tính năng Whitelist IP, đảm bảo an toàn cho hệ thống của\n",
      "bạn.\n",
      "Ngoài ra, VKS còn có các ưu điểm sau:\n",
      "Dễ sử dụng: VKS cung cấp giao diện đơn giản và dễ sử dụng.\n",
      "Chi phí hợp lý: VKS cung cấp mức giá cạnh tranh cho các dịch vụ của mình.\n",
      "1.3. VKS cung cấp dịch vụ trên các khu vực (region)\n",
      "nào?\n",
      "Hiện tại, trên VKS, chúng tôi đang cung cấp cho bạn 2 cơ sở hạ tầng riêng biệt được đặt tại Hà Nội\n",
      "và Hồ Chí Minh. Bạn có thể lựa chọn sử dụng VKS trên mỗi region tùy thuộc vào vị trí và nhu cầu\n",
      "thực tế của bạn. Đối với 2 farm HCM03, HAN01, các thông số cụ thể cho mỗi region được chúng\n",
      "tôi cung cấp như sau:\n",
      "Khu vực Hồ Chí Minh (HCM03): https://vks.console.vngcloud.vn\n",
      "Khu vực Hà Nội (HAN01): https://vks-han-1.console.vngcloud.vn\n",
      "1.4. Tài liệu tham khảo:\n",
      "Bạn có thể tìm hiểu thêm về VKS tại đường dẫn https://docs.vngcloud.vn/vng-cloud-\n",
      "document/vn/vks/vks-la-gi' metadata={'source': './../data/vks/pdf/vi/01-vks-la-gi.pdf'}\n",
      "\n",
      "Document 1:\n",
      "page_content='3. Mô hình hoạt động của VKS\n",
      "VNGCloud Kubernetes Service (VKS) hỗ trợ 2 loại cluster chính là Public Cluster và Private\n",
      "Cluster. Đối với node group, VKS hỗ trợ 2 loại node group chính là Public Node Group và\n",
      "Private Node Group. Từ đó, khách hàng có thể kết hợp giữa các loại cluster và node group để\n",
      "tạo ra các mô hình hoạt động phù hợp với yêu cầu của ứng dụng, cụ thể:\n",
      "Public Cluster với Public Node Group: Các node trong nodegroup có địa chỉ IP Public\n",
      "riêng, kết đến nối ControlPlane thông qua IP Public của Kubernetes API Server. Điều này\n",
      "dẫn rủi ro bảo mật cao hơn. Tuy nhiên bạn hoàn toàn có thể hạn chế truy cập đến\n",
      "ControlPlane thông qua tính năng Whitelist IP. Một điều lưu ý là bạn cần đảm bảo không\n",
      "hạn chế truy cập từ các IP của các node trong nodegroup.\n",
      "Public Cluster với Private Node Group: Các node trong nodegroup không có địa chỉ IP\n",
      "Public riêng, không thể kết nối trực tiếp đến ControlPlane. Để các node trong nodegroup\n",
      "có thể kết nối đến ControlPlane, bạn cần sử dụng một NAT Gateway (NATGW). NATGW\n",
      "hoạt động như một trạm chuyển tiếp, cho phép các node kết nối với ControlPlane mà\n",
      "không cần IP Public. VNGCloud khuyến nghị sử dụng Pfsense hoặc Palo Alto như một\n",
      "NATGW cho Cluster của bạn.\n",
      "Private Cluster với Public Node Group: Các node trong nodegroup có địa chỉ IP Public\n",
      "riêng, kết đến nối ControlPlane thông qua IP Private của Kubernetes API Server. Điều này\n",
      "giúp giảm rủi ro bảo mật.\n",
      "Private Cluster với Private Node Group: Các node trong nodegroup không có địa chỉ IP\n",
      "Public riêng, mọi kết nối đến Kubernetes API server đều thông qua IP Private. Điều này\n",
      "giúp tăng cường bảo mật cho cụm Kubernetes của bạn.\n",
      "3.1. So sánh public cluster và private cluster\n",
      "Dưới đây là bảng so sánh giữa việc tạo và sử dụng Public Cluster và Private Cluster trên hệ\n",
      "thống VKS:\n",
      "Kết nối:\n",
      "Public cluster: Sử dụng địa chỉ Public IP để giao tiếp giữa nodes và control plane,\n",
      "giữa client và control plane, giữa nodes và các dịch vụ khác trong VNG Cloud.\n",
      "Private cluster: Sử dụng địa chỉ Private IP để giao tiếp giữa nodes và control plane,\n",
      "giữa client và control plane, giữa nodes và các dịch vụ khác trong VNG Cloud.\n",
      "Bảo mật:\n",
      "Public cluster: Bảo mật trung bình do các kết nối sử dụng Public IP.\n",
      "Private cluster: Bảo mật cao hơn với tất cả kết nối đều private và giới hạn truy cập.\n",
      "Quản lý truy cập:\n",
      "Public cluster: Khó kiểm soát hơn, có thể quản lý truy cập thông qua tính năng\n",
      "Whitelist.\n",
      "Private cluster: Kiểm soát truy cập chặt chẽ, mọi kết nối đều nằm trong mạng private\n",
      "của VNG Cloud, từ đó giảm thiểu nguy cơ từ các cuộc tấn công mạng từ bên ngoài.\n",
      "Khả năng mở rộng (AutoScaling):\n",
      "Public cluster: Dễ dàng mở rộng thông qua tính năng Auto Scaling.\n",
      "Private cluster: Dễ dàng mở rộng thông qua tính năng Auto Scaling.\n",
      "Khả năng tự hồi phục (AutoHealing):\n",
      "Public cluster: Tự động phát hiện lỗi và khởi động lại node (Auto Healing)\n",
      "Private cluster: Tự động phát hiện lỗi và khởi động lại node (Auto Healing)\n",
      "Khả năng truy cập từ bên ngoài:\n",
      "Public cluster: Dễ dàng truy cập từ bất kỳ đâu với\n",
      "Private cluster: Truy cập từ bên ngoài phải qua các giải pháp bảo mật khác.\n",
      "Cấu hình và triển khai:\n",
      "Public cluster: Đơn giản hơn do không yêu cầu thiết lập mạng nội bộ.\n",
      "Private cluster: Phức tạp hơn, yêu cầu cấu hình mạng private và bảo mật.\n",
      "Chi phí:\n",
      "Public cluster: Thường thấp hơn do không cần thiết lập cơ sở hạ tầng bảo mật phức\n",
      "tạp.\n",
      "Private cluster: Chi phí cao hơn do yêu cầu thêm các thành phần bảo mật và quản lý.\n",
      "Cụ thể, khi sử dụng private cluster, bạn cần chi trả chi phí cho 4 private service\n",
      "endpoint được tạo tự động để kết nối tới các dịch vụ trên VNGCloud.\n",
      "Tính linh hoạt:\n",
      "Public cluster: Cao, dễ dàng thay đổi và truy cập các dịch vụ.\n",
      "Private cluster: Linh hoạt hơn trong các ứng dụng yêu cầu bảo mật, nhưng ít linh hoạt\n",
      "hơn cho các ứng dụng yêu cầu truy cập từ bên ngoài.\n",
      "Kết luận:\n",
      "Public Cluster: Phù hợp cho các ứng dụng không yêu cầu bảo mật cao và cần sự linh\n",
      "hoạt, truy cập từ nhiều địa điểm. Dễ dàng triển khai và quản lý nhưng có rủi ro bảo mật\n",
      "cao hơn.\n",
      "Private Cluster: Phù hợp cho các ứng dụng yêu cầu bảo mật cao, tuân thủ nghiêm ngặt\n",
      "các quy định về bảo mật và quyền riêng tư. Mang lại kết nối ổn định và bảo mật, nhưng\n",
      "yêu cầu cấu hình và quản lý phức tạp hơn, cũng như chi phí cao hơn.' metadata={'source': './../data/vks/pdf/vi/03-mo-hinh-hoat-dong.pdf'}\n",
      "\n",
      "Document 2:\n",
      "page_content='cho các tài nguyên  Service  có thuộc tính  serviceType  là  LoadBalancer . Mặc định, một cụm Kubernetes trên VKS đã được cài đặt sẵn\n",
      "plugin VNGCloud LoadBalancer Controller này. Việc cài đặt sẵn này giúp bạn có thể sử dụng NLB mà không cần phải thực hiện thêm bất kỳ\n",
      "thao tác cấu hình nào khác và đảm bảo luôn được cập nhật phiên bản mới nhất. Tuy nhiên người dùng hoàn toàn có thể bật/tắt plugin này\n",
      "thông qua thiết lập Enable vLB Native Integration Driver trên VKS Console.\n",
      "Ngoài ra, người dùng hoàn toàn có thể tự cài đặt plugin VNGCloud LoadBalancer Controller bằng cách thực hiện các bước sau:\n",
      "Bước 1: Tạo một Kubernetes cluster trên VKS, hoặc sử dụng một cluster đã có. Tải ﬁle  kubeconfig  của cluster về thiết bị của bạn.\n",
      "Ngoài ra, bạn nên kiểm tra ﬁle  kubeconfig  này đã có thể kết nối đến cluster thành công hay chưa thông qua  kubectl  CLI.\n",
      "Bước 2: Khởi tạo hoặc sử dụng một IAM Service Account đã có trên IAM Console và thiết lập hai policy  vLBFullAccess  và\n",
      " vServerFullAccess  cho Service Account này. Bạn có thể tham khảo cách tạo Service Account tại https://hcm-\n",
      "3.console.vngcloud.vn/iam/service-accounts. Sau đó, bạn cần lưu lại Client ID và Client Secret của Service Account này.\n",
      "Bước 3: Bạn cần cài đặt Helm 3.0 trên thiết bị của bạn, bạn có thể tham khảo cách cài đặt Helm tại https://helm.sh/docs/intro/install.\n",
      "Sau khi  helm  CLI đã được cài đặt thành công, bạn đã có thể dùng  helm  CLI để cài đặt plugin, lưu ý rằng bạn cần thay thế các giá trị\n",
      "Client ID và Client Secret của Service Account vào lệnh dưới đây:\n",
      "helm install vngcloud-load-balancer-controller oci://vcr.vngcloud.vn/81-vks-public/vks-helm-charts/vngcloud-load-balance\n",
      "Bước 4: Sau khi Helm hoàn tất việc cài đặt VNGCloud LoadBalancer Controller, bạn có thể kiểm tra xem plugin đã hoạt động hay chưa\n",
      "bằng lệnh:\n",
      "kubectl -n kube-system get pod -l app.kubernetes.io/name=vngcloud-load-balancer-controller\n",
      "Dưới đây là ví dụ kết quả trả về khi plugin đã hoạt động:\n",
      "NAME                                                              READY   STATUS    RESTARTS   AGE\n",
      "vngcloud-load-balancer-controller-1736217866-manager-77599vrxpz   1 /1     Running   0           4h24m\n",
      "2.4. Sử dụng Network Load Balancer (NLB) trên VKS\n",
      "Sau khi đã cài đặt plugin VNGCloud LoadBalancer Controller thành công, bạn đã có thể sử dụng NLB thông quà tài nguyên  Service  trên\n",
      "Kubernetes. Dưới đây là một vài tình huống sử dụng NLB trên VKS:\n",
      "Ví dụ 1: Công khai một dịch vụ Nginx trên cổng 80 với NLB đến Internet:\n",
      "apiVersion: apps/v1\n",
      "kind: Deployment\n",
      "metadata:\n",
      "  name: nginx-app\n",
      "spec:\n",
      "  selector:\n",
      "    matchLabels:\n",
      "      app: nginx\n",
      "  replicas: 1 \n",
      "  template:\n",
      "    metadata:\n",
      "      labels:\n",
      "        app: nginx\n",
      "    spec:\n",
      "      containers:\n",
      "      - name: nginx\n",
      "        image: nginx:1.19.1\n",
      "        ports:\n",
      "        - containerPort: 8 0 \n",
      "---\n",
      "apiVersion: v1\n",
      "kind: Service\n",
      "metadata:\n",
      "  name: nginx-service\n",
      "spec:\n",
      "  selector:\n",
      "    app: nginx\n",
      "  type: LoadBalancer \n",
      "  ports:\n",
      "    - protocol: TCP\n",
      "      port: 8 0 \n",
      "      targetPort: 8 0 \n",
      "Ví dụ 2: Triển khai dịch vụ Apache HTTP và chỉ cho phép truy cập nội bộ qua port 8080:\n",
      "apiVersion: apps/v1\n",
      "kind: Deployment\n",
      "metadata:\n",
      "  name: internal-http-apache2-deployment\n",
      "spec:\n",
      "  replicas: 2 \n",
      "  selector:\n",
      "    matchLabels:\n",
      "      app: apache2\n",
      "  template:\n",
      "    metadata:\n",
      "      labels:\n",
      "        app: apache2\n",
      "    spec:\n",
      "      containers:\n",
      "        - name: apache2\n",
      "          image: httpd\n",
      "          ports:\n",
      "            - containerPort: 8 0 \n",
      "---\n",
      "apiVersion: v1\n",
      "kind: Service\n",
      "metadata:\n",
      "  name: internal-http-apache2-service\n",
      "  annotations:\n",
      "    vks.vngcloud.vn/scheme: \"internal\"              # Thiệt lập annotation để tạo NLB nội bộ\n",
      "spec:\n",
      "  selector:\n",
      "    app: apache2\n",
      "  type: LoadBalancer\n",
      "  ports:\n",
      "    - name: http\n",
      "      protocol: TCP\n",
      "      port: 8 0 8 0 \n",
      "      targetPort: 8 0 \n",
      "Ví dụ 3: Triển khai một dịch vụ sử dụng protocol UDP:\n",
      "apiVersion: apps/v1\n",
      "kind: Deployment\n",
      "metadata:\n",
      "  name: udp-server-deployment\n",
      "spec:\n",
      "  selector:\n",
      "    matchLabels:\n",
      "      name: udp-server\n",
      "  replicas: 5 \n",
      "  template:\n",
      "    metadata:\n",
      "      labels:\n",
      "        name: udp-server\n",
      "    spec:\n",
      "      containers:\n",
      "      - name: udp-server\n",
      "        image: vcr.vngcloud.vn/udp-server\n",
      "        imagePullPolicy: Always\n",
      "        ports:\n",
      "        - containerPort: 1 0 0 0 1 \n",
      "          protocol: UDP\n",
      "---\n",
      "apiVersion: v1\n",
      "kind: Service\n",
      "metadata:\n",
      "  name: udp-server-service\n",
      "  annotations:\n",
      "    vks.vngcloud.vn/pool-algorithm: \"source-ip\"   # Thiết lập annotation để chọn thuật toán cân bằng tải\n",
      "  labels:\n",
      "    app: udp-server\n",
      "spec:\n",
      "  type: LoadBalancer\n",
      "  sessionAffinity: ClientIP\n",
      "  ports:\n",
      "  - port: 1 0 0 0 1 \n",
      "    protocol: UDP\n",
      "  selector:\n",
      "    name: udp-server\n",
      "Ví dụ 4: Sử dụng lại một NLB đã có trên hệ thống vLB. Để sử dụng lại một NLB đã có, bạn cần nhập thông tin Load Balancer ID vào\n",
      "annotation  vks.vngcloud.vn/load-balancer-id  của Service:\n",
      "apiVersion: apps/v1\n",
      "kind: Deployment\n",
      "metadata:\n",
      "  name: external-http-nginx-deployment\n",
      "spec:\n",
      "  replicas: 2 \n",
      "  selector:\n",
      "    matchLabels:\n",
      "      app: nginx\n",
      "  template:\n",
      "    metadata:\n",
      "      labels:\n",
      "        app: nginx\n",
      "    spec:\n",
      "      containers:\n",
      "      - name: nginx\n",
      "        image: nginx\n",
      "        ports:\n",
      "        - containerPort: 8 0 \n",
      "---\n",
      "kind: Service\n",
      "apiVersion: v1\n",
      "metadata:\n",
      "  name: external-http-nginx-service\n",
      "  annotations:\n",
      "    vks.vngcloud.vn/load-balancer-id: \"__PUT_YOUR_LOAD_BALANCER_ID__\"\n",
      "spec:\n",
      "  selector:\n",
      "    app: nginx\n",
      "  type: LoadBalancer\n",
      "  ports:\n",
      "  - name: http\n",
      "    port: 8 0 \n",
      "    targetPort: 8 0 \n",
      "Ngoài ra, bạn cũng có thể tìm hiểu thêm về các annotation khác mà bạn có thể sử dụng để tùy chỉnh NLB phù hợp với nhu cầu của bạn tại\n",
      "đường dẫn https://docs.vngcloud.vn/vng-cloud-document/vn/vks/network/lam-viec-voi-network-load-balancing-nlb/cau-hinh-cho-mot-\n",
      "network-load-balancer.\n",
      "2.5. Cấu hình cho một Network Load Balancer\n",
      "Bạn có thể tùy chỉnh hoặc cấu hình NLB phù hợp với nhu cầu của bạn thông qua các annotation dưới đây:\n",
      " vks.vngcloud.vn/load-balancer-id :\n",
      "Bắt buộc phải có trong spec của tài nguyên  Service : Không bắt buộc\n",
      "Ý nghĩa: Dùng để sử dụng lại một NLB sẵn có trên hệ thống vLB. Nếu annotation này không được thiết lập, một NLB mới sẽ được\n",
      "tạo tự động.\n",
      " vks.vngcloud.vn/load-balancer-name :\n",
      "Bắt buộc phải có trong spec của tài nguyên  Service : Không bắt buộc\n",
      "Ý nghĩa: Giá trị của annotation này sẽ dùng làm tên cho NLB của bạn. Nếu annotation này không được thiết lập, VNGCloud\n",
      "LoadBalancer Controller sẽ tự động tạo một tên cho NLB của bạn. Annotation này sẽ không có tác dụng nếu một trong các\n",
      "annotation sau được thiết lập:  vks.vngcloud.vn/load-balancer-id .\n",
      " vks.vngcloud.vn/package-id :\n",
      "Bắt buộc phải có trong spec của tài nguyên  Service : Không bắt buộc\n",
      "Ý nghĩa: Dùng để thiết lập package của NLB. Nếu không được thiết lập, mặc định sẽ sử dụng cấu hình NLB Small. Ngoài ra, bạn\n",
      "cũng có thể dùng annotation này để cấu hình lại package của NLB hiện tại.\n",
      " vks.vngcloud.vn/tags :\n",
      "Bắt buộc phải có trong spec của tài nguyên  Service : Không bắt buộc\n",
      "Ý nghĩa: Tiến hành gắn thẻ cho NLB của bạn. Thẻ này bao gồm các cặp key-value nhằm giúp bạn dễ dàng quản lí các NLB trên\n",
      "VNGCloud Portal.\n",
      " vks.vngcloud.vn/scheme :' metadata={'source': './../data/vks/pdf/vi/02-nlb.pdf'}\n",
      "\n",
      "Document 3:\n",
      "page_content='VNGCloud Portal.\n",
      " vks.vngcloud.vn/scheme :\n",
      "Bắt buộc phải có trong spec của tài nguyên  Service : Không bắt buộc\n",
      "Ý nghĩa: Bao gồm 2 giá trị là  internet-facing  và  internal . Nếu giá trị của annotation này là  internet-facing , NLB sẽ được cấu\n",
      "hình để truy cập từ Internet. Nếu giá trị của annotation này là  internal , NLB sẽ được cấu hình để truy cập từ mạng nội bộ.\n",
      " vks.vngcloud.vn/security-groups :\n",
      "Bắt buộc phải có trong spec của tài nguyên  Service : Không bắt buộc\n",
      "Ý nghĩa: Mặc định, VNGCloud LoadBalancer Controller sẽ tự động tạo một Security Group mới cho NLB của bạn. Tuy nhiên, nếu\n",
      "bạn muốn sử dụng một Security Group đã có, bạn có thể sử dụng annotation này để thiết lập Security Group cho NLB của bạn. Ví\n",
      "dụ:  vks.vngcloud.vn/security-groups: secg-303d9c91-f4b2-400d-8e81-12039167da0c . Ngoài ra, bạn cũng có thể cấu hình nhiều\n",
      "Security Group cho NLB của bạn bằng cách sử dụng dấu phẩy  ,  để ngăn cách giữa các Security Group. Ví dụ:\n",
      " vks.vngcloud.vn/security-groups: secg-303d9c91-f4b2-400d-8e81-12039167da0c,secg-303d9c91-f4b2-400d-8e81-12039167da0d \n",
      ".\n",
      " vks.vngcloud.vn/inbound-cidrs :\n",
      "Bắt buộc phải có trong spec của tài nguyên  Service : Không bắt buộc\n",
      "Ý nghĩa: Mặc định, NLB sẽ được cấu hình để truy cập từ mọi địa chỉ IP. Tuy nhiên, nếu bạn muốn cấu hình NLB để chỉ cho phép truy\n",
      "cập từ một số địa chỉ IP cụ thể, bạn có thể sử dụng annotation này. Ví dụ:  vks.vngcloud.vn/inbound-cidrs: 183.23.23.13 . Ngoài\n",
      "ra, bạn cũng có thể cấu hình nhiều địa chỉ IP cho NLB của bạn bằng cách sử dụng dấu phẩy  ,  để ngăn cách giữa các địa chỉ IP. Ví\n",
      "dụ:  vks.vngcloud.vn/inbound-cidrs: 183.23.23.13,183.23.23.23 .\n",
      " vks.vngcloud.vn/healthy-threshold-count :\n",
      "Bắt buộc phải có trong spec của tài nguyên  Service : Không bắt buộc\n",
      "Ý nghĩa: Là ngưỡng số lần liên tiếp mà một máy chủ back-end phải trả về trạng thái  healthy  để được coi là HEALTHY. Mặc định,\n",
      "giá trị của annotation này là  3 .\n",
      " vks.vngcloud.vn/unhealthy-threshold-count :\n",
      "Bắt buộc phải có trong spec của tài nguyên  Service : Không bắt buộc\n",
      "Ý nghĩa: Là ngưỡng số lần liên tiếp mà một máy chủ back-end phải trả về trạng thái  unhealthy  để được coi là UNHEALTHY. Mặc\n",
      "định, giá trị của annotation này là  3 .\n",
      " vks.vngcloud.vn/healthcheck-interval-seconds :\n",
      "Bắt buộc phải có trong spec của tài nguyên  Service : Không bắt buộc\n",
      "Ý nghĩa: Là khoảng thời gian giữa các lần kiểm tra sức khỏe của máy chủ back-end. Mặc định, giá trị của annotation này là  30  giây.\n",
      " vks.vngcloud.vn/healthcheck-timeout-seconds :\n",
      "Bắt buộc phải có trong spec của tài nguyên  Service : Không bắt buộc\n",
      "Ý nghĩa: Là thời gian tối đa mà một máy chủ back-end phải trả về trạng thái  healthy  hoặc  unhealthy . Mặc định, giá trị của\n",
      "annotation này là  5  giây.\n",
      " vks.vngcloud.vn/healthcheck-protocol :\n",
      "Bắt buộc phải có trong spec của tài nguyên  Service : Không bắt buộc\n",
      "Ý nghĩa: Là giao thức sử dụng để kiểm tra sức khỏe của máy chủ back-end. Mặc định, giá trị của annotation này là  TCP . Ngoài ra,\n",
      "một vài giá trị khác mà bạn có thể sử dụng là  PING-UDP ,  HTTP ,  HTTPS .\n",
      " vks.vngcloud.vn/healthcheck-http-method :\n",
      "Bắt buộc phải có trong spec của tài nguyên  Service : Không bắt buộc\n",
      "Ý nghĩa: Là phương thức HTTP sử dụng để kiểm tra sức khỏe của máy chủ back-end. Mặc định, giá trị của annotation này là  GET .\n",
      "Ngoài ra, một vài giá trị khác mà bạn có thể sử dụng là  PUT ,  POST . Lưu ý rằng annotation này chỉ có tác dụng khi\n",
      " vks.vngcloud.vn/healthcheck-protocol  được thiết lập là  HTTP  hoặc  HTTPS .\n",
      " vks.vngcloud.vn/healthcheck-path :\n",
      "Bắt buộc phải có trong spec của tài nguyên  Service : Không bắt buộc\n",
      "Ý nghĩa: Là đường dẫn sử dụng để kiểm tra sức khỏe của máy chủ back-end. Mặc định, giá trị của annotation này là  / . Lưu ý rằng\n",
      "annotation này chỉ có tác dụng khi  vks.vngcloud.vn/healthcheck-protocol  được thiết lập là  HTTP  hoặc  HTTPS .\n",
      " vks.vngcloud.vn/healthcheck-http-version :\n",
      "Bắt buộc phải có trong spec của tài nguyên  Service : Không bắt buộc\n",
      "Ý nghĩa: Là phiên bản HTTP sử dụng để kiểm tra sức khỏe của máy chủ back-end. Mặc định, giá trị của annotation này là  1.0 .\n",
      "Ngoài ra bạn cũng có thể sử dụng giá trị  1.1  khi cần thiết. Lưu ý rằng annotation này chỉ có tác dụng khi\n",
      " vks.vngcloud.vn/healthcheck-protocol  được thiết lập là  HTTP  hoặc  HTTPS .\n",
      " vks.vngcloud.vn/healthcheck-http-domain-name :\n",
      "Bắt buộc phải có trong spec của tài nguyên  Service : Không bắt buộc\n",
      "Ý nghĩa: Là tên miền sử dụng để kiểm tra sức khỏe của máy chủ back-end. Mặc định, giá trị của annotation này là RỖNG. Lưu ý rằng\n",
      "annotation này chỉ có tác dụng khi  vks.vngcloud.vn/healthcheck-protocol  được thiết lập là  HTTP  hoặc  HTTPS .\n",
      " vks.vngcloud.vn/healthcheck-port :\n",
      "Bắt buộc phải có trong spec của tài nguyên  Service : Không bắt buộc\n",
      "Ý nghĩa: Là cổng sử dụng để kiểm tra sức khỏe của máy chủ back-end. Mặc định, giá trị của annotation này sẽ lấy theo trường  port \n",
      "của tài nguyên  Service  cần dùng NLB này. Lưu ý rằng annotation này chỉ có tác dụng khi\n",
      "vks.vngcloud.vn/healthcheck-protocol  được thiết lập là  HTTP  hoặc  HTTPS .\n",
      " vks.vngcloud.vn/success-codes :\n",
      "Bắt buộc phải có trong spec của tài nguyên  Service : Không bắt buộc\n",
      "Ý nghĩa: Là mã trạng thái HTTP sẽ được coi là thành công khi kiểm tra sức khỏe của máy chủ back-end. Mặc định, giá trị của\n",
      "annotation này là  200 . Lưu ý rằng annotation này chỉ có tác dụng khi  vks.vngcloud.vn/healthcheck-protocol  được thiết lập là\n",
      " HTTP  hoặc  HTTPS .\n",
      " vks.vngcloud.vn/idle-timeout-client :\n",
      "Bắt buộc phải có trong spec của tài nguyên  Service : Không bắt buộc\n",
      "Ý nghĩa: Là thời gian tối đa mà một kết nối từ client có thể không hoạt động trước khi bị đóng. Mặc định, giá trị của annotation này là\n",
      " 50  giây.\n",
      " vks.vngcloud.vn/idle-timeout-member :\n",
      "Bắt buộc phải có trong spec của tài nguyên  Service : Không bắt buộc\n",
      "Ý nghĩa: Là thời gian tối đa mà một kết nối từ máy chủ back-end có thể không hoạt động trước khi bị đóng. Mặc định, giá trị của\n",
      "annotation này là  50  giây.\n",
      " vks.vngcloud.vn/idle-timeout-connection :\n",
      "Bắt buộc phải có trong spec của tài nguyên  Service : Không bắt buộc\n",
      "Ý nghĩa: Là thời gian tối đa mà một kết nối giữa NLB và máy chủ back-end có thể không hoạt động trước khi bị đóng. Mặc định, giá\n",
      "trị của annotation này là  5  giây.\n",
      " vks.vngcloud.vn/pool-algorithm :\n",
      "Bắt buộc phải có trong spec của tài nguyên  Service : Không bắt buộc\n",
      "Ý nghĩa: Là thuật toán cân bằng tải sẽ được sử dụng cho NLB. Mặc định, giá trị của annotation này là  ROUND_ROBIN . Ngoài ra, một\n",
      "vài giá trị khác mà bạn có thể sử dụng là  SOURCE_IP ,  LEAST_CONNECTIONS .\n",
      " vks.vngcloud.vn/target-node-labels :\n",
      "Bắt buộc phải có trong spec của tài nguyên  Service : Không bắt buộc\n",
      "Ý nghĩa: Mặc định VNGCloud LoadBalancer Controller sẽ chọn toàn bộ các node trong cluster để thêm vào pool của NLB. Tuy\n",
      "nhiên, nếu bạn muốn chỉ chọn một số node cụ thể, bạn có thể sử dụng annotation này. Ví dụ:\n",
      " vks.vngcloud.vn/target-node-labels: node-role.kubernetes.io/worker=true . Lưu ý rằng bạn cũng có thể cấu hình nhiều node\n",
      "cho NLB của bạn bằng cách sử dụng dấu phẩy  ,  để ngăn cách giữa các node. Ví dụ:' metadata={'source': './../data/vks/pdf/vi/02-nlb.pdf'}\n",
      "\n"
     ]
    }
   ],
   "execution_count": 18
  },
  {
   "metadata": {},
   "cell_type": "markdown",
   "source": "## Configure some environment variables",
   "id": "22848421e04559c8"
  },
  {
   "metadata": {
    "ExecuteTime": {
     "end_time": "2025-03-03T06:24:14.834737Z",
     "start_time": "2025-03-03T06:24:14.777701Z"
    }
   },
   "cell_type": "code",
   "source": [
    "\n",
    "from modules import utils"
   ],
   "id": "bead72cd3a9d6374",
   "outputs": [],
   "execution_count": 24
  },
  {
   "metadata": {
    "ExecuteTime": {
     "end_time": "2025-03-03T06:24:15.666253Z",
     "start_time": "2025-03-03T06:24:15.638782Z"
    }
   },
   "cell_type": "code",
   "source": [
    "ENV_FILE_PATH = \"/Users/cuongdm8499/Me/git-cuongpiger/secret/work/vngcloud/ai-platform/env\"\n",
    "MODEL_NAME = \"deepseek-ai/DeepSeek-R1-Distill-Llama-70B\"\n",
    "MAX_TOKENS = 32700\n",
    "\n",
    "envs = utils.load_env_to_dict(ENV_FILE_PATH)"
   ],
   "id": "2576238f6a7cc37b",
   "outputs": [],
   "execution_count": 25
  },
  {
   "cell_type": "markdown",
   "id": "c34a9c3cbaedef72",
   "metadata": {},
   "source": [
    "## Setup RAG chain"
   ]
  },
  {
   "cell_type": "code",
   "id": "cf6f0f001515c9b6",
   "metadata": {
    "ExecuteTime": {
     "end_time": "2025-03-03T06:24:17.188019Z",
     "start_time": "2025-03-03T06:24:17.157605Z"
    }
   },
   "source": [
    "from langchain_openai import ChatOpenAI\n",
    "from langchain.prompts import ChatPromptTemplate\n",
    "from langchain.schema.runnable import RunnablePassthrough\n",
    "from langchain.schema.output_parser import StrOutputParser"
   ],
   "outputs": [],
   "execution_count": 26
  },
  {
   "cell_type": "code",
   "id": "ca4fa51cbadbca1c",
   "metadata": {
    "ExecuteTime": {
     "end_time": "2025-03-03T06:24:19.986209Z",
     "start_time": "2025-03-03T06:24:19.926604Z"
    }
   },
   "source": [
    "llm = ChatOpenAI(\n",
    "    openai_api_key=\"EMPTY\",\n",
    "    openai_api_base=envs['VLLM_HOST_URL_2'] + \"/v1/\",\n",
    "    model_name=MODEL_NAME,\n",
    "    max_tokens=MAX_TOKENS,\n",
    "    streaming=True,\n",
    "    model_kwargs={\"stop\": [\"<|eot_id|>\",'<|eom_id|>']},\n",
    ")"
   ],
   "outputs": [
    {
     "name": "stderr",
     "output_type": "stream",
     "text": [
      "/opt/anaconda3/envs/llm-evaluation/lib/python3.10/site-packages/IPython/core/interactiveshell.py:3519: UserWarning: Parameters {'stop'} should be specified explicitly. Instead they were passed in as part of `model_kwargs` parameter.\n",
      "  if await self.run_code(code, result, async_=asy):\n"
     ]
    }
   ],
   "execution_count": 27
  },
  {
   "cell_type": "code",
   "id": "3485687a3ae20832",
   "metadata": {
    "ExecuteTime": {
     "end_time": "2025-03-03T06:24:47.908523Z",
     "start_time": "2025-03-03T06:24:47.881608Z"
    }
   },
   "source": [
    "# Define prompt template\n",
    "template = \"\"\"You are an assistant for question-answering tasks.\n",
    "Use the following pieces of retrieved context to answer the question.\n",
    "If you don't know the answer, just say that you don't know.\n",
    "Use two sentences maximum and keep the answer concise.\n",
    "Question: {question}\n",
    "Context: {context}\n",
    "Answer:\n",
    "\"\"\"\n",
    "prompt = ChatPromptTemplate.from_template(template)\n",
    "# Setup RAG pipeline\n",
    "rag_chain = (\n",
    "        {\"context\": retriever, \"question\": RunnablePassthrough()}\n",
    "        | prompt\n",
    "        | llm\n",
    "        | StrOutputParser()\n",
    ")\n"
   ],
   "outputs": [],
   "execution_count": 29
  },
  {
   "cell_type": "markdown",
   "id": "a37fba84e4734b89",
   "metadata": {},
   "source": [
    "## Preparing the Evaluation Data"
   ]
  },
  {
   "cell_type": "code",
   "id": "3f91dbb9a035143",
   "metadata": {
    "ExecuteTime": {
     "end_time": "2025-03-03T06:24:51.162169Z",
     "start_time": "2025-03-03T06:24:51.061650Z"
    }
   },
   "source": [
    "from ragas import EvaluationDataset, SingleTurnSample"
   ],
   "outputs": [],
   "execution_count": 30
  },
  {
   "cell_type": "code",
   "id": "cdbed9f69b39fbe1",
   "metadata": {
    "ExecuteTime": {
     "end_time": "2025-03-03T06:26:39.419006Z",
     "start_time": "2025-03-03T06:24:51.315666Z"
    }
   },
   "source": [
    "questions = [\"VKS có những tính năng gì nổi bật?\",\n",
    "             \"VKS là gì?\",\n",
    "             \"So sánh public và private cluster trong VKS\",\n",
    "             ]\n",
    "\n",
    "ground_truths = [\n",
    "    \"\"\"\n",
    "    Dịch vụ VKS (VNGCloud Kubernetes Service) có những tính năng nổi bật sau:\n",
    "\n",
    "    Quản lý Control Plane hoàn toàn tự động (Fully Managed control plane): VKS giúp bạn giải phóng khỏi gánh nặng quản lý Control Plane của Kubernetes, giúp bạn tập trung vào việc phát triển ứng dụng.\n",
    "    Hỗ trợ các phiên bản Kubernetes mới nhất: VKS luôn cập nhật những phiên bản Kubernetes mới nhất để đảm bảo bạn luôn tận dụng được những tính năng tiên tiến nhất.\n",
    "    Kubernetes Networking: VKS tích hợp Calico CNI, mang lại tính hiệu quả và bảo mật cao.\n",
    "    Upgrade seamlessly: VKS hỗ trợ nâng cấp giữa các phiên bản Kubernetes một cách dễ dàng và nhanh chóng.\n",
    "    Scaling & Healing Automatically: VKS tự động mở rộng Node group khi cần thiết và tự động sửa lỗi khi node gặp vấn đề, giúp bạn tiết kiệm thời gian và công sức quản lý.\n",
    "    Giảm chi phí và nâng cao độ tin cậy: VKS triển khai Control Plane của Kubernetes ở chế độ sẵn sàng cao và hoàn toàn miễn phí.\n",
    "    Tích hợp Blockstore Native (Container Storage Interface - CSI): VKS cho phép bạn quản lý Blockstore thông qua YAML của Kubernetes, cung cấp lưu trữ bền vững cho container.\n",
    "    Tích hợp Load Balancer (Network Load Balancer, Application Load Balancer): VKS cung cấp khả năng quản lý NLB/ALB thông qua YAML của Kubernetes, giúp bạn dễ dàng expose Service trong Kubernetes ra bên ngoài.\n",
    "    Nâng cao bảo mật: VKS cho phép bạn tạo Private Node Group với chỉ Private IP và kiểm soát quyền truy cập vào cluster.\n",
    "    Ngoài ra, VKS còn có các ưu điểm sau:\n",
    "\n",
    "    Dễ sử dụng: VKS cung cấp giao diện đơn giản và dễ sử dụng.\n",
    "    Chi phí hợp lý: VKS cung cấp mức giá cạnh tranh cho các dịch vụ của mình.\n",
    "    Bạn có muốn tìm hiểu thêm về tính năng nào cụ thể của VKS không?\n",
    "    \"\"\",\n",
    "    \"\"\"\n",
    "    VKS là viết tắt của VNGCloud Kubernetes Service.\n",
    "\n",
    "    Nó là một dịch vụ quản lý Kubernetes được cung cấp bởi VNGCloud.\n",
    "\n",
    "    VKS giúp bạn triển khai và quản lý các ứng dụng dựa trên container một cách dễ dàng và hiệu quả. Nó giải phóng bạn khỏi gánh nặng quản lý Control Plane của Kubernetes, giúp bạn tập trung vào việc phát triển ứng dụng.\n",
    "\n",
    "    Nói cách khác, VKS là một giải pháp giúp bạn dễ dàng sử dụng Kubernetes mà không cần phải tự cài đặt và quản lý nó.\n",
    "    \"\"\",\n",
    "    \"\"\"\n",
    "    Public Cluster và Private Cluster là hai loại cụm Kubernetes chính được hỗ trợ bởi VKS. Mỗi loại có ưu nhược điểm riêng, phù hợp với những nhu cầu bảo mật và sử dụng khác nhau.\n",
    "\n",
    "    Dưới đây là bảng so sánh chi tiết giữa Public Cluster và Private Cluster trong VKS:\n",
    "\n",
    "    Tính năng\tPublic Cluster\tPrivate Cluster\n",
    "    Kết nối\tSử dụng địa chỉ Public IP để giao tiếp giữa nodes, control plane, client và các dịch vụ khác trong VNG Cloud\tSử dụng địa chỉ Private IP để giao tiếp giữa nodes, control plane, client và các dịch vụ khác trong VNG Cloud\n",
    "    Bảo mật\tBảo mật trung bình do các kết nối sử dụng Public IP\tBảo mật cao hơn với tất cả kết nối đều private và giới hạn truy cập\n",
    "    Quản lý truy cập\tKhó kiểm soát hơn, có thể quản lý truy cập thông qua tính năng Whitelist\tKiểm soát truy cập chặt chẽ, mọi kết nối đều nằm trong mạng private của VNG Cloud\n",
    "    Khả năng mở rộng (AutoScaling)\tDễ dàng mở rộng thông qua tính năng Auto Scaling\tDễ dàng mở rộng thông qua tính năng Auto Scaling\n",
    "    Khả năng tự hồi phục (AutoHealing)\tTự động phát hiện lỗi và khởi động lại node (Auto Healing)\tTự động phát hiện lỗi và khởi động lại node (Auto Healing)\n",
    "    Khả năng truy cập từ bên ngoài\tDễ dàng truy cập từ bất kỳ đâu\tTruy cập từ bên ngoài phải qua các giải pháp bảo mật khác\n",
    "    Cấu hình và triển khai\tĐơn giản hơn do không yêu cầu thiết lập mạng nội bộ\tPhức tạp hơn, yêu cầu cấu hình mạng private và bảo mật\n",
    "    Chi phí\tThường thấp hơn do không cần thiết lập cơ sở hạ tầng bảo mật phức tạp\tChi phí cao hơn do yêu cầu thêm các thành phần bảo mật và quản lý\n",
    "    Tính linh hoạt\tCao, dễ dàng thay đổi và truy cập các dịch vụ\tLinh hoạt hơn trong các ứng dụng yêu cầu bảo mật, nhưng ít linh hoạt hơn cho các ứng dụng yêu cầu truy cập từ bên ngoài\n",
    "    Phù hợp với\tCác ứng dụng không yêu cầu bảo mật cao và cần sự linh hoạt, truy cập từ nhiều địa điểm\tCác ứng dụng yêu cầu bảo mật cao, tuân thủ nghiêm ngặt các quy định về bảo mật và quyền riêng tư\n",
    "    Kết luận:\n",
    "\n",
    "    Public Cluster phù hợp cho các ứng dụng không yêu cầu bảo mật cao và cần sự linh hoạt, truy cập từ nhiều địa điểm. Dễ dàng triển khai và quản lý nhưng có rủi ro bảo mật cao hơn.\n",
    "    Private Cluster phù hợp cho các ứng dụng yêu cầu bảo mật cao, tuân thủ nghiêm ngặt các quy định về bảo mật và quyền riêng tư. Mang lại kết nối ổn định và bảo mật, nhưng yêu cầu cấu hình và quản lý phức tạp hơn, cũng như chi phí cao hơn.\n",
    "    Bạn cần cân nhắc kỹ lưỡng nhu cầu của mình để lựa chọn loại cluster phù hợp nhất.\n",
    "    \"\"\"\n",
    "]\n",
    "\n",
    "answers = []\n",
    "contexts = []\n",
    "\n",
    "for query in questions:\n",
    "    answers.append(rag_chain.invoke(query))\n",
    "    contexts.append([docs.page_content for docs in retriever.invoke(query)])\n",
    "\n",
    "# Convert dict to dataset\n",
    "dataset = EvaluationDataset(samples=[SingleTurnSample(\n",
    "    user_input=questions[i],\n",
    "    retrieved_contexts=contexts[i],\n",
    "    response=answers[i],\n",
    "    reference=ground_truths[i]\n",
    ") for i in range(len(questions))])"
   ],
   "outputs": [],
   "execution_count": 31
  },
  {
   "metadata": {},
   "cell_type": "markdown",
   "source": "# Prepare the evaluator model using VertexAI",
   "id": "ab8f037eb87c4f0a"
  },
  {
   "metadata": {
    "ExecuteTime": {
     "end_time": "2025-03-03T06:26:51.090220Z",
     "start_time": "2025-03-03T06:26:49.639942Z"
    }
   },
   "cell_type": "code",
   "source": "from langchain_google_vertexai import ChatVertexAI",
   "id": "f2b87d891b4dd5f6",
   "outputs": [],
   "execution_count": 33
  },
  {
   "metadata": {
    "ExecuteTime": {
     "end_time": "2025-03-03T06:26:54.953364Z",
     "start_time": "2025-03-03T06:26:54.911700Z"
    }
   },
   "cell_type": "code",
   "source": [
    "os.environ[\"GOOGLE_APPLICATION_CREDENTIALS\"] = (\n",
    "    # \"/home/stackops/secret/work/vngcloud/ai-platform/vertex-ai-credential.json\"\n",
    "    \"/Users/cuongdm8499/Me/git-cuongpiger/secret/work/vngcloud/ai-platform/vertex-ai-credential.json\"\n",
    ")"
   ],
   "id": "f0ba1469c2c70f92",
   "outputs": [],
   "execution_count": 34
  },
  {
   "metadata": {
    "ExecuteTime": {
     "end_time": "2025-03-03T06:27:01.909826Z",
     "start_time": "2025-03-03T06:27:01.824909Z"
    }
   },
   "cell_type": "code",
   "source": "evaluator_llm = ChatVertexAI(model_name=\"gemini-1.5-flash\", temperature=0)",
   "id": "9606557cf6f3823e",
   "outputs": [],
   "execution_count": 35
  },
  {
   "cell_type": "markdown",
   "id": "9fd7ed1db38053d1",
   "metadata": {},
   "source": [
    "## Evaluating the RAG application\n"
   ]
  },
  {
   "cell_type": "code",
   "id": "b54650993db0c2e0",
   "metadata": {
    "ExecuteTime": {
     "end_time": "2025-03-03T06:27:08.458451Z",
     "start_time": "2025-03-03T06:27:08.426966Z"
    }
   },
   "source": [
    "from ragas import evaluate\n",
    "from ragas.metrics import (\n",
    "    faithfulness,\n",
    "    answer_relevancy,\n",
    "    context_recall,\n",
    "    context_precision,\n",
    ")\n"
   ],
   "outputs": [],
   "execution_count": 36
  },
  {
   "cell_type": "code",
   "id": "cbeff354787eedd9",
   "metadata": {
    "ExecuteTime": {
     "end_time": "2025-03-03T06:27:23.957486Z",
     "start_time": "2025-03-03T06:27:09.298654Z"
    }
   },
   "source": [
    "result = evaluate(\n",
    "    llm=evaluator_llm,\n",
    "    embeddings=embeddings_model,\n",
    "    dataset=dataset,\n",
    "    metrics=[\n",
    "        context_precision,\n",
    "        context_recall,\n",
    "        faithfulness,\n",
    "        answer_relevancy,\n",
    "    ],\n",
    ")"
   ],
   "outputs": [
    {
     "name": "stderr",
     "output_type": "stream",
     "text": [
      "Evaluating: 100%|██████████| 12/12 [00:11<00:00,  1.01it/s]\n"
     ]
    }
   ],
   "execution_count": 37
  },
  {
   "cell_type": "code",
   "id": "90c580d88405ab50",
   "metadata": {
    "ExecuteTime": {
     "end_time": "2025-03-03T06:28:04.962618Z",
     "start_time": "2025-03-03T06:28:04.917749Z"
    }
   },
   "source": [
    "result"
   ],
   "outputs": [
    {
     "data": {
      "text/plain": [
       "{'context_precision': 1.0000, 'context_recall': 0.7786, 'faithfulness': 0.9785, 'answer_relevancy': 0.9219}"
      ]
     },
     "execution_count": 38,
     "metadata": {},
     "output_type": "execute_result"
    }
   ],
   "execution_count": 38
  },
  {
   "cell_type": "code",
   "id": "7e278cee635436c6",
   "metadata": {
    "ExecuteTime": {
     "end_time": "2025-03-03T06:28:08.025699Z",
     "start_time": "2025-03-03T06:28:07.987417Z"
    }
   },
   "source": [
    "df = result.to_pandas()\n",
    "df"
   ],
   "outputs": [
    {
     "data": {
      "text/plain": [
       "                                    user_input  \\\n",
       "0           VKS có những tính năng gì nổi bật?   \n",
       "1                                   VKS là gì?   \n",
       "2  So sánh public và private cluster trong VKS   \n",
       "\n",
       "                                  retrieved_contexts  \\\n",
       "0  [1. Giới thiệu về VNGCloud Kubernetes\\nService...   \n",
       "1  [1. Giới thiệu về VNGCloud Kubernetes\\nService...   \n",
       "2  [3. Mô hình hoạt động của VKS\\nVNGCloud Kubern...   \n",
       "\n",
       "                                            response  \\\n",
       "0  Được rồi, mình cần回答 câu hỏi \"VKS có những tín...   \n",
       "1  Okay, so I'm trying to figure out what VKS is....   \n",
       "2  Được rồi, mình cần so sánh public cluster và p...   \n",
       "\n",
       "                                           reference  context_precision  \\\n",
       "0  \\n    Dịch vụ VKS (VNGCloud Kubernetes Service...                1.0   \n",
       "1  \\n    VKS là viết tắt của VNGCloud Kubernetes ...                1.0   \n",
       "2  \\n    Public Cluster và Private Cluster là hai...                1.0   \n",
       "\n",
       "   context_recall  faithfulness  answer_relevancy  \n",
       "0        0.785714      1.000000          0.928116  \n",
       "1        0.800000      0.935484          0.902287  \n",
       "2        0.750000      1.000000          0.935439  "
      ],
      "text/html": [
       "<div>\n",
       "<style scoped>\n",
       "    .dataframe tbody tr th:only-of-type {\n",
       "        vertical-align: middle;\n",
       "    }\n",
       "\n",
       "    .dataframe tbody tr th {\n",
       "        vertical-align: top;\n",
       "    }\n",
       "\n",
       "    .dataframe thead th {\n",
       "        text-align: right;\n",
       "    }\n",
       "</style>\n",
       "<table border=\"1\" class=\"dataframe\">\n",
       "  <thead>\n",
       "    <tr style=\"text-align: right;\">\n",
       "      <th></th>\n",
       "      <th>user_input</th>\n",
       "      <th>retrieved_contexts</th>\n",
       "      <th>response</th>\n",
       "      <th>reference</th>\n",
       "      <th>context_precision</th>\n",
       "      <th>context_recall</th>\n",
       "      <th>faithfulness</th>\n",
       "      <th>answer_relevancy</th>\n",
       "    </tr>\n",
       "  </thead>\n",
       "  <tbody>\n",
       "    <tr>\n",
       "      <th>0</th>\n",
       "      <td>VKS có những tính năng gì nổi bật?</td>\n",
       "      <td>[1. Giới thiệu về VNGCloud Kubernetes\\nService...</td>\n",
       "      <td>Được rồi, mình cần回答 câu hỏi \"VKS có những tín...</td>\n",
       "      <td>\\n    Dịch vụ VKS (VNGCloud Kubernetes Service...</td>\n",
       "      <td>1.0</td>\n",
       "      <td>0.785714</td>\n",
       "      <td>1.000000</td>\n",
       "      <td>0.928116</td>\n",
       "    </tr>\n",
       "    <tr>\n",
       "      <th>1</th>\n",
       "      <td>VKS là gì?</td>\n",
       "      <td>[1. Giới thiệu về VNGCloud Kubernetes\\nService...</td>\n",
       "      <td>Okay, so I'm trying to figure out what VKS is....</td>\n",
       "      <td>\\n    VKS là viết tắt của VNGCloud Kubernetes ...</td>\n",
       "      <td>1.0</td>\n",
       "      <td>0.800000</td>\n",
       "      <td>0.935484</td>\n",
       "      <td>0.902287</td>\n",
       "    </tr>\n",
       "    <tr>\n",
       "      <th>2</th>\n",
       "      <td>So sánh public và private cluster trong VKS</td>\n",
       "      <td>[3. Mô hình hoạt động của VKS\\nVNGCloud Kubern...</td>\n",
       "      <td>Được rồi, mình cần so sánh public cluster và p...</td>\n",
       "      <td>\\n    Public Cluster và Private Cluster là hai...</td>\n",
       "      <td>1.0</td>\n",
       "      <td>0.750000</td>\n",
       "      <td>1.000000</td>\n",
       "      <td>0.935439</td>\n",
       "    </tr>\n",
       "  </tbody>\n",
       "</table>\n",
       "</div>"
      ]
     },
     "execution_count": 39,
     "metadata": {},
     "output_type": "execute_result"
    }
   ],
   "execution_count": 39
  },
  {
   "cell_type": "code",
   "id": "8bf9b7955c1e4268",
   "metadata": {
    "ExecuteTime": {
     "end_time": "2025-03-03T06:28:13.568762Z",
     "start_time": "2025-03-03T06:28:13.519967Z"
    }
   },
   "source": [
    "def highlight_cells(value):\n",
    "    \"\"\"Color cells based on score value.\"\"\"\n",
    "    if value < 0.5:\n",
    "        return \"background-color: red; color: white;\"  # Low Score (Bad)\n",
    "    elif 0.5 <= value < 0.8:\n",
    "        return \"background-color: orange; color: black;\"  # Medium Score (Warning)\n",
    "    else:\n",
    "        return \"background-color: lightgreen; color: black;\"  # High Score (Good)\n",
    "\n",
    "\n",
    "def truncate_text(value):\n",
    "    \"\"\"Truncate text values longer than 200 characters.\"\"\"\n",
    "\n",
    "    if isinstance(value, str) and len(value) > 200:\n",
    "        return value[:200]\n",
    "\n",
    "    if isinstance(value, list):\n",
    "        return \"\\n\\n\\n\\n\".join(v[:100] for v in value)\n",
    "\n",
    "    return value\n",
    "\n",
    "\n",
    "# Apply styling\n",
    "styled_df = df.map(truncate_text)  # Truncate text fields\n",
    "styled_df = styled_df.style.map(highlight_cells,\n",
    "                                subset=[\"context_precision\", \"context_recall\", \"faithfulness\", \"answer_relevancy\"])\n",
    "\n",
    "# Display in Jupyter Notebook\n",
    "styled_df\n"
   ],
   "outputs": [
    {
     "data": {
      "text/plain": [
       "<pandas.io.formats.style.Styler at 0x4092da380>"
      ],
      "text/html": [
       "<style type=\"text/css\">\n",
       "#T_7e7c0_row0_col4, #T_7e7c0_row0_col6, #T_7e7c0_row0_col7, #T_7e7c0_row1_col4, #T_7e7c0_row1_col5, #T_7e7c0_row1_col6, #T_7e7c0_row1_col7, #T_7e7c0_row2_col4, #T_7e7c0_row2_col6, #T_7e7c0_row2_col7 {\n",
       "  background-color: lightgreen;\n",
       "  color: black;\n",
       "}\n",
       "#T_7e7c0_row0_col5, #T_7e7c0_row2_col5 {\n",
       "  background-color: orange;\n",
       "  color: black;\n",
       "}\n",
       "</style>\n",
       "<table id=\"T_7e7c0\">\n",
       "  <thead>\n",
       "    <tr>\n",
       "      <th class=\"blank level0\" >&nbsp;</th>\n",
       "      <th id=\"T_7e7c0_level0_col0\" class=\"col_heading level0 col0\" >user_input</th>\n",
       "      <th id=\"T_7e7c0_level0_col1\" class=\"col_heading level0 col1\" >retrieved_contexts</th>\n",
       "      <th id=\"T_7e7c0_level0_col2\" class=\"col_heading level0 col2\" >response</th>\n",
       "      <th id=\"T_7e7c0_level0_col3\" class=\"col_heading level0 col3\" >reference</th>\n",
       "      <th id=\"T_7e7c0_level0_col4\" class=\"col_heading level0 col4\" >context_precision</th>\n",
       "      <th id=\"T_7e7c0_level0_col5\" class=\"col_heading level0 col5\" >context_recall</th>\n",
       "      <th id=\"T_7e7c0_level0_col6\" class=\"col_heading level0 col6\" >faithfulness</th>\n",
       "      <th id=\"T_7e7c0_level0_col7\" class=\"col_heading level0 col7\" >answer_relevancy</th>\n",
       "    </tr>\n",
       "  </thead>\n",
       "  <tbody>\n",
       "    <tr>\n",
       "      <th id=\"T_7e7c0_level0_row0\" class=\"row_heading level0 row0\" >0</th>\n",
       "      <td id=\"T_7e7c0_row0_col0\" class=\"data row0 col0\" >VKS có những tính năng gì nổi bật?</td>\n",
       "      <td id=\"T_7e7c0_row0_col1\" class=\"data row0 col1\" >1. Giới thiệu về VNGCloud Kubernetes\n",
       "Service - VKS\n",
       "1.1. VNGCloud Kubernetes Service (VKS) là gì?\n",
       "VNG\n",
       "\n",
       "\n",
       "\n",
       "3. Mô hình hoạt động của VKS\n",
       "VNGCloud Kubernetes Service (VKS) hỗ trợ 2 loại cluster chính là Public\n",
       "\n",
       "\n",
       "\n",
       "cho các tài nguyên  Service  có thuộc tính  serviceType  là  LoadBalancer . Mặc định, một cụm Kubern\n",
       "\n",
       "\n",
       "\n",
       "VNGCloud Portal.\n",
       " vks.vngcloud.vn/scheme :\n",
       "Bắt buộc phải có trong spec của tài nguyên  Service : Khô</td>\n",
       "      <td id=\"T_7e7c0_row0_col2\" class=\"data row0 col2\" >Được rồi, mình cần回答 câu hỏi \"VKS có những tính năng gì nổi bật?\". Đầu tiên mình sẽ xem qua các tài liệu được cung cấp để tìm thông tin về VKS.\n",
       "\n",
       "Trong Document đầu tiên, có mục 1.2 nêu các điểm nổi bậ</td>\n",
       "      <td id=\"T_7e7c0_row0_col3\" class=\"data row0 col3\" >\n",
       "    Dịch vụ VKS (VNGCloud Kubernetes Service) có những tính năng nổi bật sau:\n",
       "\n",
       "    Quản lý Control Plane hoàn toàn tự động (Fully Managed control plane): VKS giúp bạn giải phóng khỏi gánh nặng quản l</td>\n",
       "      <td id=\"T_7e7c0_row0_col4\" class=\"data row0 col4\" >1.000000</td>\n",
       "      <td id=\"T_7e7c0_row0_col5\" class=\"data row0 col5\" >0.785714</td>\n",
       "      <td id=\"T_7e7c0_row0_col6\" class=\"data row0 col6\" >1.000000</td>\n",
       "      <td id=\"T_7e7c0_row0_col7\" class=\"data row0 col7\" >0.928116</td>\n",
       "    </tr>\n",
       "    <tr>\n",
       "      <th id=\"T_7e7c0_level0_row1\" class=\"row_heading level0 row1\" >1</th>\n",
       "      <td id=\"T_7e7c0_row1_col0\" class=\"data row1 col0\" >VKS là gì?</td>\n",
       "      <td id=\"T_7e7c0_row1_col1\" class=\"data row1 col1\" >1. Giới thiệu về VNGCloud Kubernetes\n",
       "Service - VKS\n",
       "1.1. VNGCloud Kubernetes Service (VKS) là gì?\n",
       "VNG\n",
       "\n",
       "\n",
       "\n",
       "3. Mô hình hoạt động của VKS\n",
       "VNGCloud Kubernetes Service (VKS) hỗ trợ 2 loại cluster chính là Public\n",
       "\n",
       "\n",
       "\n",
       "cho các tài nguyên  Service  có thuộc tính  serviceType  là  LoadBalancer . Mặc định, một cụm Kubern\n",
       "\n",
       "\n",
       "\n",
       "VNGCloud Portal.\n",
       " vks.vngcloud.vn/scheme :\n",
       "Bắt buộc phải có trong spec của tài nguyên  Service : Khô</td>\n",
       "      <td id=\"T_7e7c0_row1_col2\" class=\"data row1 col2\" >Okay, so I'm trying to figure out what VKS is. Let's see, I have some context documents provided. Starting with the first document, it mentions that VNGCloud Kubernetes Service, or VKS, is a managed K</td>\n",
       "      <td id=\"T_7e7c0_row1_col3\" class=\"data row1 col3\" >\n",
       "    VKS là viết tắt của VNGCloud Kubernetes Service.\n",
       "\n",
       "    Nó là một dịch vụ quản lý Kubernetes được cung cấp bởi VNGCloud.\n",
       "\n",
       "    VKS giúp bạn triển khai và quản lý các ứng dụng dựa trên container một </td>\n",
       "      <td id=\"T_7e7c0_row1_col4\" class=\"data row1 col4\" >1.000000</td>\n",
       "      <td id=\"T_7e7c0_row1_col5\" class=\"data row1 col5\" >0.800000</td>\n",
       "      <td id=\"T_7e7c0_row1_col6\" class=\"data row1 col6\" >0.935484</td>\n",
       "      <td id=\"T_7e7c0_row1_col7\" class=\"data row1 col7\" >0.902287</td>\n",
       "    </tr>\n",
       "    <tr>\n",
       "      <th id=\"T_7e7c0_level0_row2\" class=\"row_heading level0 row2\" >2</th>\n",
       "      <td id=\"T_7e7c0_row2_col0\" class=\"data row2 col0\" >So sánh public và private cluster trong VKS</td>\n",
       "      <td id=\"T_7e7c0_row2_col1\" class=\"data row2 col1\" >3. Mô hình hoạt động của VKS\n",
       "VNGCloud Kubernetes Service (VKS) hỗ trợ 2 loại cluster chính là Public\n",
       "\n",
       "\n",
       "\n",
       "dụ:  vks.vngcloud.vn/security-groups: secg-303d9c91-f4b2-400d-8e81-12039167da0c . Ngoài ra, bạn cũng\n",
       "\n",
       "\n",
       "\n",
       "VNGCloud Portal.\n",
       " vks.vngcloud.vn/scheme :\n",
       "Bắt buộc phải có trong spec của tài nguyên  Service : Khô\n",
       "\n",
       "\n",
       "\n",
       "Security Group cho NLB của bạn bằng cách sử dụng dấu phẩy  ,  để ngăn cách giữa các Security Group. </td>\n",
       "      <td id=\"T_7e7c0_row2_col2\" class=\"data row2 col2\" >Được rồi, mình cần so sánh public cluster và private cluster trong VKS. Đầu tiên, mình sẽ đọc các thông tin được cung cấp trong documents để tìm hiểu về hai loại cluster này.\n",
       "\n",
       "Trong document đầu tiên,</td>\n",
       "      <td id=\"T_7e7c0_row2_col3\" class=\"data row2 col3\" >\n",
       "    Public Cluster và Private Cluster là hai loại cụm Kubernetes chính được hỗ trợ bởi VKS. Mỗi loại có ưu nhược điểm riêng, phù hợp với những nhu cầu bảo mật và sử dụng khác nhau.\n",
       "\n",
       "    Dưới đây là b</td>\n",
       "      <td id=\"T_7e7c0_row2_col4\" class=\"data row2 col4\" >1.000000</td>\n",
       "      <td id=\"T_7e7c0_row2_col5\" class=\"data row2 col5\" >0.750000</td>\n",
       "      <td id=\"T_7e7c0_row2_col6\" class=\"data row2 col6\" >1.000000</td>\n",
       "      <td id=\"T_7e7c0_row2_col7\" class=\"data row2 col7\" >0.935439</td>\n",
       "    </tr>\n",
       "  </tbody>\n",
       "</table>\n"
      ]
     },
     "execution_count": 40,
     "metadata": {},
     "output_type": "execute_result"
    }
   ],
   "execution_count": 40
  },
  {
   "cell_type": "code",
   "execution_count": null,
   "id": "4c55a7d56fc68a4d",
   "metadata": {
    "ExecuteTime": {
     "end_time": "2025-02-26T10:35:32.476599Z",
     "start_time": "2025-02-26T10:35:32.475138Z"
    }
   },
   "outputs": [],
   "source": []
  }
 ],
 "metadata": {
  "kernelspec": {
   "display_name": "llm-evaluation",
   "language": "python",
   "name": "python3"
  },
  "language_info": {
   "codemirror_mode": {
    "name": "ipython",
    "version": 3
   },
   "file_extension": ".py",
   "mimetype": "text/x-python",
   "name": "python",
   "nbconvert_exporter": "python",
   "pygments_lexer": "ipython3",
   "version": "3.10.16"
  }
 },
 "nbformat": 5,
 "nbformat_minor": 9
}
